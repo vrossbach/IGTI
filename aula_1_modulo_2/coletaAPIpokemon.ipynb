{
 "cells": [
  {
   "cell_type": "markdown",
   "metadata": {},
   "source": [
    "# 1. Python"
   ]
  },
  {
   "cell_type": "markdown",
   "metadata": {},
   "source": [
    "## 1.1. Coleções"
   ]
  },
  {
   "cell_type": "markdown",
   "metadata": {},
   "source": [
    "As coleções permitem armazenar múltiplos itens dentro de uma única unidade. As três coleções mais utilizadas em Python, são: **listas**, **tuplas** e **dicionários**."
   ]
  },
  {
   "cell_type": "markdown",
   "metadata": {},
   "source": [
    "### 1.1.1. Listas"
   ]
  },
  {
   "cell_type": "markdown",
   "metadata": {},
   "source": [
    "Lista é uma coleção de valores indexada, em que cada valor é identificado por um índice. O primeiro item na lista está no índice 0, o segundo no índice 1 e assim por diante."
   ]
  },
  {
   "cell_type": "code",
   "execution_count": null,
   "metadata": {},
   "outputs": [],
   "source": [
    "nomes = [] # Criar uma lista vazia\n",
    "nomes.append('Daniel Viana') # Append adiciona um item no fim da lista\n",
    "print(nomes) #imprime a lista na tela"
   ]
  },
  {
   "cell_type": "code",
   "execution_count": null,
   "metadata": {},
   "outputs": [],
   "source": [
    "nomes.append('Ana Maria')\n",
    "nomes.append('Carlos')"
   ]
  },
  {
   "cell_type": "code",
   "execution_count": null,
   "metadata": {},
   "outputs": [],
   "source": [
    "print(type(nomes)) # imprime o tipo de dado\n",
    "print(len(nomes)) #imprime o tamanho da lista\n",
    "print(nomes)\n",
    "print(nomes[1]) #imprime o item que está na posição 1 da lista"
   ]
  },
  {
   "cell_type": "code",
   "execution_count": null,
   "metadata": {},
   "outputs": [],
   "source": [
    "nomes[1] = 'Bia'\n",
    "print(nomes)"
   ]
  },
  {
   "cell_type": "code",
   "execution_count": null,
   "metadata": {},
   "outputs": [],
   "source": [
    "nomes.insert(1, 'Rafael') #insere um elemento na lista em uma posição específica\n",
    "print(nomes)"
   ]
  },
  {
   "cell_type": "code",
   "execution_count": null,
   "metadata": {},
   "outputs": [],
   "source": [
    "nomes.remove('Bia') #remove um elemento da lista\n",
    "print(nomes)"
   ]
  },
  {
   "cell_type": "code",
   "execution_count": null,
   "metadata": {},
   "outputs": [],
   "source": [
    "nomes.pop(1) #remove um elemento com base no índice\n",
    "print(nomes)"
   ]
  },
  {
   "cell_type": "markdown",
   "metadata": {},
   "source": [
    "### 1.1.2. Tuplas"
   ]
  },
  {
   "cell_type": "markdown",
   "metadata": {},
   "source": [
    "Tupla é uma estrutura de dados semelhante a lista. Porém, ela tem a característica de ser **imutável**, ou seja, após uma tupla ser criada, ela **não pode ser alterada**."
   ]
  },
  {
   "cell_type": "code",
   "execution_count": null,
   "metadata": {},
   "outputs": [],
   "source": [
    "nomes = ('Carlos', 'Henrique', 'Gabriel') #cria um tupla"
   ]
  },
  {
   "cell_type": "code",
   "execution_count": null,
   "metadata": {},
   "outputs": [],
   "source": [
    "print(type(nomes))\n",
    "print(len(nomes))\n",
    "print(nomes)"
   ]
  },
  {
   "cell_type": "code",
   "execution_count": null,
   "metadata": {},
   "outputs": [],
   "source": [
    "print(nomes[2])"
   ]
  },
  {
   "cell_type": "code",
   "execution_count": null,
   "metadata": {},
   "outputs": [],
   "source": [
    "nomes.append('Ana') # NÃO FUNCIONA - TUPLA NÃO PODE SER ALTERADA"
   ]
  },
  {
   "cell_type": "code",
   "execution_count": null,
   "metadata": {},
   "outputs": [],
   "source": [
    "nomes[1] = 'Bia' # NÃO FUNCIONA - TUPLA NÃO PODE SER ALTERADA"
   ]
  },
  {
   "cell_type": "markdown",
   "metadata": {},
   "source": [
    "### 1.1.3. Dicionários"
   ]
  },
  {
   "cell_type": "markdown",
   "metadata": {},
   "source": [
    "Os dicionários representam coleções de dados que contém na sua estrutura um conjunto de pares chave/valor, nos quais cada chave individual tem um valor associado."
   ]
  },
  {
   "cell_type": "code",
   "execution_count": null,
   "metadata": {},
   "outputs": [],
   "source": [
    "cliente = {\n",
    "    'Nome': 'Carla',\n",
    "    'Endereco': 'Rua Python',\n",
    "    'Cidade':'BH',\n",
    "    'Telefone': '9900005555'\n",
    "} # Cria um dicionário"
   ]
  },
  {
   "cell_type": "code",
   "execution_count": null,
   "metadata": {},
   "outputs": [],
   "source": [
    "print(type(cliente))\n",
    "print(len(cliente))\n",
    "print(cliente)"
   ]
  },
  {
   "cell_type": "code",
   "execution_count": null,
   "metadata": {},
   "outputs": [],
   "source": [
    "print(cliente['Cidade']) # imprime o valor que está na chave Cidade"
   ]
  },
  {
   "cell_type": "code",
   "execution_count": null,
   "metadata": {},
   "outputs": [],
   "source": [
    "print(cliente['Nome']) # imprime o valor que está na chave Nome"
   ]
  },
  {
   "cell_type": "code",
   "execution_count": null,
   "metadata": {},
   "outputs": [],
   "source": [
    "cliente['Idade'] = 45 # Adiciona um novo elemento no dicionário\n",
    "print(cliente)"
   ]
  },
  {
   "cell_type": "code",
   "execution_count": null,
   "metadata": {},
   "outputs": [],
   "source": [
    "del cliente['Cidade']\n",
    "print(cliente)"
   ]
  },
  {
   "cell_type": "code",
   "execution_count": null,
   "metadata": {},
   "outputs": [],
   "source": [
    "cliente2 = {\n",
    "    'Nome': 'Carla',\n",
    "    'Endereco': 'Rua Python',\n",
    "    'Cidade':'BH',\n",
    "    'Telefone': ['9900005555', '8844446666']\n",
    "} # Cria um dicionário\n",
    "print(cliente2)"
   ]
  },
  {
   "cell_type": "code",
   "execution_count": null,
   "metadata": {},
   "outputs": [],
   "source": [
    "print(type(cliente2))"
   ]
  },
  {
   "cell_type": "code",
   "execution_count": null,
   "metadata": {},
   "outputs": [],
   "source": [
    "tel = cliente2['Telefone']\n",
    "print(type(tel))\n",
    "print(len(tel))\n",
    "print(tel)"
   ]
  },
  {
   "cell_type": "code",
   "execution_count": null,
   "metadata": {},
   "outputs": [],
   "source": [
    "print(tel[1])"
   ]
  },
  {
   "cell_type": "code",
   "execution_count": null,
   "metadata": {},
   "outputs": [],
   "source": [
    "print(cliente2['Telefone'][0])"
   ]
  },
  {
   "cell_type": "markdown",
   "metadata": {},
   "source": [
    "### 1.1.4. Resumo"
   ]
  },
  {
   "cell_type": "code",
   "execution_count": null,
   "metadata": {},
   "outputs": [],
   "source": [
    "nomes = ['Carla', 'Daniel', 'Ingrid', 'Roberto']\n",
    "estacoes = ('Primavera', 'Verão', 'Outono', 'Inverno')\n",
    "pessoa = {\n",
    "    'Nome': 'Ana',\n",
    "    'email' : 'ana@ana123.com.br'\n",
    "}\n",
    "\n",
    "print(type(nomes)) # list\n",
    "print(type(estacoes)) # tuple\n",
    "print(type(pessoa)) # dict"
   ]
  },
  {
   "cell_type": "markdown",
   "metadata": {},
   "source": [
    "# Coleta de dados de API"
   ]
  },
  {
   "cell_type": "markdown",
   "metadata": {},
   "source": [
    "## API Pokémon"
   ]
  },
  {
   "cell_type": "code",
   "execution_count": null,
   "metadata": {},
   "outputs": [],
   "source": [
    "# Se as bibliocas não forem instaladas, fazer a instalação das mesmas\n",
    "import json\n",
    "import requests"
   ]
  },
  {
   "cell_type": "code",
   "execution_count": null,
   "metadata": {},
   "outputs": [],
   "source": [
    "response = requests.get(\"https://pokeapi.co/api/v2/pokemon/pikachu\")"
   ]
  },
  {
   "cell_type": "code",
   "execution_count": null,
   "metadata": {},
   "outputs": [],
   "source": [
    "print(response.status_code) #imprime o status da requisição"
   ]
  },
  {
   "cell_type": "code",
   "execution_count": null,
   "metadata": {},
   "outputs": [],
   "source": [
    "print(response.content) #imprime o conteúdo do retornado pela API"
   ]
  },
  {
   "cell_type": "code",
   "execution_count": null,
   "metadata": {},
   "outputs": [],
   "source": [
    "dados = json.loads(response.content) #serializa a resposta obtida"
   ]
  },
  {
   "cell_type": "markdown",
   "metadata": {},
   "source": []
  },
  {
   "cell_type": "code",
   "execution_count": null,
   "metadata": {},
   "outputs": [],
   "source": [
    "for pokemon in dados: #percorre o JSON \n",
    "    print(pokemon)"
   ]
  },
  {
   "cell_type": "markdown",
   "metadata": {},
   "source": []
  },
  {
   "cell_type": "code",
   "execution_count": null,
   "metadata": {},
   "outputs": [],
   "source": [
    "print(dados[\"id\"]) #id\n",
    "print(dados[\"name\"]) #nome\n",
    "print(dados[\"height\"]) #altura\n",
    "print(dados[\"weight\"]) #peso\n",
    "print(dados[\"types\"]) #tipos"
   ]
  },
  {
   "cell_type": "code",
   "execution_count": null,
   "metadata": {},
   "outputs": [],
   "source": [
    "pokemon = {}\n",
    "\n",
    "pokemon[\"name\"] = dados[\"name\"]\n",
    "pokemon[\"id\"] = dados[\"id\"]\n",
    "pokemon[\"height\"] = dados[\"height\"]\n",
    "pokemon[\"weight\"] = dados[\"weight\"]\n",
    "\n",
    "\n",
    "tipo_pok = []\n",
    "\n",
    "for tipo in dados[\"types\"]:\n",
    "    tipo_pok.append(tipo[\"type\"][\"name\"])\n",
    "\n",
    "pokemon[\"type\"] = tipo_pok"
   ]
  },
  {
   "cell_type": "code",
   "execution_count": null,
   "metadata": {},
   "outputs": [],
   "source": [
    "print(pokemon)"
   ]
  },
  {
   "cell_type": "markdown",
   "metadata": {},
   "source": [
    "# Coleta os dados para armazenar no Mysql"
   ]
  },
  {
   "cell_type": "code",
   "execution_count": null,
   "metadata": {},
   "outputs": [],
   "source": [
    "nomes_pokemons = [\"charmander\",\"squirtle\",\"rattata\",\"pikachu\",\"clefairy\",\"meowth\",\"psyduck\",\"poliwag\",\"ponyta\",\"cubone\",\"horsea\",\"electabuzz\",\"magmar\",\"porygon\",\"snorlax\",\"dratini\",\"dragonair\"]"
   ]
  },
  {
   "cell_type": "code",
   "execution_count": null,
   "metadata": {},
   "outputs": [],
   "source": [
    "pokemon_list = []\n",
    "for nome in nomes_pokemons:\n",
    "    data = requests.get(\"https://pokeapi.co/api/v2/pokemon/\"+nome)\n",
    "    data_json = json.loads(data.content)\n",
    "    \n",
    "    pokemon = {}\n",
    "\n",
    "    pokemon[\"name\"] = data_json[\"name\"]\n",
    "    pokemon[\"id\"] = data_json[\"id\"]\n",
    "    pokemon[\"height\"] = data_json[\"height\"]\n",
    "    pokemon[\"weight\"] = data_json[\"weight\"]  \n",
    "\n",
    "    tipo_pok = []\n",
    "\n",
    "    for tipo in data_json[\"types\"]:\n",
    "        tipo_pok.append(tipo[\"type\"][\"name\"])\n",
    "\n",
    "    pokemon[\"type\"] = tipo_pok\n",
    "    \n",
    "    pokemon_list.append(pokemon)   "
   ]
  },
  {
   "cell_type": "code",
   "execution_count": null,
   "metadata": {},
   "outputs": [],
   "source": [
    "print(pokemon_list[0])"
   ]
  },
  {
   "cell_type": "code",
   "execution_count": null,
   "metadata": {},
   "outputs": [],
   "source": [
    "import mysql.connector"
   ]
  },
  {
   "cell_type": "code",
   "execution_count": null,
   "metadata": {},
   "outputs": [],
   "source": [
    "\n",
    "mydb = mysql.connector.connect(\n",
    "    host='localhost',\n",
    "    user='root',\n",
    "    password='123456',\n",
    "    database='teste'\n",
    ")\n",
    "\n",
    "print(mydb)\n",
    "\n",
    "mycursor = mydb.cursor()"
   ]
  },
  {
   "cell_type": "code",
   "execution_count": null,
   "metadata": {
    "scrolled": true
   },
   "outputs": [],
   "source": [
    "mycursor.execute(\"SHOW TABLES\")\n",
    "\n",
    "for tb in mycursor:\n",
    "    print(tb)"
   ]
  },
  {
   "cell_type": "markdown",
   "metadata": {},
   "source": []
  },
  {
   "cell_type": "code",
   "execution_count": null,
   "metadata": {},
   "outputs": [],
   "source": [
    "for pokemon in pokemon_list:\n",
    "    tipo_pok = pokemon[\"type\"][0]\n",
    "    \n",
    "    query = \"INSERT INTO tb_type (type) SELECT * FROM (SELECT '%s') AS tmp \" % tipo_pok\n",
    "    query += \"WHERE NOT EXISTS (SELECT type FROM tb_type WHERE type = '%s') LIMIT 1;\"  % tipo_pok\n",
    "\n",
    "    mycursor.execute(query)\n",
    "\n",
    "    #Fazer a confirmação da inserção\n",
    "    mydb.commit()\n",
    "\n",
    "    print(mycursor.rowcount, \"registro(s) inserido(s).\")"
   ]
  },
  {
   "cell_type": "code",
   "execution_count": null,
   "metadata": {},
   "outputs": [],
   "source": [
    "for pokemon in pokemon_list:\n",
    "    tipo_pok = pokemon[\"type\"][0]\n",
    "    \n",
    "    query = \"INSERT INTO tb_pokemon VALUES(%s, '%s', %s, %s, (SELECT id FROM tb_type WHERE type LIKE '%s')) \" % (pokemon[\"id\"], pokemon[\"name\"], pokemon[\"height\"], pokemon[\"weight\"], tipo_pok)\n",
    "    \n",
    "    mycursor.execute(query)\n",
    "\n",
    "    #Fazer a confirmação da inserção    \n",
    "    mydb.commit()\n",
    "\n",
    "    print(mycursor.rowcount, \" registro inserido.\")"
   ]
  },
  {
   "cell_type": "code",
   "execution_count": null,
   "metadata": {},
   "outputs": [],
   "source": [
    "mydb.close() #Fechar o banco de dados"
   ]
  }
 ],
 "metadata": {
  "kernelspec": {
   "display_name": "Python 3",
   "language": "python",
   "name": "python3"
  },
  "language_info": {
   "codemirror_mode": {
    "name": "ipython",
    "version": 3
   },
   "file_extension": ".py",
   "mimetype": "text/x-python",
   "name": "python",
   "nbconvert_exporter": "python",
   "pygments_lexer": "ipython3",
   "version": "3.7.1"
  }
 },
 "nbformat": 4,
 "nbformat_minor": 4
}
