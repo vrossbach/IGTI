{
 "cells": [
  {
   "cell_type": "markdown",
   "metadata": {},
   "source": [
    "# Módulo 2 - Desafio"
   ]
  },
  {
   "cell_type": "code",
   "execution_count": 2,
   "metadata": {},
   "outputs": [
    {
     "ename": "ModuleNotFoundError",
     "evalue": "No module named 'mysql'",
     "output_type": "error",
     "traceback": [
      "\u001b[1;31m---------------------------------------------------------------------------\u001b[0m",
      "\u001b[1;31mModuleNotFoundError\u001b[0m                       Traceback (most recent call last)",
      "\u001b[1;32m<ipython-input-2-82bdbfee8185>\u001b[0m in \u001b[0;36m<module>\u001b[1;34m\u001b[0m\n\u001b[0;32m      3\u001b[0m \u001b[1;32mfrom\u001b[0m \u001b[0mdatetime\u001b[0m \u001b[1;32mimport\u001b[0m \u001b[0mdatetime\u001b[0m\u001b[1;33m\u001b[0m\u001b[1;33m\u001b[0m\u001b[0m\n\u001b[0;32m      4\u001b[0m \u001b[1;32mfrom\u001b[0m \u001b[0mdateutil\u001b[0m\u001b[1;33m.\u001b[0m\u001b[0mrelativedelta\u001b[0m \u001b[1;32mimport\u001b[0m \u001b[0mrelativedelta\u001b[0m\u001b[1;33m\u001b[0m\u001b[1;33m\u001b[0m\u001b[0m\n\u001b[1;32m----> 5\u001b[1;33m \u001b[1;32mimport\u001b[0m \u001b[0mmysql\u001b[0m\u001b[1;33m.\u001b[0m\u001b[0mconnector\u001b[0m\u001b[1;33m\u001b[0m\u001b[1;33m\u001b[0m\u001b[0m\n\u001b[0m\u001b[0;32m      6\u001b[0m \u001b[1;32mimport\u001b[0m \u001b[0mrequests\u001b[0m\u001b[1;33m\u001b[0m\u001b[1;33m\u001b[0m\u001b[0m\n",
      "\u001b[1;31mModuleNotFoundError\u001b[0m: No module named 'mysql'"
     ]
    }
   ],
   "source": [
    "# Importação de bibliotecas\n",
    "import json\n",
    "from datetime import datetime\n",
    "from dateutil.relativedelta import relativedelta\n",
    "import mysql.connector\n",
    "import requests"
   ]
  },
  {
   "cell_type": "code",
   "execution_count": 3,
   "metadata": {},
   "outputs": [
    {
     "ename": "NameError",
     "evalue": "name 'requests' is not defined",
     "output_type": "error",
     "traceback": [
      "\u001b[1;31m---------------------------------------------------------------------------\u001b[0m",
      "\u001b[1;31mNameError\u001b[0m                                 Traceback (most recent call last)",
      "\u001b[1;32m<ipython-input-3-a25eea401445>\u001b[0m in \u001b[0;36m<module>\u001b[1;34m\u001b[0m\n\u001b[0;32m      1\u001b[0m \u001b[1;31m# API para coletar os dados\u001b[0m\u001b[1;33m\u001b[0m\u001b[1;33m\u001b[0m\u001b[1;33m\u001b[0m\u001b[0m\n\u001b[1;32m----> 2\u001b[1;33m \u001b[0mresponse\u001b[0m \u001b[1;33m=\u001b[0m \u001b[0mrequests\u001b[0m\u001b[1;33m.\u001b[0m\u001b[0mget\u001b[0m\u001b[1;33m(\u001b[0m\u001b[1;34m\"https://api-coleta-dados.herokuapp.com/api/pessoas\"\u001b[0m\u001b[1;33m)\u001b[0m\u001b[1;33m\u001b[0m\u001b[1;33m\u001b[0m\u001b[0m\n\u001b[0m",
      "\u001b[1;31mNameError\u001b[0m: name 'requests' is not defined"
     ]
    }
   ],
   "source": [
    "# API para coletar os dados\n",
    "response = requests.get(\"https://api-coleta-dados.herokuapp.com/api/pessoas\")"
   ]
  },
  {
   "cell_type": "code",
   "execution_count": null,
   "metadata": {},
   "outputs": [],
   "source": [
    "# Imprimir status da requisição (200)\n",
    "print(response.status_code)"
   ]
  },
  {
   "cell_type": "code",
   "execution_count": null,
   "metadata": {},
   "outputs": [],
   "source": [
    "# Imprimir retorno da API\n",
    "print(response.content)"
   ]
  },
  {
   "cell_type": "code",
   "execution_count": null,
   "metadata": {},
   "outputs": [],
   "source": [
    "# Serializar o conteúdo binário da API \n",
    "dados = json.loads(response.content)"
   ]
  },
  {
   "cell_type": "code",
   "execution_count": null,
   "metadata": {},
   "outputs": [],
   "source": [
    "for pessoa in dados:\n",
    "    print(pessoa)"
   ]
  },
  {
   "cell_type": "code",
   "execution_count": null,
   "metadata": {},
   "outputs": [],
   "source": [
    "mydb = mysql.connector.connect(\n",
    "host = 'localhost',\n",
    "user = 'root',\n",
    "passowrd = 'igti',\n",
    "database = 'desafio_modulo2'\n",
    ")"
   ]
  },
  {
   "cell_type": "code",
   "execution_count": null,
   "metadata": {},
   "outputs": [],
   "source": [
    "mycursor = mydb.cursor()"
   ]
  },
  {
   "cell_type": "code",
   "execution_count": null,
   "metadata": {},
   "outputs": [],
   "source": [
    "# Inserir estados\n",
    "for pessoa in dados:\n",
    "    sigla_uf = pessoa['estado']\n",
    "    \n",
    "    query = \"INSERT INTO TB ESTADO (sigla) SELECT * FROM(SELECT'%s') AS tmp\" % sigla_uf\n",
    "    query += \"WHERE NOT EXISTS (SELECT sigla FROM TB_ESTADO WHERE sigla = '%s') LIMIT 1;\" % sigla_uf\n",
    "    mycursor.execute(query)\n",
    "    \n",
    "    # Confirmação da inserção\n",
    "    mydb.commit()"
   ]
  },
  {
   "cell_type": "code",
   "execution_count": null,
   "metadata": {},
   "outputs": [],
   "source": [
    "print(mycursor.rowcount, \"registro(s) inserido(s).\")"
   ]
  },
  {
   "cell_type": "code",
   "execution_count": null,
   "metadata": {},
   "outputs": [],
   "source": [
    "# Inserir cidades\n",
    "for pessoa in dados:\n",
    "    cidade = pessoa['cidade']\n",
    "    \n",
    "    query = \"INSERT INTO TB_CIDADE (nome,id_estado) (SELECT * FROM (SELECT '{}', (SELECT id FROM TB_ESTADO \" \\\n",
    "            \"WHERE SIGLA = '{}')) AS tmp \".format(cidade, pessoa['estado'])\n",
    "    query += \"WHERE NOT EXISTS (SELECT nome FROM TB_CIDADE WHERE nome = '{}')LIMI 1);\".format(cidade)\n",
    "    mycursor.execute(query)\n",
    "    mydb.commit()"
   ]
  },
  {
   "cell_type": "code",
   "execution_count": null,
   "metadata": {},
   "outputs": [],
   "source": [
    "print(mycursor.rowcount, \"registro(s) inserido(s).\")"
   ]
  },
  {
   "cell_type": "code",
   "execution_count": null,
   "metadata": {},
   "outputs": [],
   "source": [
    "# Inserir cores\n",
    "for pessoa in dados:\n",
    "    cor = pessoa['cor']\n",
    "    \n",
    "    query = \"INSERT INTO TB_COR(cor) SELECT * FROM (SELECT'{}') AS tmp\".format(cor))\"\n",
    "    query += \"WHERE NOT EXISTS (select cor FROM TB_COR WHERE cor = '{}') LIMIT 1;\".format(cor)\n",
    "    mycursor.execute(query)\n",
    "    mydb.commit()"
   ]
  },
  {
   "cell_type": "code",
   "execution_count": null,
   "metadata": {},
   "outputs": [],
   "source": [
    "print(mycursor.rowcount, \"registro(s) inserido(s)\")"
   ]
  },
  {
   "cell_type": "code",
   "execution_count": null,
   "metadata": {},
   "outputs": [],
   "source": [
    "# Inserir tipo sanguíneo\n",
    "for pessoa in dados:\n",
    "    tipo_sanguineo = pessoa['tipo_sanguineo']\n",
    "    query = \"INSERT INTO TB_TIPOSANGUINEO(tipo) SELECT * FROM (SELECT '{}') AS tmp\". format(tipo_sanguineo)\n",
    "    query += \"WHERE NOT EXISTS (SELECT tipo FROM TB_TIPOSANGUINEO WHERE tipo = '{}') LIMIT 1;\".format(tipo_sanguineo)\n",
    "    mycursor.execute(query)\n",
    "    mydb.commit()"
   ]
  },
  {
   "cell_type": "code",
   "execution_count": null,
   "metadata": {},
   "outputs": [],
   "source": [
    "print(mycursor.rowcount, \"registro(s) inserido(s).\")"
   ]
  },
  {
   "cell_type": "code",
   "execution_count": null,
   "metadata": {},
   "outputs": [],
   "source": [
    "for pessoa in dados:\n",
    "    if pessoa['idade'] is None:\n",
    "        idade = relativedelta(datetime.now(), datetime.strptime(pessoa['data_nasc'], \"%d/%m/%Y\"))\n",
    "        pessoa['idade'] = idade.years\n",
    "    \n",
    "    if len(pessoa['data_nasc']) < 10:\n",
    "        diff_date = datetime.now() - relativedelta(years=pessoa['idade'])\n",
    "        ano_nasc = diff_date.year\n",
    "        if datetime.strptime(pessoa['data_nasc'] + '/' + str(datetime.now().year), \"%d/%m/%Y\") > datetime.now():\n",
    "            ano_nasc = ano_nasc - 1\n",
    "        pessoa['data_nasc'] = pessoa['data_nasc'] + str(ano_nasc)\n",
    "    \n",
    "    query = \"INSERT INTO TB_PESSOA (nome,idade,data_nasc,sexo,signo,altura,peso,id_cidade,id_cor,id_tiposanguineo) \" \\\n",
    "            \"VALUES \" \\\n",
    "            \"('{}','{}',str_to_date('{}','%d/%m/%Y'),'{}','{}','{}','{}', (SELECT id FROM TB_CIDADE \" \\\n",
    "            \"WHERE nome = '{}'), (SELECT id FROM TB_COR WHERE cor = '{}'), (SELECT id FROM TB_TIPOSANGUINEO WHERE \" \\\n",
    "            \"tipo = '{}')); \".format(pessoa['nome'], pessoa['idade'], pessoa['data_nasc'], pessoa['sexo'][0:1],\n",
    "                                     pessoa['signo'], pessoa['altura'].replace(',', '.'), pessoa['peso'],\n",
    "                                     pessoa['cidade'],\n",
    "                                     pessoa['cor'], pessoa['tipo_sanguineo'])\n",
    "    mycursor.execute(query)\n",
    "    mydb.commit()"
   ]
  },
  {
   "cell_type": "code",
   "execution_count": null,
   "metadata": {},
   "outputs": [],
   "source": [
    "print(mycursor.rowcount, \"registro(s) inserido(s).\")"
   ]
  }
 ],
 "metadata": {
  "kernelspec": {
   "display_name": "Python 3",
   "language": "python",
   "name": "python3"
  },
  "language_info": {
   "codemirror_mode": {
    "name": "ipython",
    "version": 3
   },
   "file_extension": ".py",
   "mimetype": "text/x-python",
   "name": "python",
   "nbconvert_exporter": "python",
   "pygments_lexer": "ipython3",
   "version": "3.8.5"
  }
 },
 "nbformat": 4,
 "nbformat_minor": 4
}
