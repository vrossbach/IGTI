{
 "cells": [
  {
   "cell_type": "code",
   "execution_count": 1,
   "metadata": {},
   "outputs": [],
   "source": [
    "import json\n",
    "import pymongo\n",
    "import pprint"
   ]
  },
  {
   "cell_type": "code",
   "execution_count": 2,
   "metadata": {},
   "outputs": [],
   "source": [
    "client = pymongo.MongoClient('localhost', 27017)"
   ]
  },
  {
   "cell_type": "code",
   "execution_count": 3,
   "metadata": {},
   "outputs": [],
   "source": [
    "db = client.igti"
   ]
  },
  {
   "cell_type": "code",
   "execution_count": 4,
   "metadata": {},
   "outputs": [],
   "source": [
    "collection = db.video_game_sales"
   ]
  },
  {
   "cell_type": "code",
   "execution_count": 13,
   "metadata": {},
   "outputs": [
    {
     "data": {
      "text/plain": [
       "<pymongo.results.InsertManyResult at 0x195954745c0>"
      ]
     },
     "execution_count": 13,
     "metadata": {},
     "output_type": "execute_result"
    }
   ],
   "source": [
    "def readJson():\n",
    "    filename = 'videogame_sales_mongo.json'\n",
    "\n",
    "    with open(filename, 'r', encoding='utf8') as f:\n",
    "        return json.load(f)\n",
    "\n",
    "\n",
    "data = readJson()\n",
    "\n",
    "collection.insert_many(data)"
   ]
  },
  {
   "cell_type": "code",
   "execution_count": 14,
   "metadata": {},
   "outputs": [
    {
     "name": "stdout",
     "output_type": "stream",
     "text": [
      "Pergunta 7\n",
      "'Grand Theft Auto: San Andreas'\n"
     ]
    }
   ],
   "source": [
    "#Pergunta 7 - Resposta: Grand Theft Auto: San Andreas\n",
    "for documents in collection.find({\"Platform\": \"PS2\"}).sort(\"Global_Sales\", -1).limit(1):\n",
    "  print(\"Pergunta 7\")\n",
    "  pprint.pprint(documents['Name'])"
   ]
  },
  {
   "cell_type": "code",
   "execution_count": 15,
   "metadata": {},
   "outputs": [
    {
     "name": "stdout",
     "output_type": "stream",
     "text": [
      "Pergunta 8\n",
      "1\n",
      "Pergunta 8\n",
      "3\n"
     ]
    }
   ],
   "source": [
    "#Pergunta 8 - Resposta: 3\n",
    "for documents in collection.find({}).sort(\"EU_Sales\", -1).limit(2):\n",
    "  print(\"Pergunta 8\")\n",
    "  pprint.pprint(documents['Rank'])"
   ]
  },
  {
   "cell_type": "code",
   "execution_count": 25,
   "metadata": {},
   "outputs": [
    {
     "name": "stdout",
     "output_type": "stream",
     "text": [
      "Pergunta 9\n",
      "'Sora no Otoshimono: DokiDoki Summer Vacation'\n"
     ]
    }
   ],
   "source": [
    "#Pergunta 9 - Resposta: Sora no Otoshimono: DokiDoki Summer Vacation\n",
    "for documents in collection.find({\"Year\": 2010}).sort(\"Global_Sales\", 1).limit(1):\n",
    "  print(\"Pergunta 9\")\n",
    "  pprint.pprint(documents['Name'])"
   ]
  },
  {
   "cell_type": "code",
   "execution_count": 30,
   "metadata": {},
   "outputs": [
    {
     "name": "stdout",
     "output_type": "stream",
     "text": [
      "Pergunta 10\n",
      "'Wii'\n"
     ]
    }
   ],
   "source": [
    "#Pergunta 10 - Resposta: Wii\n",
    "for documents in collection.find({\"Year\": 2008}).sort(\"Global_Sales\", -1).limit(1):\n",
    "  print(\"Pergunta 10\")\n",
    "  pprint.pprint(documents['Platform'])"
   ]
  },
  {
   "cell_type": "code",
   "execution_count": 18,
   "metadata": {},
   "outputs": [
    {
     "name": "stdout",
     "output_type": "stream",
     "text": [
      "Pergunta 11\n",
      "'Call of Duty: Black Ops 3'\n"
     ]
    }
   ],
   "source": [
    "#Pergunta 11 - Resposta: Call of Duty: Black Ops 3\n",
    "print(\"Pergunta 11\")\n",
    "pprint.pprint(collection.find_one({\"Platform\": \"PS4\"})['Name'])"
   ]
  },
  {
   "cell_type": "code",
   "execution_count": 19,
   "metadata": {},
   "outputs": [
    {
     "name": "stdout",
     "output_type": "stream",
     "text": [
      "Pergunta 12\n",
      "1265\n"
     ]
    }
   ],
   "source": [
    "#Pergunta 12 - Resposta: 1265\n",
    "print(\"Pergunta 12\")\n",
    "pprint.pprint(collection.count_documents({\"Platform\": \"X360\"}))"
   ]
  },
  {
   "cell_type": "code",
   "execution_count": 20,
   "metadata": {},
   "outputs": [
    {
     "name": "stdout",
     "output_type": "stream",
     "text": [
      "Pergunta 13\n",
      "'3DS'\n"
     ]
    }
   ],
   "source": [
    "#Pergunta 13 - Resposta: 3DS\n",
    "for documents in collection.find({\"Year\": 2015}).sort(\"JP_Sales\", -1).limit(1):\n",
    "  print(\"Pergunta 13\")\n",
    "  pprint.pprint(documents['Platform'])"
   ]
  },
  {
   "cell_type": "code",
   "execution_count": 21,
   "metadata": {},
   "outputs": [
    {
     "name": "stdout",
     "output_type": "stream",
     "text": [
      "Pergunta 14\n",
      "1607\n"
     ]
    }
   ],
   "source": [
    "#Pergunta 14 - Resposta: 1607\n",
    "for documents in collection.find({\"Platform\": \"XOne\",\"Name\": \"The Witcher 3: Wild Hunt\"}):\n",
    "  print(\"Pergunta 14\")\n",
    "  pprint.pprint(documents['Rank'])"
   ]
  },
  {
   "cell_type": "code",
   "execution_count": 22,
   "metadata": {},
   "outputs": [
    {
     "name": "stdout",
     "output_type": "stream",
     "text": [
      "Pergunta 15\n",
      "851\n"
     ]
    }
   ],
   "source": [
    "#Pergunta 15 - Resposta: 851\n",
    "print(\"Pergunta 15\")\n",
    "pprint.pprint(collection.count_documents({\"Global_Sales\":{\"$gte\":2}}))"
   ]
  }
 ],
 "metadata": {
  "kernelspec": {
   "display_name": "Python 3",
   "language": "python",
   "name": "python3"
  },
  "language_info": {
   "codemirror_mode": {
    "name": "ipython",
    "version": 3
   },
   "file_extension": ".py",
   "mimetype": "text/x-python",
   "name": "python",
   "nbconvert_exporter": "python",
   "pygments_lexer": "ipython3",
   "version": "3.8.5"
  }
 },
 "nbformat": 4,
 "nbformat_minor": 4
}
