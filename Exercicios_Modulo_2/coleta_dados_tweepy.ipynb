{
 "cells": [
  {
   "cell_type": "code",
   "execution_count": 63,
   "metadata": {},
   "outputs": [],
   "source": [
    "import pymongo\n",
    "import tweepy"
   ]
  },
  {
   "cell_type": "code",
   "execution_count": 64,
   "metadata": {},
   "outputs": [],
   "source": [
    "con = pymongo.MongoClient('localhost', 27017)"
   ]
  },
  {
   "cell_type": "code",
   "execution_count": 65,
   "metadata": {},
   "outputs": [],
   "source": [
    "db = con.twitterdb"
   ]
  },
  {
   "cell_type": "code",
   "execution_count": 66,
   "metadata": {},
   "outputs": [],
   "source": [
    "consumer_key = \"0D3B4WaOc60yFDe6PW05sqzM3\"\n",
    "consumer_secret = \"jQuXptgiV45jViym2Noiu2Ji44VUFNUmV3S4uKscvhoFgVLCT4\"\n",
    "access_token = \"1337884964860387335-0pjJd2M7Tu4enQidmmXoMiQP1VBJWd\"\n",
    "access_token_secret = \"hNO8uBhqP836l7PpuJl4ZjPzzkjgFYXn3Vdxnesqpqh8X\""
   ]
  },
  {
   "cell_type": "code",
   "execution_count": 67,
   "metadata": {},
   "outputs": [],
   "source": [
    "auth = tweepy.OAuthHandler(consumer_key, consumer_secret)\n",
    "auth.set_access_token(access_token, access_token_secret)\n",
    "token = tweepy.API(auth)"
   ]
  },
  {
   "cell_type": "code",
   "execution_count": 110,
   "metadata": {},
   "outputs": [],
   "source": [
    "keyword = ('Brazil OR Brasil')"
   ]
  },
  {
   "cell_type": "code",
   "execution_count": 111,
   "metadata": {},
   "outputs": [],
   "source": [
    "tweets = token.search(q=keyword, count=100, result_type='mixed')"
   ]
  },
  {
   "cell_type": "code",
   "execution_count": 112,
   "metadata": {},
   "outputs": [],
   "source": [
    "collection = db.tweets_keywords"
   ]
  },
  {
   "cell_type": "code",
   "execution_count": 113,
   "metadata": {},
   "outputs": [
    {
     "name": "stderr",
     "output_type": "stream",
     "text": [
      "<ipython-input-113-1a70292c1cc1>:1: DeprecationWarning: count is deprecated. Use estimated_document_count or count_documents instead. Please note that $where must be replaced by $expr, $near must be replaced by $geoWithin with $center, and $nearSphere must be replaced by $geoWithin with $centerSphere\n",
      "  db.tweets_keywords.count()\n"
     ]
    },
    {
     "data": {
      "text/plain": [
       "10"
      ]
     },
     "execution_count": 113,
     "metadata": {},
     "output_type": "execute_result"
    }
   ],
   "source": [
    "db.tweets_keywords.count()"
   ]
  },
  {
   "cell_type": "code",
   "execution_count": 114,
   "metadata": {},
   "outputs": [
    {
     "data": {
      "text/plain": [
       "10"
      ]
     },
     "execution_count": 114,
     "metadata": {},
     "output_type": "execute_result"
    }
   ],
   "source": [
    "db.tweets_keywords.count_documents({})"
   ]
  },
  {
   "cell_type": "code",
   "execution_count": 115,
   "metadata": {},
   "outputs": [
    {
     "name": "stdout",
     "output_type": "stream",
     "text": [
      "Total de tweets coletados: 100.\n"
     ]
    }
   ],
   "source": [
    "print(\"Total de tweets coletados: %s.\" % (len(tweets)))"
   ]
  },
  {
   "cell_type": "code",
   "execution_count": 116,
   "metadata": {},
   "outputs": [
    {
     "name": "stdout",
     "output_type": "stream",
     "text": [
      "Usuário: {'oatila'} \n",
      "Tweet: {'Vocês ansiosos por vacina como se a vida de alguém dependesse disso. Como se morressem mais de 500 brasileiros por… https://t.co/4TBhj7Yijp'}\n",
      "Usuário: {'SecPompeo'} \n",
      "Tweet: {'The United States is committed to peaceful and prosperous space exploration alongside our partners from around the… https://t.co/YoayhaUKSV'}\n",
      "Usuário: {'AAbdenur'} \n",
      "Tweet: {'No vaccine plan.\\nNo economy plan.\\nNo humanitarian plan.\\nNo climate plan.\\nNo education plan.\\nNo cooperation plan.\\nNo… https://t.co/WhDdDlsYZ0'}\n",
      "Usuário: {'Mike02454864'} \n",
      "Tweet: {'RT @rippedmaxim: Brazil in 2 days https://t.co/RyyhEuqLoN'}\n",
      "Usuário: {'Cleitincrf'} \n",
      "Tweet: {'RT @legadaodamassa: O VERDADEIRO LEWANDOWSKI MELHOR DO MUNDO É ESSE AQUI BRASIL!!!!!!!!! https://t.co/gILuFpN1u9'}\n",
      "Usuário: {'flordeentina'} \n",
      "Tweet: {'RT @zev_dr: Thank you Dr. Weintraub.  Brazil is blessed to have a visionary like you. God should watch over you, your family, and your nati…'}\n",
      "Usuário: {'fmoreira1935'} \n",
      "Tweet: {'RT @PROF_WILKIN2: A face do Brasil... https://t.co/pOxBxv7iG3'}\n",
      "Usuário: {'madridcrvg'} \n",
      "Tweet: {'RT @newscolina: ESTAMOS NA FINAAAAAAAL!\\n\\nO Gigante venceu o Atlético Mineiro em São Januário e está classificado para finalíssima da Copa d…'}\n",
      "Usuário: {'gustosantoos'} \n",
      "Tweet: {'RT @legadaodamassa: O VERDADEIRO LEWANDOWSKI MELHOR DO MUNDO É ESSE AQUI BRASIL!!!!!!!!! https://t.co/gILuFpN1u9'}\n",
      "Usuário: {'camillolaw'} \n",
      "Tweet: {'RT @leandroruschel: Segundo Barroso, é função do Estado proteger o indivíduo contra a sua própria desinformação ou escolha equivocada.\\n\\nAin…'}\n",
      "Usuário: {'rcandrade1973'} \n",
      "Tweet: {'RT @leandroruschel: Era 2001, sob governo FHC, que a galera do FSM chamava de \"neoliberal\". O Brasil havia sido resgatado pelo FMI, então o…'}\n",
      "Usuário: {'mercuryismyking'} \n",
      "Tweet: {'RT @artebowie: sem brincadeira o brasil ainda se segura pois temos o supla como cidadão'}\n",
      "Usuário: {'OPRESSORA20'} \n",
      "Tweet: {'RT @leandroruschel: Segundo Barroso, é função do Estado proteger o indivíduo contra a sua própria desinformação ou escolha equivocada.\\n\\nAin…'}\n",
      "Usuário: {'mehyeluvl'} \n",
      "Tweet: {'@trajaza ter saúde mental boa, realizar sonhos, viajar pra fora do Brasil, tirar ótimas notas'}\n",
      "Usuário: {'MarcosP23133443'} \n",
      "Tweet: {'@CUT_Brasil https://t.co/oopXN2GeZj'}\n",
      "Usuário: {'oxemelis'} \n",
      "Tweet: {'RT @mattkkj: as crianças são o futuro do Brasil kkkkkjkkkkkkkkkk https://t.co/BQAgMvlUyi'}\n",
      "Usuário: {'washingtonncp'} \n",
      "Tweet: {'RT @sergiodireita1: Com a melhor primeira-dama que o Brasil já teve. https://t.co/QLuCuQibM7'}\n",
      "Usuário: {'Davikingj'} \n",
      "Tweet: {'RT @legadaodamassa: O VERDADEIRO LEWANDOWSKI MELHOR DO MUNDO É ESSE AQUI BRASIL!!!!!!!!! https://t.co/gILuFpN1u9'}\n",
      "Usuário: {'narizinf'} \n",
      "Tweet: {'odiar o brasil eh tao 12 anos... https://t.co/fDxp5nGm65'}\n",
      "Usuário: {'Cafulioo'} \n",
      "Tweet: {'@VictoriaJustice You are so special to me! 🥺\\nI don’t have more words to describe how important u are to me! I’m so… https://t.co/m9KoBGXKUW'}\n",
      "Usuário: {'MiguelOpressor'} \n",
      "Tweet: {'@5Maneco STF puteiro do Brasil'}\n",
      "Usuário: {'LucianoCSilva'} \n",
      "Tweet: {'@MP_Theorema @grisagregorio Ou seja, a estatística do Vietnam aponta a realidade educacional do país. \\n\\nA do Brasil… https://t.co/7xHkOvE0yK'}\n",
      "Usuário: {'buenoaveces'} \n",
      "Tweet: {'RT @AndersonAzvdo: @AlajuelenseArg Saludo desde Fortaleza, Brasil! Soy Manudo desde la ciudad de Fortaleza, estado de lo Ceará. 🦁🇨🇷 🔴⚫️'}\n",
      "Usuário: {'LdG9dPjal0Zjk1T'} \n",
      "Tweet: {'RT @hulknaps: Brazil fucking rules actually https://t.co/TSVIo7MoIF'}\n",
      "Usuário: {'IsaHisaga'} \n",
      "Tweet: {'RT @luchaalmada: De los 5 casos importados: 2 vienen de República Dominicana, 1 de Panamá, 1 de México y 1 de Brasil. Los detalles en la pr…'}\n",
      "Usuário: {'legant66'} \n",
      "Tweet: {'RT @ggreenwald: NBC News: \"Release WikiLeaks\\' Julian Assange, say current and former world leaders\"\\n\\nSignatories of an open letter to Prime…'}\n",
      "Usuário: {'JodiendoParejo'} \n",
      "Tweet: {'RT @jesuscasique1: Inflación interanual noviembre 2020-noviembre 2019\\n\\n🇦🇷Argentina 35,8%\\n🇧🇴Bolivia -1,10%\\n🇧🇷Brasil 4,31%\\n🇨🇱Chile 2,7%\\n🇨🇴Col…'}\n",
      "Usuário: {'MaraAlv41337064'} \n",
      "Tweet: {'RT @BolsonaroSP: Lançamento do selo alusivo aos 90 anos do maior comunicador do Brasil, Senor Abravanel, também conhecido como Silvio Santo…'}\n",
      "Usuário: {'vinicoelegante'} \n",
      "Tweet: {'@stortzara de nada mulher mais bonita do sul do brasil'}\n",
      "Usuário: {'OLGAAMORIM2'} \n",
      "Tweet: {'RT @o_antagonista: Após uma reunião de quase três horas, as lideranças do PT, PDT, PSB, PSOL e PCdoB fecharam uma frente contra a candidatu…'}\n",
      "Usuário: {'arielprado_'} \n",
      "Tweet: {'RT @ultimadivisao: Bolsonaro acabou de secar os principais times de Minas.\\n\\n\"Pode ter certeza que o Cruzeiro vai subir, o Galo vai ser camp…'}\n",
      "Usuário: {'Eu_Sou_O_Hacker'} \n",
      "Tweet: {'RT @oatila: Março, com 300 mortes em um dia na Itália: \\ntodo mundo em casa, palmas na janela para os profissionais de saúde.\\n\\nDezembro, com…'}\n",
      "Usuário: {'BrazilianReport'} \n",
      "Tweet: {'Rising #COVID19 cases in Armação dos Buzios has led courts to close down local hotels and commerce. Holidaymakers h… https://t.co/C2SlvSWoXe'}\n",
      "Usuário: {'afrodithoficial'} \n",
      "Tweet: {'✨ ✨\\nSomos a loja virtual Afrodith OFICIAL com lindas lingeries e Moda Praia, com preço ótimo e qualidade excelente… https://t.co/NsaSVrhiio'}\n",
      "Usuário: {'almirlucio60'} \n",
      "Tweet: {'@haidut   how to protect yourself from the vaccine if it is mandatory in Brazil, with NAM?'}\n",
      "Usuário: {'GiseleC1078'} \n",
      "Tweet: {'@iamjakelyne Que mulher Brasil! Linda por dentro e maravilhosa por fora, dona de um sorriso fácil, sincero e amável… https://t.co/O6V4C6vx2C'}\n",
      "Usuário: {'MaxSz90'} \n",
      "Tweet: {'O interessante é que outros países muito bem desenvolvidos já estão aplicando a vacina na sua população e não vejo… https://t.co/jKaNH3v8Nw'}\n",
      "Usuário: {'cmtepiedade'} \n",
      "Tweet: {'RT @gisapatriamada: @MichelM_Oficial Assiste o especial de natal do Brasil paralelo \\nO segundo episódio o príncipe fala sobre postagens nas…'}\n",
      "Usuário: {'Joyce_Moura15'} \n",
      "Tweet: {'RT @Biiacrvg_: RESPEITA A MELHOR BASE DO BRASIL!!!'}\n",
      "Usuário: {'Democratico83'} \n",
      "Tweet: {'RT @FalaoSirva: @IzabellaCastr15 @RomeuZema É um crime, o inimigo do Brasil é a classe política, o povo pobre devia ser mais unido contra a…'}\n",
      "Usuário: {'guil_solera'} \n",
      "Tweet: {'RT @nilojs6: @edsonnunesbarbo @Ismario974 @38Paty_ @Helenova31 @pandaisento @juniorsignorell @JoOrsine @marlicris @MarcuseJe @SManipulado @…'}\n",
      "Usuário: {'CamDembaba1908'} \n",
      "Tweet: {'RT @thiagopaiacam: Pra vcs q desistiram, vou falar:\\nSp não vai ser campeão.\\nTem 2 clássicos, na última rodada tem o Flamengo,tem copa do Br…'}\n",
      "Usuário: {'rafaelmotafr'} \n",
      "Tweet: {'RT @legadaodamassa: O VERDADEIRO LEWANDOWSKI MELHOR DO MUNDO É ESSE AQUI BRASIL!!!!!!!!! https://t.co/gILuFpN1u9'}\n",
      "Usuário: {'Gaxstr'} \n",
      "Tweet: {'RT @gorilagato: o brasil é um país muito triste mas também é o único lugar do mundo em que é possível ser genuinamente feliz'}\n",
      "Usuário: {'Carlosmno_'} \n",
      "Tweet: {'Uma pena o Brasil ser um país tão injusto. https://t.co/jGQwe52nXi'}\n",
      "Usuário: {'iFelipeMelo'} \n",
      "Tweet: {'RT @crvgbase: Fim de jogo em SJ com vitória do Vasco! Estamos na final da Copa do Brasil Sub-20! 💪💢\\n\\n#VASxCAM\\n#BaseForte https://t.co/5vbEs…'}\n",
      "Usuário: {'bohnzinho'} \n",
      "Tweet: {'RT @leandroruschel: Segundo Barroso, é função do Estado proteger o indivíduo contra a sua própria desinformação ou escolha equivocada.\\n\\nAin…'}\n",
      "Usuário: {'Xumbada1'} \n",
      "Tweet: {'@portalMSN Bem, se ele acha Bolsonaro acéfalo, por estar tocando fogo na mamata  da #globolixo, imagina se ele tive… https://t.co/lMIPGzcGHO'}\n",
      "Usuário: {'FabianoSouza87'} \n",
      "Tweet: {'RT @legadaodamassa: O VERDADEIRO LEWANDOWSKI MELHOR DO MUNDO É ESSE AQUI BRASIL!!!!!!!!! https://t.co/gILuFpN1u9'}\n",
      "Usuário: {'Jannuzzi18bfr'} \n",
      "Tweet: {'RT @oatila: Março, com 300 mortes em um dia na Itália: \\ntodo mundo em casa, palmas na janela para os profissionais de saúde.\\n\\nDezembro, com…'}\n",
      "Usuário: {'vicckmaria'} \n",
      "Tweet: {'RT @oatila: Março, com 300 mortes em um dia na Itália: \\ntodo mundo em casa, palmas na janela para os profissionais de saúde.\\n\\nDezembro, com…'}\n",
      "Usuário: {'Alesantcruz'} \n",
      "Tweet: {'RT @dianaofhearts: princess diana at Iguazu Falls, Brazil, 1991 🇧🇷 https://t.co/J0qTKbSQ3d'}\n",
      "Usuário: {'Iuricod'} \n",
      "Tweet: {'RT @g1: Mercedes-Benz encerra produção de automóveis no Brasil https://t.co/PGaksGV5Ft #G1 https://t.co/irWSb0NsCe'}\n",
      "Usuário: {'PedroGava12'} \n",
      "Tweet: {'RT @oiIuiz: Quem manda no Brasil não é o STF, e sim, quem manda no STF.'}\n",
      "Usuário: {'Estefano_lopes'} \n",
      "Tweet: {'DESOBEDIÊNCIA CIVIL JÁ!!!\\n\\nMais que necessária que a voz do povo seja ouvida!!!\\n\\nSe eu tiver que sair do Twitter pa… https://t.co/ihaE8xUVmL'}\n",
      "Usuário: {'Lah26979236'} \n",
      "Tweet: {'@Manuuzinhah_ Eu acho que o tese saí sim pq ele ta bem próximo dos mlks e o Brasil tbm tenho dúvidas'}\n",
      "Usuário: {'LordOfDecay1'} \n",
      "Tweet: {'@CressidaCowell Hi! I just want to say that your books were part of my childhood, I am from Brazil, and currently I… https://t.co/bGKLdtwBkB'}\n",
      "Usuário: {'erikaavictoria'} \n",
      "Tweet: {'RT @Esp_Interativo: O FUTEBOL BRASILEIRO E SUAS HISTÓRIAS!\\n\\nO prêmio de ‘Torcedor do Ano’ da FIFA permanece no Brasil. Antes de Marivaldo d…'}\n",
      "Usuário: {'Acredite17'} \n",
      "Tweet: {'RT @KalimannFor: Você mostrou para o Brasil inteiro o quanto és guerreira e preciosa! \\nSuperação, garra, humildade, fé e determinação te tr…'}\n",
      "Usuário: {'GomesJr_10'} \n",
      "Tweet: {'RT @newscolina: ESTAMOS NA FINAAAAAAAL!\\n\\nO Gigante venceu o Atlético Mineiro em São Januário e está classificado para finalíssima da Copa d…'}\n",
      "Usuário: {'euisabella_15'} \n",
      "Tweet: {'RT @Biiacrvg_: RESPEITA A MELHOR BASE DO BRASIL!!!'}\n",
      "Usuário: {'AdenilsonFreit9'} \n",
      "Tweet: {'RT @BolsonaroSP: Comando do Exército autoriza joint venture da brasileira Imbel com a suíço-alemã Sig Sauer, que hoje opera nos EUA.\\n\\nAs ar…'}\n",
      "Usuário: {'Catelan16'} \n",
      "Tweet: {'RT @ProMonarquia: AGENDA DOS PRÍNCIPES\\n\\nNo dia 24 de novembro, o Príncipe Dom Luiz de Orleans e Bragança, Chefe da Casa Imperial do Brasil,…'}\n",
      "Usuário: {'matthew_brazil'} \n",
      "Tweet: {'For those who say that there is little diff between the GOP &amp; the Dems, here is Biden’s latest cabinet pick: Deb Ha… https://t.co/ktLmmuCI36'}\n",
      "Usuário: {'rafalonde'} \n",
      "Tweet: {'\"O ensino superior no Brasil é um grande recreio de 4 anos e quando bate o sinal vc tá desempregado!\"\\n\\nQue saudade… https://t.co/jNTt2WCzi9'}\n",
      "Usuário: {'claudiocalente'} \n",
      "Tweet: {'RT @GringaBrazilien: Em 2013, a Luminate, do bilionário globalista dono do Intercept, o Omidyar, já investia pesado em ONGS políticas no Br…'}\n",
      "Usuário: {'tiagoreidelas69'} \n",
      "Tweet: {'\"...A montadora diz que a decisão foi tomada pela crise econômica enfrentada pelo Brasil, agravada pela pandemia da… https://t.co/y5stfdQmbb'}\n",
      "Usuário: {'viuvamalyne'} \n",
      "Tweet: {'RT @eliergesouza: Mariano fazendo um extra de segurança da Miss Brasil Jakelyne Oliveira e da Miss Bumbum Raissa Barbosa. https://t.co/C7J7…'}\n",
      "Usuário: {'ElaineN79554521'} \n",
      "Tweet: {'@Juditharguetta Hola, ¿Cómo estás? Bueno, yo vivo en Río de Janeiro, Brasil. Mira, aquí en Brasil  sólo hay una man… https://t.co/GmIWUg9lhB'}\n",
      "Usuário: {'Cafulioo'} \n",
      "Tweet: {'@VictoriaJustice You are so special to me! 🥺\\nI don’t have more words to describe how important u are to me! I’m so… https://t.co/RXa7zNEVks'}\n",
      "Usuário: {'MarcosP23133443'} \n",
      "Tweet: {'@CUT_Brasil https://t.co/zWhVIhFcej'}\n",
      "Usuário: {'KrigerBruno'} \n",
      "Tweet: {'RT @oatila: Março, com 300 mortes em um dia na Itália: \\ntodo mundo em casa, palmas na janela para os profissionais de saúde.\\n\\nDezembro, com…'}\n",
      "Usuário: {'GeeCousin'} \n",
      "Tweet: {'RT @homensdbrasil2: Ativo me arrombou gostoso com seus 24 cm de pau grosso 🔥😍🤤\\n\\n@xxx_men_pt @brotheragensbr @purelygayporn @Boys_Brazil_ @B…'}\n",
      "Usuário: {'euisabella_15'} \n",
      "Tweet: {'RT @newscolina: ESTAMOS NA FINAAAAAAAL!\\n\\nO Gigante venceu o Atlético Mineiro em São Januário e está classificado para finalíssima da Copa d…'}\n",
      "Usuário: {'trickstarriep'} \n",
      "Tweet: {'vei oh sei que o brasil tem uma condição econômica e social terrível \\nmas mesmo que um dia eu me mude sla eu não vo… https://t.co/s1N0FZFLZo'}\n",
      "Usuário: {'Leelix16'} \n",
      "Tweet: {'RT @gorilagato: o brasil é um país muito triste mas também é o único lugar do mundo em que é possível ser genuinamente feliz'}\n",
      "Usuário: {'VemLutarBrasil'} \n",
      "Tweet: {'Trabalhadores de Búzios, RJ, fecham acesso ao centro da cidade em protesto contra decisão que impede entrada de tur… https://t.co/ahAmDLBsuz'}\n",
      "Usuário: {'Tonizeraaa'} \n",
      "Tweet: {'RT @gorilagato: o brasil é um país muito triste mas também é o único lugar do mundo em que é possível ser genuinamente feliz'}\n",
      "Usuário: {'oiandrei_'} \n",
      "Tweet: {'@nomegenerico12 sim kkkkkk\\n\\neu só vou comprar se o sp for campeão do brasileiro ou da copa do brasil\\n\\nou seja não vou comprar'}\n",
      "Usuário: {'Brasil_moth250'} \n",
      "Tweet: {'@DreamsHostage L'}\n",
      "Usuário: {'YancenAvila'} \n",
      "Tweet: {'RT @NicolasMaduro: Autoricé que a partir de mañana lunes #30Nov, se levante el toque de queda en los municipios fronterizos con Brasil y Co…'}\n",
      "Usuário: {'RoneySoares14'} \n",
      "Tweet: {'@MaraLuquet @CanalMyNews Topissimo!!! O Brasil precisa de Ciro Gomes!'}\n",
      "Usuário: {'NEIVABRITO1'} \n",
      "Tweet: {'RT @sergiodireita1: Com a melhor primeira-dama que o Brasil já teve. https://t.co/QLuCuQibM7'}\n",
      "Usuário: {'alexsandraponce'} \n",
      "Tweet: {'RT @brasil247: Pazuello: Bolsonaro não incentivará vacinação contra Covid-19 porque é contra obrigatoriedade\\nhttps://t.co/EFJvkIBEY7'}\n",
      "Usuário: {'cc_trevisani'} \n",
      "Tweet: {'RT @gdacunha: Tiago é hoje, em todo o Brasil, o parlamentar mais engajado em melhorar nossa educação colocando o foco dela onde ele sempre…'}\n",
      "Usuário: {'ErmineJack'} \n",
      "Tweet: {'RT @hulknaps: Brazil fucking rules actually https://t.co/TSVIo7MoIF'}\n",
      "Usuário: {'Lagarfds'} \n",
      "Tweet: {'RT @gorilagato: o brasil é um país muito triste mas também é o único lugar do mundo em que é possível ser genuinamente feliz'}\n",
      "Usuário: {'1uanfelipe'} \n",
      "Tweet: {'RT @wesley_curty: Que dia para o Vascaino!\\n\\nSalgado presidente e Vasco na final da Copa do Brasil sub-20.\\n\\nQue novos ares voltem a aparecer…'}\n",
      "Usuário: {'maurocezar'} \n",
      "Tweet: {'Bola rolando para @SheffieldUnited 0-0 @ManUtd Jogo ao vivo na ESPN Brasil. Comigo e @_paulo_andrade_ \\n#PremierLeagueNaESPN'}\n",
      "Usuário: {'Prof_Vinicius'} \n",
      "Tweet: {'Exemplo para cada cidade e estado do Brasil https://t.co/z8P7PH7bwW'}\n",
      "Usuário: {'switchbrasilcom'} \n",
      "Tweet: {'E sempre em crescimento constante, agradecemos de verdade todos que aqui nos seguem e estão sempre por dentro de tu… https://t.co/7yb3zVU9nw'}\n",
      "Usuário: {'Muhamedjulia'} \n",
      "Tweet: {'RT @AliceOseman: 🇧🇷Readers in Brazil!🇧🇷 I have some good news for you!\\n@editorarocco will be publishing LOVELESS in Brazilian Portuguese!!…'}\n",
      "Usuário: {'Myofficebrazil'} \n",
      "Tweet: {'@michelcandidos2 Já raiou a liberdade no horizonte do Brasil.\\nBrava gente Brasileira.'}\n",
      "Usuário: {'mgabrielaas'} \n",
      "Tweet: {'RT @nathybonganha: Ontem o Brasil teve 968 mortos por Covid-19, sem contar os dados do estado de São Paulo por falha no sistema. Ou seja, v…'}\n",
      "Usuário: {'Gxbr1eI'} \n",
      "Tweet: {'@sportrecife Parabéns por ter representado o Brasil com o Marivaldo'}\n",
      "Usuário: {'ui_andress'} \n",
      "Tweet: {'RT @crvgbase: Fim de jogo em SJ com vitória do Vasco! Estamos na final da Copa do Brasil Sub-20! 💪💢\\n\\n#VASxCAM\\n#BaseForte https://t.co/5vbEs…'}\n",
      "Usuário: {'Luizpraieiro'} \n",
      "Tweet: {'RT @BolsonaroSP: Comando do Exército autoriza joint venture da brasileira Imbel com a suíço-alemã Sig Sauer, que hoje opera nos EUA.\\n\\nAs ar…'}\n",
      "Usuário: {'btrzfnscgr'} \n",
      "Tweet: {'RT @LeviKaique: \"Ah, mas é só denunciar. Racismo é crime\"\\n\\nBrasil amigo. Aqui, você é vítima de racismo e se denúncia você acaba sendo desa…'}\n",
      "Usuário: {'a_marschall2'} \n",
      "Tweet: {'RT @GFBPAEmerson_: Quando o Grêmio tá bem / Renato disse ser o melhor futebol do Brasil https://t.co/xMsVjf7ZSM'}\n",
      "Usuário: {'Devourer_ITA'} \n",
      "Tweet: {'@Tinh1000000 I could eat Brazil'}\n"
     ]
    }
   ],
   "source": [
    "for tweet in tweets:\n",
    "    print(\"Usuário: %s \" % {tweet.user.screen_name})\n",
    "    print(\"Tweet: %s\" % {tweet.text})"
   ]
  },
  {
   "cell_type": "markdown",
   "metadata": {},
   "source": [
    "Análise de polaridade"
   ]
  },
  {
   "cell_type": "code",
   "execution_count": 117,
   "metadata": {},
   "outputs": [],
   "source": [
    "from textblob import TextBlob as tb\n",
    "import numpy as np"
   ]
  },
  {
   "cell_type": "code",
   "execution_count": 118,
   "metadata": {},
   "outputs": [],
   "source": [
    "analysis = None"
   ]
  },
  {
   "cell_type": "code",
   "execution_count": 119,
   "metadata": {},
   "outputs": [],
   "source": [
    "tweets_score = []"
   ]
  },
  {
   "cell_type": "code",
   "execution_count": 120,
   "metadata": {},
   "outputs": [
    {
     "name": "stdout",
     "output_type": "stream",
     "text": [
      "** Vocês ansiosos por vacina como se a vida de alguém dependesse disso. Como se morressem mais de 500 brasileiros por… https://t.co/4TBhj7Yijp\n",
      "** The United States is committed to peaceful and prosperous space exploration alongside our partners from around the… https://t.co/YoayhaUKSV\n",
      "** No vaccine plan.\n",
      "No economy plan.\n",
      "No humanitarian plan.\n",
      "No climate plan.\n",
      "No education plan.\n",
      "No cooperation plan.\n",
      "No… https://t.co/WhDdDlsYZ0\n",
      "** RT @rippedmaxim: Brazil in 2 days https://t.co/RyyhEuqLoN\n",
      "** RT @legadaodamassa: O VERDADEIRO LEWANDOWSKI MELHOR DO MUNDO É ESSE AQUI BRASIL!!!!!!!!! https://t.co/gILuFpN1u9\n",
      "** RT @zev_dr: Thank you Dr. Weintraub.  Brazil is blessed to have a visionary like you. God should watch over you, your family, and your nati…\n",
      "** RT @PROF_WILKIN2: A face do Brasil... https://t.co/pOxBxv7iG3\n",
      "** RT @newscolina: ESTAMOS NA FINAAAAAAAL!\n",
      "\n",
      "O Gigante venceu o Atlético Mineiro em São Januário e está classificado para finalíssima da Copa d…\n",
      "** RT @legadaodamassa: O VERDADEIRO LEWANDOWSKI MELHOR DO MUNDO É ESSE AQUI BRASIL!!!!!!!!! https://t.co/gILuFpN1u9\n",
      "** RT @leandroruschel: Segundo Barroso, é função do Estado proteger o indivíduo contra a sua própria desinformação ou escolha equivocada.\n",
      "\n",
      "Ain…\n",
      "** RT @leandroruschel: Era 2001, sob governo FHC, que a galera do FSM chamava de \"neoliberal\". O Brasil havia sido resgatado pelo FMI, então o…\n",
      "** RT @artebowie: sem brincadeira o brasil ainda se segura pois temos o supla como cidadão\n",
      "** RT @leandroruschel: Segundo Barroso, é função do Estado proteger o indivíduo contra a sua própria desinformação ou escolha equivocada.\n",
      "\n",
      "Ain…\n",
      "** @trajaza ter saúde mental boa, realizar sonhos, viajar pra fora do Brasil, tirar ótimas notas\n",
      "** @CUT_Brasil https://t.co/oopXN2GeZj\n",
      "** RT @mattkkj: as crianças são o futuro do Brasil kkkkkjkkkkkkkkkk https://t.co/BQAgMvlUyi\n",
      "** RT @sergiodireita1: Com a melhor primeira-dama que o Brasil já teve. https://t.co/QLuCuQibM7\n",
      "** RT @legadaodamassa: O VERDADEIRO LEWANDOWSKI MELHOR DO MUNDO É ESSE AQUI BRASIL!!!!!!!!! https://t.co/gILuFpN1u9\n",
      "** odiar o brasil eh tao 12 anos... https://t.co/fDxp5nGm65\n",
      "** @VictoriaJustice You are so special to me! 🥺\n",
      "I don’t have more words to describe how important u are to me! I’m so… https://t.co/m9KoBGXKUW\n",
      "** @5Maneco STF puteiro do Brasil\n",
      "** @MP_Theorema @grisagregorio Ou seja, a estatística do Vietnam aponta a realidade educacional do país. \n",
      "\n",
      "A do Brasil… https://t.co/7xHkOvE0yK\n",
      "** RT @AndersonAzvdo: @AlajuelenseArg Saludo desde Fortaleza, Brasil! Soy Manudo desde la ciudad de Fortaleza, estado de lo Ceará. 🦁🇨🇷 🔴⚫️\n",
      "** RT @hulknaps: Brazil fucking rules actually https://t.co/TSVIo7MoIF\n",
      "** RT @luchaalmada: De los 5 casos importados: 2 vienen de República Dominicana, 1 de Panamá, 1 de México y 1 de Brasil. Los detalles en la pr…\n",
      "** RT @ggreenwald: NBC News: \"Release WikiLeaks' Julian Assange, say current and former world leaders\"\n",
      "\n",
      "Signatories of an open letter to Prime…\n",
      "** RT @jesuscasique1: Inflación interanual noviembre 2020-noviembre 2019\n",
      "\n",
      "🇦🇷Argentina 35,8%\n",
      "🇧🇴Bolivia -1,10%\n",
      "🇧🇷Brasil 4,31%\n",
      "🇨🇱Chile 2,7%\n",
      "🇨🇴Col…\n",
      "** RT @BolsonaroSP: Lançamento do selo alusivo aos 90 anos do maior comunicador do Brasil, Senor Abravanel, também conhecido como Silvio Santo…\n",
      "** @stortzara de nada mulher mais bonita do sul do brasil\n",
      "** RT @o_antagonista: Após uma reunião de quase três horas, as lideranças do PT, PDT, PSB, PSOL e PCdoB fecharam uma frente contra a candidatu…\n",
      "** RT @ultimadivisao: Bolsonaro acabou de secar os principais times de Minas.\n",
      "\n",
      "\"Pode ter certeza que o Cruzeiro vai subir, o Galo vai ser camp…\n",
      "** RT @oatila: Março, com 300 mortes em um dia na Itália: \n",
      "todo mundo em casa, palmas na janela para os profissionais de saúde.\n",
      "\n",
      "Dezembro, com…\n",
      "** Rising #COVID19 cases in Armação dos Buzios has led courts to close down local hotels and commerce. Holidaymakers h… https://t.co/C2SlvSWoXe\n",
      "** ✨ ✨\n",
      "Somos a loja virtual Afrodith OFICIAL com lindas lingeries e Moda Praia, com preço ótimo e qualidade excelente… https://t.co/NsaSVrhiio\n",
      "** @haidut   how to protect yourself from the vaccine if it is mandatory in Brazil, with NAM?\n",
      "** @iamjakelyne Que mulher Brasil! Linda por dentro e maravilhosa por fora, dona de um sorriso fácil, sincero e amável… https://t.co/O6V4C6vx2C\n",
      "** O interessante é que outros países muito bem desenvolvidos já estão aplicando a vacina na sua população e não vejo… https://t.co/jKaNH3v8Nw\n",
      "** RT @gisapatriamada: @MichelM_Oficial Assiste o especial de natal do Brasil paralelo \n",
      "O segundo episódio o príncipe fala sobre postagens nas…\n",
      "** RT @Biiacrvg_: RESPEITA A MELHOR BASE DO BRASIL!!!\n",
      "** RT @FalaoSirva: @IzabellaCastr15 @RomeuZema É um crime, o inimigo do Brasil é a classe política, o povo pobre devia ser mais unido contra a…\n",
      "** RT @nilojs6: @edsonnunesbarbo @Ismario974 @38Paty_ @Helenova31 @pandaisento @juniorsignorell @JoOrsine @marlicris @MarcuseJe @SManipulado @…\n",
      "** RT @thiagopaiacam: Pra vcs q desistiram, vou falar:\n",
      "Sp não vai ser campeão.\n",
      "Tem 2 clássicos, na última rodada tem o Flamengo,tem copa do Br…\n",
      "** RT @legadaodamassa: O VERDADEIRO LEWANDOWSKI MELHOR DO MUNDO É ESSE AQUI BRASIL!!!!!!!!! https://t.co/gILuFpN1u9\n",
      "** RT @gorilagato: o brasil é um país muito triste mas também é o único lugar do mundo em que é possível ser genuinamente feliz\n",
      "** Uma pena o Brasil ser um país tão injusto. https://t.co/jGQwe52nXi\n",
      "** RT @crvgbase: Fim de jogo em SJ com vitória do Vasco! Estamos na final da Copa do Brasil Sub-20! 💪💢\n",
      "\n",
      "#VASxCAM\n",
      "#BaseForte https://t.co/5vbEs…\n",
      "** RT @leandroruschel: Segundo Barroso, é função do Estado proteger o indivíduo contra a sua própria desinformação ou escolha equivocada.\n",
      "\n",
      "Ain…\n",
      "** @portalMSN Bem, se ele acha Bolsonaro acéfalo, por estar tocando fogo na mamata  da #globolixo, imagina se ele tive… https://t.co/lMIPGzcGHO\n",
      "** RT @legadaodamassa: O VERDADEIRO LEWANDOWSKI MELHOR DO MUNDO É ESSE AQUI BRASIL!!!!!!!!! https://t.co/gILuFpN1u9\n",
      "** RT @oatila: Março, com 300 mortes em um dia na Itália: \n",
      "todo mundo em casa, palmas na janela para os profissionais de saúde.\n",
      "\n",
      "Dezembro, com…\n",
      "** RT @oatila: Março, com 300 mortes em um dia na Itália: \n",
      "todo mundo em casa, palmas na janela para os profissionais de saúde.\n",
      "\n",
      "Dezembro, com…\n",
      "** RT @dianaofhearts: princess diana at Iguazu Falls, Brazil, 1991 🇧🇷 https://t.co/J0qTKbSQ3d\n",
      "** RT @g1: Mercedes-Benz encerra produção de automóveis no Brasil https://t.co/PGaksGV5Ft #G1 https://t.co/irWSb0NsCe\n",
      "** RT @oiIuiz: Quem manda no Brasil não é o STF, e sim, quem manda no STF.\n",
      "** DESOBEDIÊNCIA CIVIL JÁ!!!\n",
      "\n",
      "Mais que necessária que a voz do povo seja ouvida!!!\n",
      "\n",
      "Se eu tiver que sair do Twitter pa… https://t.co/ihaE8xUVmL\n",
      "** @Manuuzinhah_ Eu acho que o tese saí sim pq ele ta bem próximo dos mlks e o Brasil tbm tenho dúvidas\n",
      "** @CressidaCowell Hi! I just want to say that your books were part of my childhood, I am from Brazil, and currently I… https://t.co/bGKLdtwBkB\n",
      "** RT @Esp_Interativo: O FUTEBOL BRASILEIRO E SUAS HISTÓRIAS!\n",
      "\n",
      "O prêmio de ‘Torcedor do Ano’ da FIFA permanece no Brasil. Antes de Marivaldo d…\n",
      "** RT @KalimannFor: Você mostrou para o Brasil inteiro o quanto és guerreira e preciosa! \n",
      "Superação, garra, humildade, fé e determinação te tr…\n",
      "** RT @newscolina: ESTAMOS NA FINAAAAAAAL!\n",
      "\n",
      "O Gigante venceu o Atlético Mineiro em São Januário e está classificado para finalíssima da Copa d…\n",
      "** RT @Biiacrvg_: RESPEITA A MELHOR BASE DO BRASIL!!!\n",
      "** RT @BolsonaroSP: Comando do Exército autoriza joint venture da brasileira Imbel com a suíço-alemã Sig Sauer, que hoje opera nos EUA.\n",
      "\n",
      "As ar…\n",
      "** RT @ProMonarquia: AGENDA DOS PRÍNCIPES\n",
      "\n",
      "No dia 24 de novembro, o Príncipe Dom Luiz de Orleans e Bragança, Chefe da Casa Imperial do Brasil,…\n",
      "** For those who say that there is little diff between the GOP &amp; the Dems, here is Biden’s latest cabinet pick: Deb Ha… https://t.co/ktLmmuCI36\n",
      "** \"O ensino superior no Brasil é um grande recreio de 4 anos e quando bate o sinal vc tá desempregado!\"\n",
      "\n",
      "Que saudade… https://t.co/jNTt2WCzi9\n",
      "** RT @GringaBrazilien: Em 2013, a Luminate, do bilionário globalista dono do Intercept, o Omidyar, já investia pesado em ONGS políticas no Br…\n",
      "** \"...A montadora diz que a decisão foi tomada pela crise econômica enfrentada pelo Brasil, agravada pela pandemia da… https://t.co/y5stfdQmbb\n",
      "** RT @eliergesouza: Mariano fazendo um extra de segurança da Miss Brasil Jakelyne Oliveira e da Miss Bumbum Raissa Barbosa. https://t.co/C7J7…\n",
      "** @Juditharguetta Hola, ¿Cómo estás? Bueno, yo vivo en Río de Janeiro, Brasil. Mira, aquí en Brasil  sólo hay una man… https://t.co/GmIWUg9lhB\n",
      "** @VictoriaJustice You are so special to me! 🥺\n",
      "I don’t have more words to describe how important u are to me! I’m so… https://t.co/RXa7zNEVks\n",
      "** @CUT_Brasil https://t.co/zWhVIhFcej\n",
      "** RT @oatila: Março, com 300 mortes em um dia na Itália: \n",
      "todo mundo em casa, palmas na janela para os profissionais de saúde.\n",
      "\n",
      "Dezembro, com…\n",
      "** RT @homensdbrasil2: Ativo me arrombou gostoso com seus 24 cm de pau grosso 🔥😍🤤\n",
      "\n",
      "@xxx_men_pt @brotheragensbr @purelygayporn @Boys_Brazil_ @B…\n",
      "** RT @newscolina: ESTAMOS NA FINAAAAAAAL!\n",
      "\n",
      "O Gigante venceu o Atlético Mineiro em São Januário e está classificado para finalíssima da Copa d…\n",
      "** vei oh sei que o brasil tem uma condição econômica e social terrível \n",
      "mas mesmo que um dia eu me mude sla eu não vo… https://t.co/s1N0FZFLZo\n",
      "** RT @gorilagato: o brasil é um país muito triste mas também é o único lugar do mundo em que é possível ser genuinamente feliz\n",
      "** Trabalhadores de Búzios, RJ, fecham acesso ao centro da cidade em protesto contra decisão que impede entrada de tur… https://t.co/ahAmDLBsuz\n",
      "** RT @gorilagato: o brasil é um país muito triste mas também é o único lugar do mundo em que é possível ser genuinamente feliz\n",
      "** @nomegenerico12 sim kkkkkk\n",
      "\n",
      "eu só vou comprar se o sp for campeão do brasileiro ou da copa do brasil\n",
      "\n",
      "ou seja não vou comprar\n",
      "** @DreamsHostage L\n",
      "** RT @NicolasMaduro: Autoricé que a partir de mañana lunes #30Nov, se levante el toque de queda en los municipios fronterizos con Brasil y Co…\n",
      "** @MaraLuquet @CanalMyNews Topissimo!!! O Brasil precisa de Ciro Gomes!\n",
      "** RT @sergiodireita1: Com a melhor primeira-dama que o Brasil já teve. https://t.co/QLuCuQibM7\n",
      "** RT @brasil247: Pazuello: Bolsonaro não incentivará vacinação contra Covid-19 porque é contra obrigatoriedade\n",
      "https://t.co/EFJvkIBEY7\n",
      "** RT @gdacunha: Tiago é hoje, em todo o Brasil, o parlamentar mais engajado em melhorar nossa educação colocando o foco dela onde ele sempre…\n",
      "** RT @hulknaps: Brazil fucking rules actually https://t.co/TSVIo7MoIF\n",
      "** RT @gorilagato: o brasil é um país muito triste mas também é o único lugar do mundo em que é possível ser genuinamente feliz\n",
      "** RT @wesley_curty: Que dia para o Vascaino!\n",
      "\n",
      "Salgado presidente e Vasco na final da Copa do Brasil sub-20.\n",
      "\n",
      "Que novos ares voltem a aparecer…\n",
      "** Bola rolando para @SheffieldUnited 0-0 @ManUtd Jogo ao vivo na ESPN Brasil. Comigo e @_paulo_andrade_ \n",
      "#PremierLeagueNaESPN\n",
      "** Exemplo para cada cidade e estado do Brasil https://t.co/z8P7PH7bwW\n",
      "** E sempre em crescimento constante, agradecemos de verdade todos que aqui nos seguem e estão sempre por dentro de tu… https://t.co/7yb3zVU9nw\n",
      "** RT @AliceOseman: 🇧🇷Readers in Brazil!🇧🇷 I have some good news for you!\n",
      "@editorarocco will be publishing LOVELESS in Brazilian Portuguese!!…\n",
      "** @michelcandidos2 Já raiou a liberdade no horizonte do Brasil.\n",
      "Brava gente Brasileira.\n",
      "** RT @nathybonganha: Ontem o Brasil teve 968 mortos por Covid-19, sem contar os dados do estado de São Paulo por falha no sistema. Ou seja, v…\n",
      "** @sportrecife Parabéns por ter representado o Brasil com o Marivaldo\n",
      "** RT @crvgbase: Fim de jogo em SJ com vitória do Vasco! Estamos na final da Copa do Brasil Sub-20! 💪💢\n",
      "\n",
      "#VASxCAM\n",
      "#BaseForte https://t.co/5vbEs…\n",
      "** RT @BolsonaroSP: Comando do Exército autoriza joint venture da brasileira Imbel com a suíço-alemã Sig Sauer, que hoje opera nos EUA.\n",
      "\n",
      "As ar…\n",
      "** RT @LeviKaique: \"Ah, mas é só denunciar. Racismo é crime\"\n",
      "\n",
      "Brasil amigo. Aqui, você é vítima de racismo e se denúncia você acaba sendo desa…\n",
      "** RT @GFBPAEmerson_: Quando o Grêmio tá bem / Renato disse ser o melhor futebol do Brasil https://t.co/xMsVjf7ZSM\n",
      "** @Tinh1000000 I could eat Brazil\n"
     ]
    }
   ],
   "source": [
    "for tweet in tweets:\n",
    "    print('**', tweet.text)\n",
    "    analysis = tb(tweet.text)\n",
    "    polarity = analysis.sentiment.polarity\n",
    "    tweets_score.append(polarity)"
   ]
  },
  {
   "cell_type": "code",
   "execution_count": 121,
   "metadata": {},
   "outputs": [
    {
     "name": "stdout",
     "output_type": "stream",
     "text": [
      "Vetor de polaridade:  [0.0, 0.25, 0.0, 0.0, 0.3725290298461914, 0.0, 0.0, 0.0, 0.3725290298461914, 0.0, 0.0, 0.0, 0.0, -0.1, 0.0, 0.0, 0.0, 0.3725290298461914, 0.0, 0.48214285714285715, 0.0, 0.0, 0.0, -0.3, 0.0, 0.0, 0.0, 0.0, 0.0, 0.0, 0.0, 0.0, -0.07777777777777779, 0.0, 0.0, 0.0, 0.0, 0.0, -1.0, 0.0, 0.0, 0.0, 0.3725290298461914, 0.05, 0.0, 0.0, 0.0, 0.0, 0.3725290298461914, 0.0, 0.0, 0.0, 0.0, 0.0, 0.0, 0.0, 0.0, 0.0625, 0.0, 0.0, -1.0, 0.0, 0.0, 0.15625, 0.875, 0.0, 0.0, 0.0, 0.0, 0.48214285714285715, 0.0, 0.0, 0.0, 0.0, 0.03333333333333333, 0.05, 0.0, 0.05, 0.0, 0.0, 0.0, 0.0, 0.0, 0.0, 0.0, -0.3, 0.05, 0.0, 0.0, 0.0, 0.0, 0.875, 0.0, 0.0, 0.0, 0.0, 0.0, 0.0, 0.0, 0.0]\n"
     ]
    }
   ],
   "source": [
    "print('Vetor de polaridade: ', tweets_score)"
   ]
  },
  {
   "cell_type": "code",
   "execution_count": 122,
   "metadata": {},
   "outputs": [
    {
     "name": "stdout",
     "output_type": "stream",
     "text": [
      "Média de sentimento: 0.02501236419072227\n"
     ]
    }
   ],
   "source": [
    "print('Média de sentimento: ' + str(np.mean(tweets_score)))"
   ]
  },
  {
   "cell_type": "markdown",
   "metadata": {},
   "source": [
    "Análise de polaridade para tweets que não foram postados em inglês"
   ]
  },
  {
   "cell_type": "code",
   "execution_count": 123,
   "metadata": {},
   "outputs": [
    {
     "name": "stdout",
     "output_type": "stream",
     "text": [
      "Texto traduzido You look forward to the vaccine as if someone's life depends on it. As if more than 500 Brazilians died for… https://t.co/4TBhj7Yijp:\n",
      "Texto traduzido RT @legadaodamassa: THE TRUE BEST LEWANDOWSKI IN THE WORLD IS THIS HERE BRAZIL !!!!!!!!! https://t.co/gILuFpN1u9:\n",
      "Texto traduzido RT @newscolina: WE ARE IN FINAAAAAAAL!\n",
      "\n",
      "Gigante beat Atlético Mineiro in São Januário and is classified for the final of the Copa do…:\n",
      "Texto traduzido RT @legadaodamassa: THE TRUE BEST LEWANDOWSKI IN THE WORLD IS THIS HERE BRAZIL !!!!!!!!! https://t.co/gILuFpN1u9:\n",
      "Texto traduzido RT @leandroruschel: According to Barroso, it is the role of the State to protect the individual against his own misinformation or wrong choice.\n",
      "\n",
      "Ain…:\n",
      "Texto traduzido RT @leandroruschel: It was 2001, under FHC's government, that the WSF crowd called \"neoliberal\". Brazil had been rescued by the IMF, so the…:\n",
      "Texto traduzido RT @artebowie: no joke, brazil is still safe because we have supla as a citizen:\n",
      "Texto traduzido RT @leandroruschel: According to Barroso, it is the role of the State to protect the individual against his own misinformation or wrong choice.\n",
      "\n",
      "Ain…:\n",
      "Texto traduzido @trajaza have good mental health, make dreams come true, travel abroad, get great grades:\n",
      "Texto traduzido RT @mattkkj: children are the future of Brazil kkkkkjkkkkkkkkkk https://t.co/BQAgMvlUyi:\n",
      "Texto traduzido RT @ sergiodireita1: With the best first lady that Brazil has ever had. https://t.co/QLuCuQibM7:\n",
      "Texto traduzido RT @legadaodamassa: THE TRUE BEST LEWANDOWSKI IN THE WORLD IS THIS HERE BRAZIL !!!!!!!!! https://t.co/gILuFpN1u9:\n",
      "Texto traduzido hating brazil eh tao 12 anos ... https://t.co/fDxp5nGm65:\n",
      "Texto traduzido @ 5Maneco STF puteiro do Brasil:\n",
      "Texto traduzido @MP_Theorema @grisagregorio In other words, Vietnam's statistics point to the country's educational reality.\n",
      "\n",
      "A from Brazil… https://t.co/7xHkOvE0yK:\n",
      "Texto traduzido RT @AndersonAzvdo: @AlajuelenseArg Greetings from Fortaleza, Brazil! I am Manudo from the city of Fortaleza, state of Ceará. 🦁🇨🇷 🔴⚫️:\n",
      "Texto traduzido RT @luchaalmada: Of the 5 imported cases: 2 come from the Dominican Republic, 1 from Panama, 1 from Mexico and 1 from Brazil. The details in the pr ...:\n",
      "Texto traduzido RT @ jesuscasique1: Annual inflation November 2020-November 2019\n",
      "\n",
      "🇦🇷Argentina 35.8%\n",
      "🇧🇴Bolivia -1.10%\n",
      "🇧🇷Brazil 4.31%\n",
      "🇨🇱Chile 2.7%\n",
      "🇨🇴Col ...:\n",
      "Texto traduzido RT @BolsonaroSP: Launch of the stamp alluding to 90 years of the greatest communicator in Brazil, Senor Abravanel, also known as Silvio Santo…:\n",
      "Texto traduzido @stortzara de nada most beautiful woman in southern brazil:\n",
      "Texto traduzido RT @o_antagonista: After a meeting of almost three hours, the leaders of PT, PDT, PSB, PSOL and PCdoB closed a front against the candidacy…:\n",
      "Texto traduzido RT @ultimadivisao: Bolsonaro just dried up the main teams in Minas.\n",
      "\n",
      "\"You can be sure that the Cruzeiro will go up, the Rooster will be camp…:\n",
      "Texto traduzido RT @oatila: March, with 300 deaths in one day in Italy:\n",
      "everyone at home, clapping at the window for healthcare professionals.\n",
      "\n",
      "December with…:\n",
      "Texto traduzido ✨ ✨\n",
      "We are the OFFICIAL Afrodith virtual store with beautiful lingerie and beachwear, with great price and excellent quality… https://t.co/NsaSVrhiio:\n",
      "Texto traduzido @iamjakelyne What a woman Brazil! Beautiful inside and wonderful outside, owner of an easy, sincere and kind smile… https://t.co/O6V4C6vx2C:\n",
      "Texto traduzido The interesting thing is that other very well developed countries are already applying the vaccine to their population and I don't see it ... https://t.co/jKaNH3v8Nw:\n",
      "Texto traduzido RT @gisapatriamada: @MichelM_Oficial Watch the Brazilian Christmas special in parallel\n",
      "The second episode the prince talks about posts in…:\n",
      "Texto traduzido RT @Biiacrvg_: RESPECT THE BEST BASE IN BRAZIL !!!:\n",
      "Texto traduzido RT @FalaoSirva: @ IzabellaCastr15 @RomeuZema It's a crime, Brazil's enemy is the political class, the poor people should be more united against…:\n",
      "Texto traduzido RT @ nilojs6: @edsonnunesbarbo @ Ismario974 @ 38Paty_ @ Helenova31 @pandaisento @juniorsignorell @JoOrsine @marlicris @MarcuseJe @SManipulado:\n",
      "Texto traduzido RT @thiagopaiacam: For you guys who gave up, I'll say:\n",
      "Sp will not be champion.\n",
      "There are 2 classics, in the last round there is Flamengo, there is a Cop…:\n",
      "Texto traduzido RT @legadaodamassa: THE TRUE BEST LEWANDOWSKI IN THE WORLD IS THIS HERE BRAZIL !!!!!!!!! https://t.co/gILuFpN1u9:\n",
      "Texto traduzido RT @gorilagato: Brazil is a very sad country but it is also the only place in the world where it is possible to be genuinely happy:\n",
      "Texto traduzido It is a pity that Brazil is such an unfair country. https://t.co/jGQwe52nXi:\n",
      "Texto traduzido RT @crvgbase: End of game in SJ with Vasco win! We are in the final of the Brazil U-20 Cup! 💪💢\n",
      "\n",
      "#VASxCAM\n",
      "#BaseForte https://t.co/5vbEs…:\n",
      "Texto traduzido RT @leandroruschel: According to Barroso, it is the role of the State to protect the individual against his own misinformation or wrong choice.\n",
      "\n",
      "Ain…:\n",
      "Texto traduzido @portalMSN Well, if he thinks Bolsonaro no-brainer, because he is setting fire to the #globolixo mamata, imagine if he had… https://t.co/lMIPGzcGHO:\n",
      "Texto traduzido RT @legadaodamassa: THE TRUE BEST LEWANDOWSKI IN THE WORLD IS THIS HERE BRAZIL !!!!!!!!! https://t.co/gILuFpN1u9:\n",
      "Texto traduzido RT @oatila: March, with 300 deaths in one day in Italy:\n",
      "everyone at home, clapping at the window for healthcare professionals.\n",
      "\n",
      "December with…:\n",
      "Texto traduzido RT @oatila: March, with 300 deaths in one day in Italy:\n",
      "everyone at home, clapping at the window for healthcare professionals.\n",
      "\n",
      "December with…:\n",
      "Texto traduzido RT @ g1: Mercedes-Benz ends car production in Brazil https://t.co/PGaksGV5Ft # G1 https://t.co/irWSb0NsCe:\n",
      "Texto traduzido RT @oiIuiz: The boss in Brazil is not the STF, but the boss of the STF.:\n",
      "Texto traduzido CIVIL DISOBEDIENCE NOW !!!\n",
      "\n",
      "More than necessary that the voice of the people be heard !!!\n",
      "\n",
      "If I have to leave Twitter to… https://t.co/ihaE8xUVmL:\n",
      "Texto traduzido @Manuuzinhah_ I think the thesis came out yes because it is very close to the mlks and Brazil too I have doubts:\n",
      "Texto traduzido RT @Esp_Interativo: BRAZILIAN FOOTBALL AND ITS STORIES!\n",
      "\n",
      "The FIFA 'Fan of the Year' award remains in Brazil. Before Marivaldo d…:\n",
      "Texto traduzido RT @KalimannFor: You showed the whole of Brazil how much you are warrior and precious!\n",
      "Overcoming, determination, humility, faith and determination bring you…:\n",
      "Texto traduzido RT @newscolina: WE ARE IN FINAAAAAAAL!\n",
      "\n",
      "Gigante beat Atlético Mineiro in São Januário and is classified for the final of the Copa do…:\n",
      "Texto traduzido RT @Biiacrvg_: RESPECT THE BEST BASE IN BRAZIL !!!:\n",
      "Texto traduzido RT @BolsonaroSP: Army Command authorizes joint venture of Brazilian Imbel with Swiss-German Sig Sauer, who now operates in the USA.\n",
      "\n",
      "The air…:\n",
      "Texto traduzido RT @ProMonarquia: PRINCIPALS AGENDA\n",
      "\n",
      "On November 24, Prince Dom Luiz de Orleans e Bragança, Head of the Imperial House of Brazil,…:\n",
      "Texto traduzido \"Higher education in Brazil is a great recreation for 4 years and when the signal hits you are unemployed!\"\n",
      "\n",
      "I miss you ... https://t.co/jNTt2WCzi9:\n",
      "Texto traduzido RT @GringaBrazilien: In 2013, Luminate, from globalist billionaire owner of Intercept, Omidyar, already invested heavily in political NGOs in Brazil…:\n",
      "Texto traduzido \"... The automaker says that the decision was made by the economic crisis faced by Brazil, aggravated by the pandemic of… https://t.co/y5stfdQmbb:\n",
      "Texto traduzido RT @eliergesouza: Mariano doing a security extra for Miss Brasil Jakelyne Oliveira and Miss Bumbum Raissa Barbosa. https://t.co/C7J7…:\n",
      "Texto traduzido @Juditharguetta Hi, how are you? Well, I live in Rio de Janeiro, Brazil. Look, here in Brazil there is only one man… https://t.co/GmIWUg9lhB:\n",
      "Texto traduzido RT @oatila: March, with 300 deaths in one day in Italy:\n",
      "everyone at home, clapping at the window for healthcare professionals.\n",
      "\n",
      "December with…:\n",
      "Texto traduzido RT @ Homensdbrasil2: Active broke me hot with his 24 cm thick cock 🔥😍🤤\n",
      "\n",
      "@xxx_men_pt @brotheragensbr @purelygayporn @Boys_Brazil_ @ B…:\n",
      "Texto traduzido RT @newscolina: WE ARE IN FINAAAAAAAL!\n",
      "\n",
      "Gigante beat Atlético Mineiro in São Januário and is classified for the final of the Copa do…:\n"
     ]
    },
    {
     "name": "stdout",
     "output_type": "stream",
     "text": [
      "Texto traduzido come oh I know that Brazil has a terrible economic and social condition\n",
      "but even if one day I move sla I won't see you… https://t.co/s1N0FZFLZo:\n",
      "Texto traduzido RT @gorilagato: Brazil is a very sad country but it is also the only place in the world where it is possible to be genuinely happy:\n",
      "Texto traduzido Workers from Búzios, RJ, close access to the city center in protest against decision that prevents entry of tourists… https://t.co/ahAmDLBsuz:\n",
      "Texto traduzido RT @gorilagato: Brazil is a very sad country but it is also the only place in the world where it is possible to be genuinely happy:\n",
      "Texto traduzido @ nomegenerico12 yes kkkkkk\n",
      "\n",
      "I will only buy if the sp is the champion of the Brazilian or the Brazilian Cup\n",
      "\n",
      "meaning I will not buy:\n",
      "Texto traduzido RT @NicolasMaduro: I authorized that as of tomorrow, Monday # 30Nov, the curfew be lifted in the municipalities bordering Brazil and Co ...:\n",
      "Texto traduzido @MaraLuquet @CanalMyNews Topissimo !!! Brazil needs Ciro Gomes!:\n",
      "Texto traduzido RT @ sergiodireita1: With the best first lady that Brazil has ever had. https://t.co/QLuCuQibM7:\n",
      "Texto traduzido RT @ brasil247: Pazuello: Bolsonaro will not encourage vaccination against Covid-19 because it is against mandatory\n",
      "https://t.co/EFJvkIBEY7:\n",
      "Texto traduzido RT @gdacunha: Tiago is today, all over Brazil, the parliamentarian most committed to improving our education, placing his focus where he always…:\n",
      "Texto traduzido RT @gorilagato: Brazil is a very sad country but it is also the only place in the world where it is possible to be genuinely happy:\n",
      "Texto traduzido RT @wesley_curty: What a day for Vascaino!\n",
      "\n",
      "Salgado president and Vasco in the final of the Brazil Under-20 Cup.\n",
      "\n",
      "May new airs appear again ...:\n",
      "Texto traduzido Ball rolling for @SheffieldUnited 0-0 @ManUtd Game live on ESPN Brazil. With me and @_paulo_andrade_\n",
      "#PremierLeagueNaESPN:\n",
      "Texto traduzido Example for each city and state in Brazil https://t.co/z8P7PH7bwW:\n",
      "Texto traduzido And always in constant growth, we really thank everyone who follows us here and is always inside you… https://t.co/7yb3zVU9nw:\n",
      "Texto traduzido @ michelcandidos2 Freedom has already dawned on the horizon of Brazil.\n",
      "Brave Brazilian people.:\n",
      "Texto traduzido RT @nathybonganha: Yesterday, Brazil had 968 deaths by Covid-19, not counting the data from the state of São Paulo due to a system failure. That is, you…:\n",
      "Texto traduzido @sportrecife Congratulations on representing Brazil with Marivaldo:\n",
      "Texto traduzido RT @crvgbase: End of game in SJ with Vasco win! We are in the final of the Brazil U-20 Cup! 💪💢\n",
      "\n",
      "#VASxCAM\n",
      "#BaseForte https://t.co/5vbEs…:\n",
      "Texto traduzido RT @BolsonaroSP: Army Command authorizes joint venture of Brazilian Imbel with Swiss-German Sig Sauer, who now operates in the USA.\n",
      "\n",
      "The air…:\n",
      "Texto traduzido RT @LeviKaique: \"Ah, but just reporting it. Racism is a crime\"\n",
      "\n",
      "Brazil friend. Here, you are a victim of racism and if you report you end up being challenged…:\n",
      "Texto traduzido RT @GFBPAEmerson_: When Grêmio is doing well / Renato said he is the best football in Brazil https://t.co/xMsVjf7ZSM:\n"
     ]
    }
   ],
   "source": [
    "polarities =[]\n",
    "\n",
    "for tweet in tweets:\n",
    "    analysis = tb(tweet.text)\n",
    "    \n",
    "    if analysis.detect_language() != 'en':\n",
    "        traducao = tb(str(analysis.translate(to='en')))\n",
    "        print('Texto traduzido %s:' % traducao)\n",
    "        polarity = traducao.sentiment.polarity\n",
    "    else: \n",
    "        polarity = analysis.sentiment.polarity\n",
    "    polarities.append(polarity)"
   ]
  },
  {
   "cell_type": "code",
   "execution_count": 124,
   "metadata": {},
   "outputs": [
    {
     "name": "stdout",
     "output_type": "stream",
     "text": [
      "Vetor de polaridade:  [0.5, 0.25, 0.0, 0.0, 0.675, 0.0, 0.0, 0.0, 0.675, 0.033333333333333326, 0.0, 0.5, 0.033333333333333326, 0.4375, 0.0, 0.0, 0.625, 0.675, 0.0, 0.48214285714285715, 0.0, 0.0625, 0.0, -0.3, 0.0, 0.0, 0.0, 1.0, 0.45, -0.1, 0.15555555555555556, 0.0, -0.07777777777777779, 0.8833333333333333, 0.0, 0.5638888888888889, 0.16874999999999998, 0.11904761904761905, 0.0, 0.033333333333333326, 0.0, -0.1, 0.675, 0.037500000000000006, -0.19999999999999998, 0.19999999999999998, 0.033333333333333326, 0.0, 0.675, 0.0, 0.0, 0.0, 0.0, 0.0, 0.25, 0.2, 0.0, 0.0, 0.3416666666666666, 0.0, 0.0, 0.0, 0.0, 0.15625, 0.625, 0.0, 0.2, 0.0, 0.06818181818181818, 0.48214285714285715, 0.0, 0.0, -0.06111111111111112, 0.0, -0.2555555555555556, 0.037500000000000006, -0.1, 0.037500000000000006, 0.0, 0.0, 0.0, 0.0, 0.625, 0.0, 0.5, -0.3, 0.037500000000000006, 0.06818181818181818, -0.13181818181818183, 0.0, 0.1, 0.875, 0.8, -0.22083333333333335, 0.0, 0.19999999999999998, 0.0, -0.07500000000000001, 1.0, 0.0]\n"
     ]
    }
   ],
   "source": [
    "print('Vetor de polaridade: ', polarities)"
   ]
  },
  {
   "cell_type": "code",
   "execution_count": 125,
   "metadata": {},
   "outputs": [
    {
     "name": "stdout",
     "output_type": "stream",
     "text": [
      "Média de sentimento: 0.1462537878787879\n"
     ]
    }
   ],
   "source": [
    "print('Média de sentimento: ' + str(np.mean(polarities)))"
   ]
  },
  {
   "cell_type": "markdown",
   "metadata": {},
   "source": [
    "Armazenar os tweets coletados"
   ]
  },
  {
   "cell_type": "code",
   "execution_count": 126,
   "metadata": {},
   "outputs": [],
   "source": [
    "import json"
   ]
  },
  {
   "cell_type": "code",
   "execution_count": 127,
   "metadata": {},
   "outputs": [],
   "source": [
    "status = tweets[0]\n",
    "\n",
    "json_str = json.dumps(status._json)\n",
    "\n",
    "# deserializar string para um objeto python\n",
    "parsed = json.loads(json_str)"
   ]
  },
  {
   "cell_type": "code",
   "execution_count": 128,
   "metadata": {},
   "outputs": [
    {
     "data": {
      "text/plain": [
       "tweepy.models.SearchResults"
      ]
     },
     "execution_count": 128,
     "metadata": {},
     "output_type": "execute_result"
    }
   ],
   "source": [
    "type(tweets)"
   ]
  },
  {
   "cell_type": "code",
   "execution_count": 129,
   "metadata": {},
   "outputs": [
    {
     "data": {
      "text/plain": [
       "str"
      ]
     },
     "execution_count": 129,
     "metadata": {},
     "output_type": "execute_result"
    }
   ],
   "source": [
    "type(json_str)"
   ]
  },
  {
   "cell_type": "code",
   "execution_count": 130,
   "metadata": {},
   "outputs": [
    {
     "data": {
      "text/plain": [
       "dict"
      ]
     },
     "execution_count": 130,
     "metadata": {},
     "output_type": "execute_result"
    }
   ],
   "source": [
    "type(parsed)"
   ]
  },
  {
   "cell_type": "code",
   "execution_count": null,
   "metadata": {},
   "outputs": [],
   "source": []
  },
  {
   "cell_type": "code",
   "execution_count": 131,
   "metadata": {},
   "outputs": [],
   "source": [
    "datasetPath = 'C:\\Bootcamp\\Datasets\\JSON'\n",
    "with open(datasetPath+'\\\\tweets_keywords.json', 'a', encoding='utf8') as filename:\n",
    "    \n",
    "    for tweet in tweets:\n",
    "        status = tweet\n",
    "        json_str = json.dumps(status._json)\n",
    "        parsed = json.loads(json_str)\n",
    "        json.dump(parsed, filename, ensure_ascii=False, sort_keys=True, indent=4, separators=(',', ':'))\n",
    "        "
   ]
  },
  {
   "cell_type": "markdown",
   "metadata": {},
   "source": [
    "Armazenar no MongoDB"
   ]
  },
  {
   "cell_type": "code",
   "execution_count": 132,
   "metadata": {},
   "outputs": [],
   "source": [
    "import pymongo"
   ]
  },
  {
   "cell_type": "code",
   "execution_count": 133,
   "metadata": {},
   "outputs": [],
   "source": [
    "con = pymongo.MongoClient('localhost', 27017)\n",
    "db = con.twitterdb"
   ]
  },
  {
   "cell_type": "code",
   "execution_count": 134,
   "metadata": {},
   "outputs": [],
   "source": [
    "collection = db.tweets_keywords"
   ]
  },
  {
   "cell_type": "code",
   "execution_count": 135,
   "metadata": {},
   "outputs": [
    {
     "name": "stderr",
     "output_type": "stream",
     "text": [
      "<ipython-input-135-7c4bc5758cb0>:1: DeprecationWarning: count is deprecated. Use estimated_document_count or count_documents instead. Please note that $where must be replaced by $expr, $near must be replaced by $geoWithin with $center, and $nearSphere must be replaced by $geoWithin with $centerSphere\n",
      "  collection.count()\n"
     ]
    },
    {
     "data": {
      "text/plain": [
       "10"
      ]
     },
     "execution_count": 135,
     "metadata": {},
     "output_type": "execute_result"
    }
   ],
   "source": [
    "collection.count()"
   ]
  },
  {
   "cell_type": "code",
   "execution_count": 136,
   "metadata": {},
   "outputs": [
    {
     "data": {
      "text/plain": [
       "10"
      ]
     },
     "execution_count": 136,
     "metadata": {},
     "output_type": "execute_result"
    }
   ],
   "source": [
    "db.tweets_keywords.count_documents({})"
   ]
  },
  {
   "cell_type": "code",
   "execution_count": 137,
   "metadata": {},
   "outputs": [],
   "source": [
    "i = 0\n",
    "for tweet in tweets:\n",
    "    db.tweets_keywords.insert_one(tweet._json)\n",
    "    i = i+1"
   ]
  },
  {
   "cell_type": "code",
   "execution_count": 138,
   "metadata": {},
   "outputs": [
    {
     "name": "stdout",
     "output_type": "stream",
     "text": [
      "Quantidade de tweets inseridos: 100\n"
     ]
    }
   ],
   "source": [
    "print(\"Quantidade de tweets inseridos: %s\" % i)"
   ]
  },
  {
   "cell_type": "code",
   "execution_count": 139,
   "metadata": {},
   "outputs": [
    {
     "data": {
      "text/plain": [
       "110"
      ]
     },
     "execution_count": 139,
     "metadata": {},
     "output_type": "execute_result"
    }
   ],
   "source": [
    "db.tweets_keywords.count_documents({})"
   ]
  },
  {
   "cell_type": "code",
   "execution_count": null,
   "metadata": {},
   "outputs": [],
   "source": []
  }
 ],
 "metadata": {
  "kernelspec": {
   "display_name": "Python 3",
   "language": "python",
   "name": "python3"
  },
  "language_info": {
   "codemirror_mode": {
    "name": "ipython",
    "version": 3
   },
   "file_extension": ".py",
   "mimetype": "text/x-python",
   "name": "python",
   "nbconvert_exporter": "python",
   "pygments_lexer": "ipython3",
   "version": "3.8.5"
  }
 },
 "nbformat": 4,
 "nbformat_minor": 4
}
