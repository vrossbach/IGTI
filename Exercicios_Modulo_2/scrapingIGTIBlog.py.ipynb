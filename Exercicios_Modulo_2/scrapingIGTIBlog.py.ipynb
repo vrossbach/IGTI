{
 "cells": [
  {
   "cell_type": "code",
   "execution_count": 1,
   "metadata": {},
   "outputs": [],
   "source": [
    "import scrapy"
   ]
  },
  {
   "cell_type": "code",
   "execution_count": 2,
   "metadata": {},
   "outputs": [],
   "source": [
    "class Items(scrapy.Item):\n",
    "    categoria = scrapy.Field()\n",
    "    categoriaURL = scrapy.Field()\n",
    "    titulo = scrapy.Field()\n",
    "    url = scrapy.Field()\n",
    "    dtPostagem = scrapy.Field()\n",
    "    comentarios = scrapy.Field()\n",
    "    visualizacoes = scrapy.Field()"
   ]
  },
  {
   "cell_type": "code",
   "execution_count": 11,
   "metadata": {},
   "outputs": [],
   "source": [
    "class IGTIBlogSpider(scrapy.Spider):\n",
    "    name = 'Scraping IGTI Blog'\n",
    "    def __init__(self, tag=None):\n",
    "        url = 'https://www.igti.com.br/blog/'\n",
    "        self.start_urls = [url]\n",
    "    def parse(self, response):\n",
    "        self.log('Acessando a URL: %s:' % response.url)\n",
    "\n",
    "        artigos = response.xpath(\"//article\")\n",
    "        count = 0\n",
    "        self.log('Total de artigos em destaque: %s' % str(len(response.css('article'))))\n",
    "        for artigo in artigos:\n",
    "            item = Items()\n",
    "            count += 1\n",
    "            categorias = artigo.xpath(\".//div/div[@class='entry-category']//a\")\n",
    "            \n",
    "            if len(categorias) == 1:\n",
    "                item['categoria'] = ''.join(categorias.xpath('text()').extract())\n",
    "                item['categoria URL'] = ''.join(categorias.xpath('@href').extract())\n",
    "            else:\n",
    "                cat = []\n",
    "                catUrl = []\n",
    "                for categoria in categorias:\n",
    "                    cat.append(''.join(categoria.xpath('text()').extract()))\n",
    "                    cat.append(', ')\n",
    "                    catUrl.append(''.join(categoria.xpath('@href').extract()))\n",
    "                    catUrl.append(', ')\n",
    "                item['categoria'] = ''.join(cat)\n",
    "                item['categoriaURL'] = ''.join(catUrl)\n",
    "            print('Categoria: ', item['categoria'])\n",
    "            titulo = artigo.xpath(\".//h2[@class='entry-title h3']//a\")\n",
    "            item['titulo'] = ''.join(titulo.xpath('text()').extract())\n",
    "            item['url'] = ''.join(titulo.xpath('@href').extract())\n",
    "            \n",
    "            metadata = artigo.xpath(\".//div/div[@class='entry-meta']\")\n",
    "            data = metadata.xpath(\".//div[@class='meta-item meta-date']/span[@class='updated']\")\n",
    "            item['dtPostagem'] = ''.join(data.xpath('text()').get())\n",
    "            \n",
    "            comentario = metadata.xpath(\".//div[@class='meta-item meta-views']\")\n",
    "            item['comentarios'] = ''.join(visao.xpath('text()').get())\n",
    "            \n",
    "            yield item\n",
    "        self.log('Artigos raspados: %s' % str(count))\n",
    "        self.log('Fim da raspagem!')"
   ]
  },
  {
   "cell_type": "code",
   "execution_count": null,
   "metadata": {},
   "outputs": [],
   "source": []
  }
 ],
 "metadata": {
  "kernelspec": {
   "display_name": "Python 3",
   "language": "python",
   "name": "python3"
  },
  "language_info": {
   "codemirror_mode": {
    "name": "ipython",
    "version": 3
   },
   "file_extension": ".py",
   "mimetype": "text/x-python",
   "name": "python",
   "nbconvert_exporter": "python",
   "pygments_lexer": "ipython3",
   "version": "3.8.5"
  }
 },
 "nbformat": 4,
 "nbformat_minor": 4
}
