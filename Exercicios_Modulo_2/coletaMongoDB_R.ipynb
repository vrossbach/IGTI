{
 "cells": [
  {
   "cell_type": "markdown",
   "metadata": {},
   "source": [
    "# Coleta de dados no MongoDB com R"
   ]
  },
  {
   "cell_type": "code",
   "execution_count": 1,
   "metadata": {},
   "outputs": [
    {
     "name": "stdout",
     "output_type": "stream",
     "text": [
      "package 'mongolite' successfully unpacked and MD5 sums checked\n",
      "\n",
      "The downloaded binary packages are in\n",
      "\tC:\\Users\\vivie\\AppData\\Local\\Temp\\RtmpOMLvGN\\downloaded_packages\n"
     ]
    }
   ],
   "source": [
    "install.packages('mongolite')"
   ]
  },
  {
   "cell_type": "code",
   "execution_count": 2,
   "metadata": {},
   "outputs": [
    {
     "name": "stderr",
     "output_type": "stream",
     "text": [
      "Loading required package: mongolite\n",
      "Warning message:\n",
      "\"package 'mongolite' was built under R version 3.6.3\""
     ]
    }
   ],
   "source": [
    "# Importação de biblioteca\n",
    "require(mongolite)"
   ]
  },
  {
   "cell_type": "code",
   "execution_count": 3,
   "metadata": {},
   "outputs": [
    {
     "name": "stderr",
     "output_type": "stream",
     "text": [
      "Registered S3 method overwritten by 'openssl':\n",
      "  method      from\n",
      "  print.bytes Rcpp\n"
     ]
    }
   ],
   "source": [
    "# Conectar ao SGBD MongoDB\n",
    "connection <- mongo(collection = \"megasena\", db = \"igti\", url = \"mongodb://localhost\")"
   ]
  },
  {
   "cell_type": "code",
   "execution_count": 4,
   "metadata": {},
   "outputs": [
    {
     "ename": "ERROR",
     "evalue": "Error: Invalid JSON object: {Ganhadores_Sena\":\"1\"}\n",
     "output_type": "error",
     "traceback": [
      "Error: Invalid JSON object: {Ganhadores_Sena\":\"1\"}\nTraceback:\n",
      "1. connection$find(\"{Ganhadores_Sena\\\":\\\"1\\\"}\")",
      "2. mongo_collection_find(col, query = query, sort = sort, fields = fields, \n .     skip = skip, limit = limit)",
      "3. bson_or_json(query)",
      "4. stop(\"Invalid JSON object: \", substring(x, 1, 200))",
      "5. base::stop(..., call. = call.)"
     ]
    }
   ],
   "source": [
    "query <- connection$find('{Ganhadores_Sena\":\"1\"}')"
   ]
  },
  {
   "cell_type": "code",
   "execution_count": 5,
   "metadata": {},
   "outputs": [
    {
     "ename": "ERROR",
     "evalue": "Error in eval(expr, envir, enclos): objeto 'query' não encontrado\n",
     "output_type": "error",
     "traceback": [
      "Error in eval(expr, envir, enclos): objeto 'query' não encontrado\nTraceback:\n"
     ]
    }
   ],
   "source": [
    "exam_scores <- query[c(\"Rateio_Sena\")]"
   ]
  },
  {
   "cell_type": "markdown",
   "metadata": {},
   "source": [
    "# Ler a coleção Iris no arquivo CSV e inserir no MongoDB"
   ]
  },
  {
   "cell_type": "code",
   "execution_count": 6,
   "metadata": {},
   "outputs": [
    {
     "ename": "ERROR",
     "evalue": "Error in read.table(file = file, header = header, sep = sep, quote = quote, : no lines available in input\n",
     "output_type": "error",
     "traceback": [
      "Error in read.table(file = file, header = header, sep = sep, quote = quote, : no lines available in input\nTraceback:\n",
      "1. read.csv(\"C:/Bootcamp/Datasets/CSV/Iris.csv\")",
      "2. read.table(file = file, header = header, sep = sep, quote = quote, \n .     dec = dec, fill = fill, comment.char = comment.char, ...)",
      "3. stop(\"no lines available in input\")"
     ]
    }
   ],
   "source": [
    "iris <- read.csv(\"C:/Bootcamp/Datasets/CSV/Iris.csv\");"
   ]
  },
  {
   "cell_type": "code",
   "execution_count": 7,
   "metadata": {},
   "outputs": [],
   "source": [
    "# Conectar ao SGBD MongoDB, a uma coleção específica\n",
    "connection <- mongo(collection = \"iris\", db = \"igti\", url = \"mongodb://localhost\")"
   ]
  },
  {
   "cell_type": "code",
   "execution_count": 8,
   "metadata": {},
   "outputs": [
    {
     "data": {
      "text/plain": [
       "List of 5\n",
       " $ nInserted  : num 150\n",
       " $ nMatched   : num 0\n",
       " $ nRemoved   : num 0\n",
       " $ nUpserted  : num 0\n",
       " $ writeErrors: list()"
      ]
     },
     "metadata": {},
     "output_type": "display_data"
    }
   ],
   "source": [
    "connection$insert(iris)"
   ]
  },
  {
   "cell_type": "code",
   "execution_count": 9,
   "metadata": {},
   "outputs": [
    {
     "data": {
      "text/html": [
       "<table>\n",
       "<thead><tr><th scope=col>Sepal_Length</th><th scope=col>Sepal_Width</th><th scope=col>Petal_Length</th><th scope=col>Petal_Width</th><th scope=col>Species</th></tr></thead>\n",
       "<tbody>\n",
       "\t<tr><td>5.1   </td><td>3.5   </td><td>1.4   </td><td>0.2   </td><td>setosa</td></tr>\n",
       "\t<tr><td>4.9   </td><td>3.0   </td><td>1.4   </td><td>0.2   </td><td>setosa</td></tr>\n",
       "\t<tr><td>4.7   </td><td>3.2   </td><td>1.3   </td><td>0.2   </td><td>setosa</td></tr>\n",
       "\t<tr><td>4.6   </td><td>3.1   </td><td>1.5   </td><td>0.2   </td><td>setosa</td></tr>\n",
       "\t<tr><td>5.0   </td><td>3.6   </td><td>1.4   </td><td>0.2   </td><td>setosa</td></tr>\n",
       "</tbody>\n",
       "</table>\n"
      ],
      "text/latex": [
       "\\begin{tabular}{r|lllll}\n",
       " Sepal\\_Length & Sepal\\_Width & Petal\\_Length & Petal\\_Width & Species\\\\\n",
       "\\hline\n",
       "\t 5.1    & 3.5    & 1.4    & 0.2    & setosa\\\\\n",
       "\t 4.9    & 3.0    & 1.4    & 0.2    & setosa\\\\\n",
       "\t 4.7    & 3.2    & 1.3    & 0.2    & setosa\\\\\n",
       "\t 4.6    & 3.1    & 1.5    & 0.2    & setosa\\\\\n",
       "\t 5.0    & 3.6    & 1.4    & 0.2    & setosa\\\\\n",
       "\\end{tabular}\n"
      ],
      "text/markdown": [
       "\n",
       "| Sepal_Length | Sepal_Width | Petal_Length | Petal_Width | Species |\n",
       "|---|---|---|---|---|\n",
       "| 5.1    | 3.5    | 1.4    | 0.2    | setosa |\n",
       "| 4.9    | 3.0    | 1.4    | 0.2    | setosa |\n",
       "| 4.7    | 3.2    | 1.3    | 0.2    | setosa |\n",
       "| 4.6    | 3.1    | 1.5    | 0.2    | setosa |\n",
       "| 5.0    | 3.6    | 1.4    | 0.2    | setosa |\n",
       "\n"
      ],
      "text/plain": [
       "  Sepal_Length Sepal_Width Petal_Length Petal_Width Species\n",
       "1 5.1          3.5         1.4          0.2         setosa \n",
       "2 4.9          3.0         1.4          0.2         setosa \n",
       "3 4.7          3.2         1.3          0.2         setosa \n",
       "4 4.6          3.1         1.5          0.2         setosa \n",
       "5 5.0          3.6         1.4          0.2         setosa "
      ]
     },
     "metadata": {},
     "output_type": "display_data"
    }
   ],
   "source": [
    "connection$find(limit = 5)"
   ]
  },
  {
   "cell_type": "code",
   "execution_count": 10,
   "metadata": {},
   "outputs": [
    {
     "data": {
      "text/plain": [
       "List of 6\n",
       " $ nInserted  : int 3\n",
       " $ nMatched   : int 0\n",
       " $ nModified  : int 0\n",
       " $ nRemoved   : int 0\n",
       " $ nUpserted  : int 0\n",
       " $ writeErrors: list()"
      ]
     },
     "metadata": {},
     "output_type": "display_data"
    }
   ],
   "source": [
    "pessoas <- mongo(collection = \"pessoas\", db = \"igti\", url = \"mongodb://localhost\")\n",
    "str <- c('{\"nome\": \"maria\"}', '{\"nome\": \"ana\", \"idade\": 23}','{\"nome\": \"joão\"}')\n",
    "pessoas$insert(str)"
   ]
  },
  {
   "cell_type": "code",
   "execution_count": 11,
   "metadata": {},
   "outputs": [
    {
     "data": {
      "text/html": [
       "<table>\n",
       "<thead><tr><th scope=col>nome</th><th scope=col>idade</th></tr></thead>\n",
       "<tbody>\n",
       "\t<tr><td>maria</td><td>NA   </td></tr>\n",
       "\t<tr><td>ana  </td><td>23   </td></tr>\n",
       "\t<tr><td>joão </td><td>NA   </td></tr>\n",
       "</tbody>\n",
       "</table>\n"
      ],
      "text/latex": [
       "\\begin{tabular}{r|ll}\n",
       " nome & idade\\\\\n",
       "\\hline\n",
       "\t maria & NA   \\\\\n",
       "\t ana   & 23   \\\\\n",
       "\t joão  & NA   \\\\\n",
       "\\end{tabular}\n"
      ],
      "text/markdown": [
       "\n",
       "| nome | idade |\n",
       "|---|---|\n",
       "| maria | NA    |\n",
       "| ana   | 23    |\n",
       "| joão  | NA    |\n",
       "\n"
      ],
      "text/plain": [
       "  nome  idade\n",
       "1 maria NA   \n",
       "2 ana   23   \n",
       "3 joão  NA   "
      ]
     },
     "metadata": {},
     "output_type": "display_data"
    }
   ],
   "source": [
    "pessoas$find()"
   ]
  },
  {
   "cell_type": "code",
   "execution_count": 12,
   "metadata": {},
   "outputs": [
    {
     "data": {
      "text/html": [
       "3"
      ],
      "text/latex": [
       "3"
      ],
      "text/markdown": [
       "3"
      ],
      "text/plain": [
       "[1] 3"
      ]
     },
     "metadata": {},
     "output_type": "display_data"
    }
   ],
   "source": [
    "pessoas$count()"
   ]
  },
  {
   "cell_type": "code",
   "execution_count": 13,
   "metadata": {},
   "outputs": [
    {
     "data": {
      "text/html": [
       "<pre class=language-r><code>function (query = \"{}\") \n",
       "{\n",
       "<span style=white-space:pre-wrap>    check_col()</span>\n",
       "<span style=white-space:pre-wrap>    mongo_collection_count(col, query)</span>\n",
       "}</code></pre>"
      ],
      "text/latex": [
       "\\begin{minted}{r}\n",
       "function (query = \"\\{\\}\") \n",
       "\\{\n",
       "    check\\_col()\n",
       "    mongo\\_collection\\_count(col, query)\n",
       "\\}\n",
       "\\end{minted}"
      ],
      "text/markdown": [
       "```r\n",
       "function (query = \"{}\") \n",
       "{\n",
       "    check_col()\n",
       "    mongo_collection_count(col, query)\n",
       "}\n",
       "```"
      ],
      "text/plain": [
       "function (query = \"{}\") \n",
       "{\n",
       "    check_col()\n",
       "    mongo_collection_count(col, query)\n",
       "}\n",
       "<bytecode: 0x000000005ed9f6d0>\n",
       "<environment: 0x000000005fc00a88>"
      ]
     },
     "metadata": {},
     "output_type": "display_data"
    }
   ],
   "source": [
    "pessoas$remove('{\"idade\": 23}')\n",
    "pessoas$count"
   ]
  },
  {
   "cell_type": "code",
   "execution_count": 14,
   "metadata": {},
   "outputs": [
    {
     "data": {
      "text/html": [
       "<table>\n",
       "<thead><tr><th scope=col>nome</th></tr></thead>\n",
       "<tbody>\n",
       "\t<tr><td>maria</td></tr>\n",
       "\t<tr><td>joão </td></tr>\n",
       "</tbody>\n",
       "</table>\n"
      ],
      "text/latex": [
       "\\begin{tabular}{r|l}\n",
       " nome\\\\\n",
       "\\hline\n",
       "\t maria\\\\\n",
       "\t joão \\\\\n",
       "\\end{tabular}\n"
      ],
      "text/markdown": [
       "\n",
       "| nome |\n",
       "|---|\n",
       "| maria |\n",
       "| joão  |\n",
       "\n"
      ],
      "text/plain": [
       "  nome \n",
       "1 maria\n",
       "2 joão "
      ]
     },
     "metadata": {},
     "output_type": "display_data"
    }
   ],
   "source": [
    "pessoas$find()"
   ]
  },
  {
   "cell_type": "code",
   "execution_count": 15,
   "metadata": {},
   "outputs": [
    {
     "data": {
      "text/plain": [
       "List of 6\n",
       " $ nInserted  : int 3\n",
       " $ nMatched   : int 0\n",
       " $ nModified  : int 0\n",
       " $ nRemoved   : int 0\n",
       " $ nUpserted  : int 0\n",
       " $ writeErrors: list()"
      ]
     },
     "metadata": {},
     "output_type": "display_data"
    }
   ],
   "source": [
    "str <- c('{\"nome\": \"bill\"}', '{\"nome\": \"anna\", \"idade\": 23}', '{\"nome\": \"josé\", \"idade\": 35}')\n",
    "pessoas$insert(str)"
   ]
  },
  {
   "cell_type": "code",
   "execution_count": 16,
   "metadata": {},
   "outputs": [
    {
     "data": {
      "text/html": [
       "<table>\n",
       "<thead><tr><th scope=col>nome</th><th scope=col>idade</th></tr></thead>\n",
       "<tbody>\n",
       "\t<tr><td>maria</td><td>NA   </td></tr>\n",
       "\t<tr><td>joão </td><td>NA   </td></tr>\n",
       "\t<tr><td>bill </td><td>NA   </td></tr>\n",
       "\t<tr><td>anna </td><td>23   </td></tr>\n",
       "\t<tr><td>josé </td><td>35   </td></tr>\n",
       "</tbody>\n",
       "</table>\n"
      ],
      "text/latex": [
       "\\begin{tabular}{r|ll}\n",
       " nome & idade\\\\\n",
       "\\hline\n",
       "\t maria & NA   \\\\\n",
       "\t joão  & NA   \\\\\n",
       "\t bill  & NA   \\\\\n",
       "\t anna  & 23   \\\\\n",
       "\t josé  & 35   \\\\\n",
       "\\end{tabular}\n"
      ],
      "text/markdown": [
       "\n",
       "| nome | idade |\n",
       "|---|---|\n",
       "| maria | NA    |\n",
       "| joão  | NA    |\n",
       "| bill  | NA    |\n",
       "| anna  | 23    |\n",
       "| josé  | 35    |\n",
       "\n"
      ],
      "text/plain": [
       "  nome  idade\n",
       "1 maria NA   \n",
       "2 joão  NA   \n",
       "3 bill  NA   \n",
       "4 anna  23   \n",
       "5 josé  35   "
      ]
     },
     "metadata": {},
     "output_type": "display_data"
    }
   ],
   "source": [
    "pessoas$find()"
   ]
  },
  {
   "cell_type": "code",
   "execution_count": 17,
   "metadata": {},
   "outputs": [
    {
     "data": {
      "text/plain": [
       "List of 3\n",
       " $ modifiedCount: int 1\n",
       " $ matchedCount : int 1\n",
       " $ upsertedCount: int 0"
      ]
     },
     "metadata": {},
     "output_type": "display_data"
    }
   ],
   "source": [
    "pessoas$update('{\"nome\": \"bill\"}', '{\"$set\":{\"idade\": 21}}')"
   ]
  },
  {
   "cell_type": "code",
   "execution_count": 18,
   "metadata": {},
   "outputs": [
    {
     "data": {
      "text/html": [
       "<table>\n",
       "<thead><tr><th scope=col>nome</th><th scope=col>idade</th></tr></thead>\n",
       "<tbody>\n",
       "\t<tr><td>maria</td><td>NA   </td></tr>\n",
       "\t<tr><td>joão </td><td>NA   </td></tr>\n",
       "\t<tr><td>bill </td><td>21   </td></tr>\n",
       "\t<tr><td>anna </td><td>23   </td></tr>\n",
       "\t<tr><td>josé </td><td>35   </td></tr>\n",
       "</tbody>\n",
       "</table>\n"
      ],
      "text/latex": [
       "\\begin{tabular}{r|ll}\n",
       " nome & idade\\\\\n",
       "\\hline\n",
       "\t maria & NA   \\\\\n",
       "\t joão  & NA   \\\\\n",
       "\t bill  & 21   \\\\\n",
       "\t anna  & 23   \\\\\n",
       "\t josé  & 35   \\\\\n",
       "\\end{tabular}\n"
      ],
      "text/markdown": [
       "\n",
       "| nome | idade |\n",
       "|---|---|\n",
       "| maria | NA    |\n",
       "| joão  | NA    |\n",
       "| bill  | 21    |\n",
       "| anna  | 23    |\n",
       "| josé  | 35    |\n",
       "\n"
      ],
      "text/plain": [
       "  nome  idade\n",
       "1 maria NA   \n",
       "2 joão  NA   \n",
       "3 bill  21   \n",
       "4 anna  23   \n",
       "5 josé  35   "
      ]
     },
     "metadata": {},
     "output_type": "display_data"
    }
   ],
   "source": [
    "pessoas$find()"
   ]
  },
  {
   "cell_type": "code",
   "execution_count": null,
   "metadata": {},
   "outputs": [],
   "source": []
  }
 ],
 "metadata": {
  "kernelspec": {
   "display_name": "R",
   "language": "R",
   "name": "ir"
  },
  "language_info": {
   "codemirror_mode": "r",
   "file_extension": ".r",
   "mimetype": "text/x-r-source",
   "name": "R",
   "pygments_lexer": "r",
   "version": "3.6.1"
  }
 },
 "nbformat": 4,
 "nbformat_minor": 4
}
