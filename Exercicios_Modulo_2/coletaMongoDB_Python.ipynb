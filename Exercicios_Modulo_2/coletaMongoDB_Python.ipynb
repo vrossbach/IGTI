{
 "cells": [
  {
   "cell_type": "markdown",
   "metadata": {},
   "source": [
    "# Coleta de Dados no MongoDB com Python"
   ]
  },
  {
   "cell_type": "code",
   "execution_count": 2,
   "metadata": {},
   "outputs": [],
   "source": [
    "import pymongo"
   ]
  },
  {
   "cell_type": "code",
   "execution_count": 3,
   "metadata": {},
   "outputs": [],
   "source": [
    "# Conexão ao banco de dados\n",
    "con = pymongo.MongoClient('localhost', 27017)"
   ]
  },
  {
   "cell_type": "code",
   "execution_count": 4,
   "metadata": {},
   "outputs": [
    {
     "data": {
      "text/plain": [
       "['admin', 'config', 'igti', 'local']"
      ]
     },
     "execution_count": 4,
     "metadata": {},
     "output_type": "execute_result"
    }
   ],
   "source": [
    "# Listar os bancos de dados existentes\n",
    "con.list_database_names()"
   ]
  },
  {
   "cell_type": "code",
   "execution_count": 5,
   "metadata": {},
   "outputs": [],
   "source": [
    "# Selecionar o banco de dados\n",
    "db = con.igti"
   ]
  },
  {
   "cell_type": "code",
   "execution_count": 6,
   "metadata": {},
   "outputs": [
    {
     "data": {
      "text/plain": [
       "['irisDump', 'iris', 'pessoas']"
      ]
     },
     "execution_count": 6,
     "metadata": {},
     "output_type": "execute_result"
    }
   ],
   "source": [
    "# Listar as coleções\n",
    "db.list_collection_names()"
   ]
  },
  {
   "cell_type": "code",
   "execution_count": 7,
   "metadata": {},
   "outputs": [],
   "source": [
    "# Seleciona a coleção\n",
    "collection = db.iris"
   ]
  },
  {
   "cell_type": "code",
   "execution_count": 8,
   "metadata": {},
   "outputs": [
    {
     "data": {
      "text/plain": [
       "{'_id': ObjectId('5fdb62d5754e000051004842'),\n",
       " 'Sepal_Length': 5.1,\n",
       " 'Sepal_Width': 3.5,\n",
       " 'Petal_Length': 1.4,\n",
       " 'Petal_Width': 0.2,\n",
       " 'Species': 'setosa'}"
      ]
     },
     "execution_count": 8,
     "metadata": {},
     "output_type": "execute_result"
    }
   ],
   "source": [
    "# Selecionar o primeiro elemento da coleção\n",
    "collection.find_one()"
   ]
  },
  {
   "cell_type": "code",
   "execution_count": 9,
   "metadata": {},
   "outputs": [
    {
     "data": {
      "text/plain": [
       "MongoClient(host=['localhost:27017'], document_class=dict, tz_aware=False, connect=True)"
      ]
     },
     "execution_count": 9,
     "metadata": {},
     "output_type": "execute_result"
    }
   ],
   "source": [
    "con"
   ]
  },
  {
   "cell_type": "code",
   "execution_count": 10,
   "metadata": {},
   "outputs": [
    {
     "data": {
      "text/plain": [
       "Database(MongoClient(host=['localhost:27017'], document_class=dict, tz_aware=False, connect=True), 'igti')"
      ]
     },
     "execution_count": 10,
     "metadata": {},
     "output_type": "execute_result"
    }
   ],
   "source": [
    "db"
   ]
  },
  {
   "cell_type": "code",
   "execution_count": 12,
   "metadata": {},
   "outputs": [
    {
     "name": "stdout",
     "output_type": "stream",
     "text": [
      "{'_id': ObjectId('5fdb62d5754e000051004842'), 'Sepal_Length': 5.1, 'Sepal_Width': 3.5, 'Petal_Length': 1.4, 'Petal_Width': 0.2, 'Species': 'setosa'}\n"
     ]
    }
   ],
   "source": [
    "# Selecionar o primeiro elemento da coleção que atenda a condição\n",
    "print(collection.find_one({\"Sepal_Length\": 5.1}))"
   ]
  },
  {
   "cell_type": "code",
   "execution_count": 13,
   "metadata": {},
   "outputs": [],
   "source": [
    "import pprint"
   ]
  },
  {
   "cell_type": "code",
   "execution_count": 14,
   "metadata": {},
   "outputs": [
    {
     "name": "stdout",
     "output_type": "stream",
     "text": [
      "{'Petal_Length': 1.4,\n",
      " 'Petal_Width': 0.2,\n",
      " 'Sepal_Length': 5.1,\n",
      " 'Sepal_Width': 3.5,\n",
      " 'Species': 'setosa',\n",
      " '_id': ObjectId('5fdb62d5754e000051004842')}\n"
     ]
    }
   ],
   "source": [
    "pprint.pprint(collection.find_one({\"Sepal_Length\": 5.1}))"
   ]
  },
  {
   "cell_type": "code",
   "execution_count": 15,
   "metadata": {},
   "outputs": [
    {
     "name": "stdout",
     "output_type": "stream",
     "text": [
      "{'Petal_Length': 1.4,\n",
      " 'Petal_Width': 0.2,\n",
      " 'Sepal_Length': 5.1,\n",
      " 'Sepal_Width': 3.5,\n",
      " 'Species': 'setosa',\n",
      " '_id': ObjectId('5fdb62d5754e000051004842')}\n",
      "{'Petal_Length': 1.4,\n",
      " 'Petal_Width': 0.3,\n",
      " 'Sepal_Length': 5.1,\n",
      " 'Sepal_Width': 3.5,\n",
      " 'Species': 'setosa',\n",
      " '_id': ObjectId('5fdb62d5754e000051004853')}\n",
      "{'Petal_Length': 1.5,\n",
      " 'Petal_Width': 0.3,\n",
      " 'Sepal_Length': 5.1,\n",
      " 'Sepal_Width': 3.8,\n",
      " 'Species': 'setosa',\n",
      " '_id': ObjectId('5fdb62d5754e000051004855')}\n",
      "{'Petal_Length': 1.5,\n",
      " 'Petal_Width': 0.4,\n",
      " 'Sepal_Length': 5.1,\n",
      " 'Sepal_Width': 3.7,\n",
      " 'Species': 'setosa',\n",
      " '_id': ObjectId('5fdb62d5754e000051004857')}\n",
      "{'Petal_Length': 1.7,\n",
      " 'Petal_Width': 0.5,\n",
      " 'Sepal_Length': 5.1,\n",
      " 'Sepal_Width': 3.3,\n",
      " 'Species': 'setosa',\n",
      " '_id': ObjectId('5fdb62d5754e000051004859')}\n",
      "{'Petal_Length': 1.5,\n",
      " 'Petal_Width': 0.2,\n",
      " 'Sepal_Length': 5.1,\n",
      " 'Sepal_Width': 3.4,\n",
      " 'Species': 'setosa',\n",
      " '_id': ObjectId('5fdb62d5754e000051004869')}\n",
      "{'Petal_Length': 1.9,\n",
      " 'Petal_Width': 0.4,\n",
      " 'Sepal_Length': 5.1,\n",
      " 'Sepal_Width': 3.8,\n",
      " 'Species': 'setosa',\n",
      " '_id': ObjectId('5fdb62d5754e00005100486e')}\n",
      "{'Petal_Length': 1.6,\n",
      " 'Petal_Width': 0.2,\n",
      " 'Sepal_Length': 5.1,\n",
      " 'Sepal_Width': 3.8,\n",
      " 'Species': 'setosa',\n",
      " '_id': ObjectId('5fdb62d5754e000051004870')}\n",
      "{'Petal_Length': 3.0,\n",
      " 'Petal_Width': 1.1,\n",
      " 'Sepal_Length': 5.1,\n",
      " 'Sepal_Width': 2.5,\n",
      " 'Species': 'versicolor',\n",
      " '_id': ObjectId('5fdb62d5754e0000510048a4')}\n"
     ]
    }
   ],
   "source": [
    "for documents in collection.find({\"Sepal_Length\": 5.1}):\n",
    "    pprint.pprint(documents)"
   ]
  },
  {
   "cell_type": "code",
   "execution_count": 16,
   "metadata": {},
   "outputs": [
    {
     "data": {
      "text/plain": [
       "['irisDump', 'iris', 'pessoas']"
      ]
     },
     "execution_count": 16,
     "metadata": {},
     "output_type": "execute_result"
    }
   ],
   "source": [
    "# Listar as coleções\n",
    "db.list_collection_names()"
   ]
  },
  {
   "cell_type": "markdown",
   "metadata": {},
   "source": [
    "## Criar banco de dados e coleção"
   ]
  },
  {
   "cell_type": "code",
   "execution_count": 17,
   "metadata": {},
   "outputs": [],
   "source": [
    "con = pymongo.MongoClient(\"mongodb://localhost:27017/\")"
   ]
  },
  {
   "cell_type": "code",
   "execution_count": 18,
   "metadata": {},
   "outputs": [],
   "source": [
    "db = con[\"Vendas\"]"
   ]
  },
  {
   "cell_type": "code",
   "execution_count": 20,
   "metadata": {},
   "outputs": [
    {
     "data": {
      "text/plain": [
       "['admin', 'config', 'igti', 'local']"
      ]
     },
     "execution_count": 20,
     "metadata": {},
     "output_type": "execute_result"
    }
   ],
   "source": [
    "con.list_database_names()"
   ]
  },
  {
   "cell_type": "code",
   "execution_count": 21,
   "metadata": {},
   "outputs": [],
   "source": [
    "colecao = db[\"clientes\"]"
   ]
  },
  {
   "cell_type": "code",
   "execution_count": 22,
   "metadata": {},
   "outputs": [
    {
     "data": {
      "text/plain": [
       "[]"
      ]
     },
     "execution_count": 22,
     "metadata": {},
     "output_type": "execute_result"
    }
   ],
   "source": [
    "db.list_collection_names()"
   ]
  },
  {
   "cell_type": "code",
   "execution_count": 23,
   "metadata": {},
   "outputs": [],
   "source": [
    "documento = {\"nome\": \"maria\", \"idade\": 23}"
   ]
  },
  {
   "cell_type": "code",
   "execution_count": 24,
   "metadata": {},
   "outputs": [],
   "source": [
    "resultado = colecao.insert_one(documento)"
   ]
  },
  {
   "cell_type": "code",
   "execution_count": 25,
   "metadata": {},
   "outputs": [
    {
     "name": "stdout",
     "output_type": "stream",
     "text": [
      "<pymongo.results.InsertOneResult object at 0x0000020AAD5B7480>\n"
     ]
    }
   ],
   "source": [
    "print(resultado)"
   ]
  },
  {
   "cell_type": "code",
   "execution_count": 26,
   "metadata": {},
   "outputs": [
    {
     "data": {
      "text/plain": [
       "['Vendas', 'admin', 'config', 'igti', 'local']"
      ]
     },
     "execution_count": 26,
     "metadata": {},
     "output_type": "execute_result"
    }
   ],
   "source": [
    "con.list_database_names()"
   ]
  },
  {
   "cell_type": "code",
   "execution_count": 27,
   "metadata": {},
   "outputs": [
    {
     "data": {
      "text/plain": [
       "['clientes']"
      ]
     },
     "execution_count": 27,
     "metadata": {},
     "output_type": "execute_result"
    }
   ],
   "source": [
    "db.list_collection_names()"
   ]
  },
  {
   "cell_type": "code",
   "execution_count": 28,
   "metadata": {},
   "outputs": [
    {
     "name": "stdout",
     "output_type": "stream",
     "text": [
      "{'_id': ObjectId('5fdb8da2de85f7c26105abc3'), 'nome': 'maria', 'idade': 23}\n"
     ]
    }
   ],
   "source": [
    "print(colecao.find_one())"
   ]
  },
  {
   "cell_type": "code",
   "execution_count": 29,
   "metadata": {},
   "outputs": [
    {
     "name": "stdout",
     "output_type": "stream",
     "text": [
      "{'_id': ObjectId('5fdb8da2de85f7c26105abc3'), 'idade': 23, 'nome': 'maria'}\n"
     ]
    }
   ],
   "source": [
    "for resultado in colecao.find():\n",
    "    pprint.pprint(resultado)"
   ]
  },
  {
   "cell_type": "code",
   "execution_count": 30,
   "metadata": {},
   "outputs": [],
   "source": [
    "documento = [\n",
    "    {\"nome\": \"jorge\", \"idade\": 33},\n",
    "    {\"nome\": \"ana\"},\n",
    "    {\"nome\": \"Willian\", \"endereco\": \"Avenida Central n. 954\"},\n",
    "    {\"nome\": \"ana\", \"endereco\": \"Avenida Central n. 954\"},\n",
    "    {\"nome\": \"William\", \"endereco\": \"Avenida Central n. 954\"},\n",
    "    {\"nome\": \"William\"}\n",
    "]"
   ]
  },
  {
   "cell_type": "code",
   "execution_count": 31,
   "metadata": {},
   "outputs": [
    {
     "name": "stdout",
     "output_type": "stream",
     "text": [
      "[{'idade': 33, 'nome': 'jorge'},\n",
      " {'nome': 'ana'},\n",
      " {'endereco': 'Avenida Central n. 954', 'nome': 'Willian'},\n",
      " {'endereco': 'Avenida Central n. 954', 'nome': 'ana'},\n",
      " {'endereco': 'Avenida Central n. 954', 'nome': 'William'},\n",
      " {'nome': 'William'}]\n"
     ]
    }
   ],
   "source": [
    "pprint.pprint(documento)"
   ]
  },
  {
   "cell_type": "code",
   "execution_count": 32,
   "metadata": {},
   "outputs": [],
   "source": [
    "resultado = colecao.insert_many(documento)"
   ]
  },
  {
   "cell_type": "code",
   "execution_count": 33,
   "metadata": {},
   "outputs": [
    {
     "name": "stdout",
     "output_type": "stream",
     "text": [
      "<pymongo.results.InsertManyResult object at 0x0000020AAD615740>\n"
     ]
    }
   ],
   "source": [
    "print(resultado)"
   ]
  },
  {
   "cell_type": "code",
   "execution_count": 34,
   "metadata": {},
   "outputs": [
    {
     "name": "stdout",
     "output_type": "stream",
     "text": [
      "{'_id': ObjectId('5fdb8da2de85f7c26105abc3'), 'idade': 23, 'nome': 'maria'}\n",
      "{'_id': ObjectId('5fdb8ed2de85f7c26105abc4'), 'idade': 33, 'nome': 'jorge'}\n",
      "{'_id': ObjectId('5fdb8ed2de85f7c26105abc5'), 'nome': 'ana'}\n",
      "{'_id': ObjectId('5fdb8ed2de85f7c26105abc6'),\n",
      " 'endereco': 'Avenida Central n. 954',\n",
      " 'nome': 'Willian'}\n",
      "{'_id': ObjectId('5fdb8ed2de85f7c26105abc7'),\n",
      " 'endereco': 'Avenida Central n. 954',\n",
      " 'nome': 'ana'}\n",
      "{'_id': ObjectId('5fdb8ed2de85f7c26105abc8'),\n",
      " 'endereco': 'Avenida Central n. 954',\n",
      " 'nome': 'William'}\n",
      "{'_id': ObjectId('5fdb8ed2de85f7c26105abc9'), 'nome': 'William'}\n"
     ]
    }
   ],
   "source": [
    "for resultado in colecao.find():\n",
    "    pprint.pprint(resultado)"
   ]
  },
  {
   "cell_type": "code",
   "execution_count": 35,
   "metadata": {},
   "outputs": [
    {
     "name": "stdout",
     "output_type": "stream",
     "text": [
      "{'_id': ObjectId('5fdb8da2de85f7c26105abc3'), 'idade': 23, 'nome': 'maria'}\n",
      "{'_id': ObjectId('5fdb8ed2de85f7c26105abc4'), 'idade': 33, 'nome': 'jorge'}\n",
      "{'_id': ObjectId('5fdb8ed2de85f7c26105abc5'),\n",
      " 'logradouro': 'Avenida JK',\n",
      " 'nome': 'ana',\n",
      " 'num': 345}\n",
      "{'_id': ObjectId('5fdb8ed2de85f7c26105abc6'),\n",
      " 'endereco': 'Avenida Central n. 954',\n",
      " 'nome': 'Willian'}\n",
      "{'_id': ObjectId('5fdb8ed2de85f7c26105abc7'),\n",
      " 'endereco': 'Avenida Central n. 954',\n",
      " 'nome': 'ana'}\n",
      "{'_id': ObjectId('5fdb8ed2de85f7c26105abc8'),\n",
      " 'endereco': 'Avenida Central n. 954',\n",
      " 'nome': 'William'}\n",
      "{'_id': ObjectId('5fdb8ed2de85f7c26105abc9'), 'nome': 'William'}\n"
     ]
    }
   ],
   "source": [
    "condicao = {'nome': 'ana'}\n",
    "valor = {\"$set\": {\"logradouro\": \"Avenida JK\", \"num\": 345}}\n",
    "colecao.update_one(condicao, valor)\n",
    "\n",
    "for resultado in colecao.find():\n",
    "    pprint.pprint(resultado)"
   ]
  },
  {
   "cell_type": "code",
   "execution_count": 36,
   "metadata": {},
   "outputs": [
    {
     "name": "stdout",
     "output_type": "stream",
     "text": [
      "{'_id': ObjectId('5fdb8ed2de85f7c26105abc5'),\n",
      " 'logradouro': 'Avenida JK',\n",
      " 'nome': 'ana',\n",
      " 'num': 345}\n",
      "{'_id': ObjectId('5fdb8ed2de85f7c26105abc7'),\n",
      " 'endereco': 'Avenida Central n. 954',\n",
      " 'nome': 'ana'}\n"
     ]
    }
   ],
   "source": [
    "for resultado in colecao.find({'nome': 'ana'}):\n",
    "    pprint.pprint(resultado)"
   ]
  },
  {
   "cell_type": "code",
   "execution_count": 37,
   "metadata": {},
   "outputs": [
    {
     "name": "stdout",
     "output_type": "stream",
     "text": [
      "{'_id': ObjectId('5fdb8ed2de85f7c26105abc8'),\n",
      " 'endereco': 'Avenida Central n. 954',\n",
      " 'nome': 'William'}\n",
      "{'_id': ObjectId('5fdb8ed2de85f7c26105abc9'), 'nome': 'William'}\n"
     ]
    }
   ],
   "source": [
    "for resultado in colecao.find({'nome': 'William'}):\n",
    "    pprint.pprint(resultado)"
   ]
  },
  {
   "cell_type": "code",
   "execution_count": 38,
   "metadata": {},
   "outputs": [
    {
     "data": {
      "text/plain": [
       "<pymongo.results.DeleteResult at 0x20aad624980>"
      ]
     },
     "execution_count": 38,
     "metadata": {},
     "output_type": "execute_result"
    }
   ],
   "source": [
    "condicao = {'nome': 'William'}\n",
    "colecao.delete_one(condicao)"
   ]
  },
  {
   "cell_type": "code",
   "execution_count": 39,
   "metadata": {},
   "outputs": [
    {
     "name": "stdout",
     "output_type": "stream",
     "text": [
      "{'_id': ObjectId('5fdb8ed2de85f7c26105abc9'), 'nome': 'William'}\n"
     ]
    }
   ],
   "source": [
    "for resultado in colecao.find({'nome': 'William'}):\n",
    "    pprint.pprint(resultado)"
   ]
  },
  {
   "cell_type": "code",
   "execution_count": 40,
   "metadata": {},
   "outputs": [
    {
     "data": {
      "text/plain": [
       "<pymongo.results.DeleteResult at 0x20aad5b7a40>"
      ]
     },
     "execution_count": 40,
     "metadata": {},
     "output_type": "execute_result"
    }
   ],
   "source": [
    "condicao = {'nome': 'William'}\n",
    "colecao.delete_many(condicao)"
   ]
  },
  {
   "cell_type": "code",
   "execution_count": 41,
   "metadata": {},
   "outputs": [],
   "source": [
    "for resultado in colecao.find({'nome': 'William'}):\n",
    "    pprint.pprint(resultado)"
   ]
  },
  {
   "cell_type": "code",
   "execution_count": 42,
   "metadata": {},
   "outputs": [
    {
     "name": "stdout",
     "output_type": "stream",
     "text": [
      "{'_id': ObjectId('5fdb8da2de85f7c26105abc3'), 'idade': 23, 'nome': 'maria'}\n",
      "{'_id': ObjectId('5fdb8ed2de85f7c26105abc4'), 'idade': 33, 'nome': 'jorge'}\n",
      "{'_id': ObjectId('5fdb8ed2de85f7c26105abc5'),\n",
      " 'logradouro': 'Avenida JK',\n",
      " 'nome': 'ana',\n",
      " 'num': 345}\n",
      "{'_id': ObjectId('5fdb8ed2de85f7c26105abc6'),\n",
      " 'endereco': 'Avenida Central n. 954',\n",
      " 'nome': 'Willian'}\n",
      "{'_id': ObjectId('5fdb8ed2de85f7c26105abc7'),\n",
      " 'endereco': 'Avenida Central n. 954',\n",
      " 'nome': 'ana'}\n"
     ]
    }
   ],
   "source": [
    "for resultado in colecao.find():\n",
    "    pprint.pprint(resultado)"
   ]
  },
  {
   "cell_type": "code",
   "execution_count": null,
   "metadata": {},
   "outputs": [],
   "source": []
  }
 ],
 "metadata": {
  "kernelspec": {
   "display_name": "Python 3",
   "language": "python",
   "name": "python3"
  },
  "language_info": {
   "codemirror_mode": {
    "name": "ipython",
    "version": 3
   },
   "file_extension": ".py",
   "mimetype": "text/x-python",
   "name": "python",
   "nbconvert_exporter": "python",
   "pygments_lexer": "ipython3",
   "version": "3.8.5"
  }
 },
 "nbformat": 4,
 "nbformat_minor": 4
}
