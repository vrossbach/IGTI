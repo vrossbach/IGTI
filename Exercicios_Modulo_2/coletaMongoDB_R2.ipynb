{
 "cells": [
  {
   "cell_type": "markdown",
   "metadata": {},
   "source": [
    "# Coleta de Dados no MongoDB com R (parte 2)"
   ]
  },
  {
   "cell_type": "code",
   "execution_count": 1,
   "metadata": {},
   "outputs": [
    {
     "name": "stdout",
     "output_type": "stream",
     "text": [
      "package 'mongolite' successfully unpacked and MD5 sums checked\n"
     ]
    },
    {
     "name": "stderr",
     "output_type": "stream",
     "text": [
      "Warning message:\n",
      "\"cannot remove prior installation of package 'mongolite'\"Warning message in file.copy(savedcopy, lib, recursive = TRUE):\n",
      "\"problem copying C:\\Users\\vivie\\anaconda3\\envs\\bootcamp\\Lib\\R\\library\\00LOCK\\mongolite\\libs\\x64\\mongolite.dll to C:\\Users\\vivie\\anaconda3\\envs\\bootcamp\\Lib\\R\\library\\mongolite\\libs\\x64\\mongolite.dll: Permission denied\"Warning message:\n",
      "\"restored 'mongolite'\""
     ]
    },
    {
     "name": "stdout",
     "output_type": "stream",
     "text": [
      "\n",
      "The downloaded binary packages are in\n",
      "\tC:\\Users\\vivie\\AppData\\Local\\Temp\\RtmpW074Xg\\downloaded_packages\n"
     ]
    }
   ],
   "source": [
    "install.packages('mongolite')"
   ]
  },
  {
   "cell_type": "code",
   "execution_count": 2,
   "metadata": {},
   "outputs": [
    {
     "name": "stderr",
     "output_type": "stream",
     "text": [
      "Loading required package: mongolite\n",
      "Warning message:\n",
      "\"package 'mongolite' was built under R version 3.6.3\""
     ]
    }
   ],
   "source": [
    "require(mongolite)"
   ]
  },
  {
   "cell_type": "code",
   "execution_count": 3,
   "metadata": {},
   "outputs": [
    {
     "name": "stderr",
     "output_type": "stream",
     "text": [
      "Registered S3 method overwritten by 'openssl':\n",
      "  method      from\n",
      "  print.bytes Rcpp\n"
     ]
    }
   ],
   "source": [
    "# Conexão ao banco de dados\n",
    "iris <- mongo(collection = \"iris\", db = \"igti\", url = \"mongodb://localhost\")"
   ]
  },
  {
   "cell_type": "code",
   "execution_count": 4,
   "metadata": {},
   "outputs": [
    {
     "data": {
      "text/html": [
       "150"
      ],
      "text/latex": [
       "150"
      ],
      "text/markdown": [
       "150"
      ],
      "text/plain": [
       "[1] 150"
      ]
     },
     "metadata": {},
     "output_type": "display_data"
    }
   ],
   "source": [
    "# Contar quantos documentos existem na coleção iris\n",
    "iris$count()"
   ]
  },
  {
   "cell_type": "code",
   "execution_count": 5,
   "metadata": {},
   "outputs": [],
   "source": [
    "# Criar dataframe com todos os dados da coleção\n",
    "iris.df <- iris$find()"
   ]
  },
  {
   "cell_type": "code",
   "execution_count": 7,
   "metadata": {},
   "outputs": [
    {
     "name": "stdout",
     "output_type": "stream",
     "text": [
      "[1] \"Número de colunas:  5\"\n",
      "[1] \"Número de linhas:  150\"\n",
      "[1] \"Tamanho:  5\"\n"
     ]
    }
   ],
   "source": [
    "print(paste('Número de colunas: ', ncol(iris.df)))\n",
    "print(paste('Número de linhas: ', nrow(iris.df)))\n",
    "print(paste('Tamanho: ', length(iris.df)))"
   ]
  },
  {
   "cell_type": "code",
   "execution_count": 8,
   "metadata": {},
   "outputs": [
    {
     "data": {
      "text/html": [
       "<table>\n",
       "<thead><tr><th scope=col>Sepal_Length</th><th scope=col>Sepal_Width</th><th scope=col>Petal_Length</th><th scope=col>Petal_Width</th><th scope=col>Species</th></tr></thead>\n",
       "<tbody>\n",
       "\t<tr><td>5.1   </td><td>3.5   </td><td>1.4   </td><td>0.2   </td><td>setosa</td></tr>\n",
       "\t<tr><td>4.9   </td><td>3.0   </td><td>1.4   </td><td>0.2   </td><td>setosa</td></tr>\n",
       "\t<tr><td>4.7   </td><td>3.2   </td><td>1.3   </td><td>0.2   </td><td>setosa</td></tr>\n",
       "\t<tr><td>4.6   </td><td>3.1   </td><td>1.5   </td><td>0.2   </td><td>setosa</td></tr>\n",
       "\t<tr><td>5.0   </td><td>3.6   </td><td>1.4   </td><td>0.2   </td><td>setosa</td></tr>\n",
       "\t<tr><td>5.4   </td><td>3.9   </td><td>1.7   </td><td>0.4   </td><td>setosa</td></tr>\n",
       "</tbody>\n",
       "</table>\n"
      ],
      "text/latex": [
       "\\begin{tabular}{r|lllll}\n",
       " Sepal\\_Length & Sepal\\_Width & Petal\\_Length & Petal\\_Width & Species\\\\\n",
       "\\hline\n",
       "\t 5.1    & 3.5    & 1.4    & 0.2    & setosa\\\\\n",
       "\t 4.9    & 3.0    & 1.4    & 0.2    & setosa\\\\\n",
       "\t 4.7    & 3.2    & 1.3    & 0.2    & setosa\\\\\n",
       "\t 4.6    & 3.1    & 1.5    & 0.2    & setosa\\\\\n",
       "\t 5.0    & 3.6    & 1.4    & 0.2    & setosa\\\\\n",
       "\t 5.4    & 3.9    & 1.7    & 0.4    & setosa\\\\\n",
       "\\end{tabular}\n"
      ],
      "text/markdown": [
       "\n",
       "| Sepal_Length | Sepal_Width | Petal_Length | Petal_Width | Species |\n",
       "|---|---|---|---|---|\n",
       "| 5.1    | 3.5    | 1.4    | 0.2    | setosa |\n",
       "| 4.9    | 3.0    | 1.4    | 0.2    | setosa |\n",
       "| 4.7    | 3.2    | 1.3    | 0.2    | setosa |\n",
       "| 4.6    | 3.1    | 1.5    | 0.2    | setosa |\n",
       "| 5.0    | 3.6    | 1.4    | 0.2    | setosa |\n",
       "| 5.4    | 3.9    | 1.7    | 0.4    | setosa |\n",
       "\n"
      ],
      "text/plain": [
       "  Sepal_Length Sepal_Width Petal_Length Petal_Width Species\n",
       "1 5.1          3.5         1.4          0.2         setosa \n",
       "2 4.9          3.0         1.4          0.2         setosa \n",
       "3 4.7          3.2         1.3          0.2         setosa \n",
       "4 4.6          3.1         1.5          0.2         setosa \n",
       "5 5.0          3.6         1.4          0.2         setosa \n",
       "6 5.4          3.9         1.7          0.4         setosa "
      ]
     },
     "metadata": {},
     "output_type": "display_data"
    }
   ],
   "source": [
    "# Imprimir as 6 primeiras linhas do vetor dataframe iris\n",
    "head(iris.df)"
   ]
  },
  {
   "cell_type": "code",
   "execution_count": 9,
   "metadata": {},
   "outputs": [
    {
     "name": "stdout",
     "output_type": "stream",
     "text": [
      "[1] \"Sepal_Length\" \"Sepal_Width\"  \"Petal_Length\" \"Petal_Width\"  \"Species\"     \n",
      "  [1] \"1\"   \"2\"   \"3\"   \"4\"   \"5\"   \"6\"   \"7\"   \"8\"   \"9\"   \"10\"  \"11\"  \"12\" \n",
      " [13] \"13\"  \"14\"  \"15\"  \"16\"  \"17\"  \"18\"  \"19\"  \"20\"  \"21\"  \"22\"  \"23\"  \"24\" \n",
      " [25] \"25\"  \"26\"  \"27\"  \"28\"  \"29\"  \"30\"  \"31\"  \"32\"  \"33\"  \"34\"  \"35\"  \"36\" \n",
      " [37] \"37\"  \"38\"  \"39\"  \"40\"  \"41\"  \"42\"  \"43\"  \"44\"  \"45\"  \"46\"  \"47\"  \"48\" \n",
      " [49] \"49\"  \"50\"  \"51\"  \"52\"  \"53\"  \"54\"  \"55\"  \"56\"  \"57\"  \"58\"  \"59\"  \"60\" \n",
      " [61] \"61\"  \"62\"  \"63\"  \"64\"  \"65\"  \"66\"  \"67\"  \"68\"  \"69\"  \"70\"  \"71\"  \"72\" \n",
      " [73] \"73\"  \"74\"  \"75\"  \"76\"  \"77\"  \"78\"  \"79\"  \"80\"  \"81\"  \"82\"  \"83\"  \"84\" \n",
      " [85] \"85\"  \"86\"  \"87\"  \"88\"  \"89\"  \"90\"  \"91\"  \"92\"  \"93\"  \"94\"  \"95\"  \"96\" \n",
      " [97] \"97\"  \"98\"  \"99\"  \"100\" \"101\" \"102\" \"103\" \"104\" \"105\" \"106\" \"107\" \"108\"\n",
      "[109] \"109\" \"110\" \"111\" \"112\" \"113\" \"114\" \"115\" \"116\" \"117\" \"118\" \"119\" \"120\"\n",
      "[121] \"121\" \"122\" \"123\" \"124\" \"125\" \"126\" \"127\" \"128\" \"129\" \"130\" \"131\" \"132\"\n",
      "[133] \"133\" \"134\" \"135\" \"136\" \"137\" \"138\" \"139\" \"140\" \"141\" \"142\" \"143\" \"144\"\n",
      "[145] \"145\" \"146\" \"147\" \"148\" \"149\" \"150\"\n"
     ]
    }
   ],
   "source": [
    "# Imprimir os nome das colunas e linhas do dataframe iris\n",
    "print(colnames(iris.df))\n",
    "print(rownames(iris.df))"
   ]
  },
  {
   "cell_type": "code",
   "execution_count": 10,
   "metadata": {},
   "outputs": [],
   "source": [
    "# Gravar arquivo CSV\n",
    "write.csv(iris.df, 'C:/Bootcamp/Datasets/CSV/irisFromMongo.csv', row.names=FALSE)"
   ]
  },
  {
   "cell_type": "code",
   "execution_count": 11,
   "metadata": {},
   "outputs": [],
   "source": [
    "# Criar um novo dataframe idêntico ao iris\n",
    "iris.df2 <- iris.df"
   ]
  },
  {
   "cell_type": "code",
   "execution_count": 12,
   "metadata": {},
   "outputs": [
    {
     "name": "stdout",
     "output_type": "stream",
     "text": [
      "[1] \"Colunas do dataframe 2:\"\n",
      "[1] \"\"\n",
      "[1] \"Sepal_Length\" \"Sepal_Width\"  \"Petal_Length\" \"Petal_Width\"  \"Species\"     \n"
     ]
    }
   ],
   "source": [
    "print(\"Colunas do dataframe 2:\")\n",
    "print('')\n",
    "print(colnames(iris.df2))"
   ]
  },
  {
   "cell_type": "code",
   "execution_count": 13,
   "metadata": {},
   "outputs": [
    {
     "name": "stdout",
     "output_type": "stream",
     "text": [
      "[1] \"Colunas do dataframe 2 após setar colunas ID e Espécie para NULL:\"\n",
      "[1] \"\"\n",
      "[1] \"Sepal_Length\" \"Sepal_Width\"  \"Petal_Length\" \"Petal_Width\"  \"Species\"     \n"
     ]
    }
   ],
   "source": [
    "iris.df2$Id <- NULL\n",
    "iris.df2$Especie <- NULL\n",
    "print(\"Colunas do dataframe 2 após setar colunas ID e Espécie para NULL:\")\n",
    "print('')\n",
    "print(colnames(iris.df2))"
   ]
  },
  {
   "cell_type": "code",
   "execution_count": 14,
   "metadata": {},
   "outputs": [
    {
     "name": "stdout",
     "output_type": "stream",
     "text": [
      "[1] \"Sepal_Length\" \"Sepal_Width\"  \"Petal_Length\" \"Petal_Width\"  \"Species\"     \n"
     ]
    }
   ],
   "source": [
    "# Renomear as colunas do dataframe\n",
    "colnames(iris.df2[1]) <- \"Comprimento_Sepala\"\n",
    "colnames(iris.df2[2]) <- \"Largura_Sepala\"\n",
    "colnames(iris.df2[3]) <- \"Comprimento_Petala\"\n",
    "colnames(iris.df2[4]) <- \"Largura_Petala\"\n",
    "print(colnames(iris.df2))"
   ]
  },
  {
   "cell_type": "code",
   "execution_count": 15,
   "metadata": {},
   "outputs": [
    {
     "data": {
      "text/plain": [
       "  Sepal_Length    Sepal_Width     Petal_Length    Petal_Width   \n",
       " Min.   :4.300   Min.   :2.000   Min.   :1.000   Min.   :0.100  \n",
       " 1st Qu.:5.100   1st Qu.:2.800   1st Qu.:1.600   1st Qu.:0.300  \n",
       " Median :5.800   Median :3.000   Median :4.350   Median :1.300  \n",
       " Mean   :5.843   Mean   :3.057   Mean   :3.758   Mean   :1.199  \n",
       " 3rd Qu.:6.400   3rd Qu.:3.300   3rd Qu.:5.100   3rd Qu.:1.800  \n",
       " Max.   :7.900   Max.   :4.400   Max.   :6.900   Max.   :2.500  \n",
       "   Species         \n",
       " Length:150        \n",
       " Class :character  \n",
       " Mode  :character  \n",
       "                   \n",
       "                   \n",
       "                   "
      ]
     },
     "metadata": {},
     "output_type": "display_data"
    }
   ],
   "source": [
    "# Resumo das estatísticas descritivas\n",
    "summary(iris.df2)"
   ]
  },
  {
   "cell_type": "raw",
   "metadata": {},
   "source": [
    "# Boxplot mostrando a mediana(linha horizontal, quartis de 25% e 75% (caixa verde - col = 3) e observações máxima e mínima (linhas verticais) - ylab e xlab são as etiquetas dos eixos y e x, respectivamente. O parâmetro col=3 indica que a cor da barra é verde)"
   ]
  },
  {
   "cell_type": "code",
   "execution_count": 16,
   "metadata": {},
   "outputs": [
    {
     "ename": "ERROR",
     "evalue": "Error in x[floor(d)] + x[ceiling(d)]: argumento não-numérico para operador binário\n",
     "output_type": "error",
     "traceback": [
      "Error in x[floor(d)] + x[ceiling(d)]: argumento não-numérico para operador binário\nTraceback:\n",
      "1. boxplot(iris.df2, col = 3, ylab = \"Valores(cm)\", xlab = \"Característica\")",
      "2. boxplot.default(iris.df2, col = 3, ylab = \"Valores(cm)\", xlab = \"Característica\")",
      "3. boxplot.stats(unclass(groups[[i]]), range)",
      "4. stats::fivenum(x, na.rm = TRUE)"
     ]
    }
   ],
   "source": [
    "boxplot(iris.df2, col=3, ylab=\"Valores(cm)\", xlab=\"Característica\")"
   ]
  },
  {
   "cell_type": "raw",
   "metadata": {},
   "source": [
    "# Usa range=0 para não mostrar os outliers (observações extremas representadas como pontos). O parâmetro col=2 indica que a cor da barra é vermelha."
   ]
  },
  {
   "cell_type": "code",
   "execution_count": 30,
   "metadata": {},
   "outputs": [
    {
     "name": "stderr",
     "output_type": "stream",
     "text": [
      "Warning message:\n",
      "\"package 'ggplot2' is in use and will not be installed\""
     ]
    }
   ],
   "source": [
    "install.packages(\"ggplot2\")"
   ]
  },
  {
   "cell_type": "code",
   "execution_count": 23,
   "metadata": {},
   "outputs": [
    {
     "name": "stderr",
     "output_type": "stream",
     "text": [
      "Warning message:\n",
      "\"package 'ggplot2' was built under R version 3.6.3\""
     ]
    }
   ],
   "source": [
    "library(ggplot2)"
   ]
  },
  {
   "cell_type": "code",
   "execution_count": 31,
   "metadata": {},
   "outputs": [
    {
     "name": "stdout",
     "output_type": "stream",
     "text": [
      "package 'lattice' successfully unpacked and MD5 sums checked\n",
      "\n",
      "The downloaded binary packages are in\n",
      "\tC:\\Users\\vivie\\AppData\\Local\\Temp\\RtmpW074Xg\\downloaded_packages\n"
     ]
    }
   ],
   "source": [
    "install.packages(\"lattice\")"
   ]
  },
  {
   "cell_type": "code",
   "execution_count": 32,
   "metadata": {},
   "outputs": [
    {
     "ename": "ERROR",
     "evalue": "Error in x[floor(d)] + x[ceiling(d)]: argumento não-numérico para operador binário\n",
     "output_type": "error",
     "traceback": [
      "Error in x[floor(d)] + x[ceiling(d)]: argumento não-numérico para operador binário\nTraceback:\n",
      "1. boxplot(iris.df2, range = 0, col = 2, ylab = \"Valores(cm)\", xlab = \"Característica\")",
      "2. boxplot.default(iris.df2, range = 0, col = 2, ylab = \"Valores(cm)\", \n .     xlab = \"Característica\")",
      "3. boxplot.stats(unclass(groups[[i]]), range)",
      "4. stats::fivenum(x, na.rm = TRUE)"
     ]
    }
   ],
   "source": [
    "boxplot(iris.df2, range=0, col=2, ylab=\"Valores(cm)\", xlab=\"Característica\")"
   ]
  },
  {
   "cell_type": "raw",
   "metadata": {},
   "source": [
    "# Mostrar todas as observações cruas da amostra A na forma de gráfico barplot. Anote y$A significa a coluna A de observações no arranjo de dados y. col=4 indica que a cor da barra é azul."
   ]
  },
  {
   "cell_type": "code",
   "execution_count": 33,
   "metadata": {},
   "outputs": [
    {
     "ename": "ERROR",
     "evalue": "Error in barplot.default(iris.df2$Comprimento_Sepala, ylab = \"Valores em cm\", : 'height' must be a vector or a matrix\n",
     "output_type": "error",
     "traceback": [
      "Error in barplot.default(iris.df2$Comprimento_Sepala, ylab = \"Valores em cm\", : 'height' must be a vector or a matrix\nTraceback:\n",
      "1. barplot(iris.df2$Comprimento_Sepala, ylab = \"Valores em cm\", \n .     xlab = \"Valores crus\", names = as.character(iris.df2$Comprimento_Sepala), \n .     cex.names = 0.7, ylim = c(0, 10), col = 4)",
      "2. barplot.default(iris.df2$Comprimento_Sepala, ylab = \"Valores em cm\", \n .     xlab = \"Valores crus\", names = as.character(iris.df2$Comprimento_Sepala), \n .     cex.names = 0.7, ylim = c(0, 10), col = 4)",
      "3. stop(\"'height' must be a vector or a matrix\")"
     ]
    }
   ],
   "source": [
    "barplot(iris.df2$Comprimento_Sepala, ylab=\"Valores em cm\", xlab=\"Valores crus\",\n",
    "       names=as.character(iris.df2$Comprimento_Sepala), cex.names=0.7, ylim=c(0,10), col=4);"
   ]
  },
  {
   "cell_type": "raw",
   "metadata": {},
   "source": [
    "# Para mostrar um histograma de frequências das observações em amostra A (mais informativo sobre a distribuição das observações do que o gráfico anterior)"
   ]
  },
  {
   "cell_type": "code",
   "execution_count": 34,
   "metadata": {},
   "outputs": [
    {
     "ename": "ERROR",
     "evalue": "Error in hist.default(iris.df2$Comprimento_Sepala, col = 2, main = \"Histograma da amostra A\", : 'x' must be numeric\n",
     "output_type": "error",
     "traceback": [
      "Error in hist.default(iris.df2$Comprimento_Sepala, col = 2, main = \"Histograma da amostra A\", : 'x' must be numeric\nTraceback:\n",
      "1. hist(iris.df2$Comprimento_Sepala, col = 2, main = \"Histograma da amostra A\", \n .     xlab = \"Classe de \\nmassa (g)\", ylab = \"Frequência\")",
      "2. hist.default(iris.df2$Comprimento_Sepala, col = 2, main = \"Histograma da amostra A\", \n .     xlab = \"Classe de \\nmassa (g)\", ylab = \"Frequência\")",
      "3. stop(\"'x' must be numeric\")"
     ]
    }
   ],
   "source": [
    "hist(iris.df2$Comprimento_Sepala, col=2, main=\"Histograma da amostra A\", xlab=\"Classe de \n",
    "massa (g)\", ylab=\"Frequência\");"
   ]
  },
  {
   "cell_type": "code",
   "execution_count": 35,
   "metadata": {},
   "outputs": [
    {
     "data": {
      "text/html": [
       "150"
      ],
      "text/latex": [
       "150"
      ],
      "text/markdown": [
       "150"
      ],
      "text/plain": [
       "[1] 150"
      ]
     },
     "metadata": {},
     "output_type": "display_data"
    }
   ],
   "source": [
    "# Contar o número de documentos existentes na coleção iris\n",
    "iris$count()"
   ]
  },
  {
   "cell_type": "markdown",
   "metadata": {},
   "source": [
    "# Importar e exportar dados do MongoDB de/para arquivos"
   ]
  },
  {
   "cell_type": "markdown",
   "metadata": {},
   "source": [
    "## Exportar dados de uma coleção para um arquivo JSON"
   ]
  },
  {
   "cell_type": "code",
   "execution_count": 36,
   "metadata": {},
   "outputs": [
    {
     "name": "stdout",
     "output_type": "stream",
     "text": [
      "{ \"_id\" : { \"$oid\" : \"5fdb62d5754e000051004842\" }, \"Sepal_Length\" : 5.0999999999999996447, \"Sepal_Width\" : 3.5, \"Petal_Length\" : 1.3999999999999999112, \"Petal_Width\" : 0.2000000000000000111, \"Species\" : \"setosa\" }\n",
      "{ \"_id\" : { \"$oid\" : \"5fdb62d5754e000051004843\" }, \"Sepal_Length\" : 4.9000000000000003553, \"Sepal_Width\" : 3.0, \"Petal_Length\" : 1.3999999999999999112, \"Petal_Width\" : 0.2000000000000000111, \"Species\" : \"setosa\" }\n",
      "{ \"_id\" : { \"$oid\" : \"5fdb62d5754e000051004844\" }, \"Sepal_Length\" : 4.7000000000000001776, \"Sepal_Width\" : 3.2000000000000001776, \"Petal_Length\" : 1.3000000000000000444, \"Petal_Width\" : 0.2000000000000000111, \"Species\" : \"setosa\" }\n",
      "{ \"_id\" : { \"$oid\" : \"5fdb62d5754e000051004845\" }, \"Sepal_Length\" : 4.5999999999999996447, \"Sepal_Width\" : 3.1000000000000000888, \"Petal_Length\" : 1.5, \"Petal_Width\" : 0.2000000000000000111, \"Species\" : \"setosa\" }\n",
      "{ \"_id\" : { \"$oid\" : \"5fdb62d5754e000051004846\" }, \"Sepal_Length\" : 5.0, \"Sepal_Width\" : 3.6000000000000000888, \"Petal_Length\" : 1.3999999999999999112, \"Petal_Width\" : 0.2000000000000000111, \"Species\" : \"setosa\" }\n",
      "{ \"_id\" : { \"$oid\" : \"5fdb62d5754e000051004847\" }, \"Sepal_Length\" : 5.4000000000000003553, \"Sepal_Width\" : 3.8999999999999999112, \"Petal_Length\" : 1.6999999999999999556, \"Petal_Width\" : 0.4000000000000000222, \"Species\" : \"setosa\" }\n",
      "{ \"_id\" : { \"$oid\" : \"5fdb62d5754e000051004848\" }, \"Sepal_Length\" : 4.5999999999999996447, \"Sepal_Width\" : 3.3999999999999999112, \"Petal_Length\" : 1.3999999999999999112, \"Petal_Width\" : 0.2999999999999999889, \"Species\" : \"setosa\" }\n",
      "{ \"_id\" : { \"$oid\" : \"5fdb62d5754e000051004849\" }, \"Sepal_Length\" : 5.0, \"Sepal_Width\" : 3.3999999999999999112, \"Petal_Length\" : 1.5, \"Petal_Width\" : 0.2000000000000000111, \"Species\" : \"setosa\" }\n",
      "{ \"_id\" : { \"$oid\" : \"5fdb62d5754e00005100484a\" }, \"Sepal_Length\" : 4.4000000000000003553, \"Sepal_Width\" : 2.8999999999999999112, \"Petal_Length\" : 1.3999999999999999112, \"Petal_Width\" : 0.2000000000000000111, \"Species\" : \"setosa\" }\n",
      "{ \"_id\" : { \"$oid\" : \"5fdb62d5754e00005100484b\" }, \"Sepal_Length\" : 4.9000000000000003553, \"Sepal_Width\" : 3.1000000000000000888, \"Petal_Length\" : 1.5, \"Petal_Width\" : 0.10000000000000000555, \"Species\" : \"setosa\" }\n",
      "{ \"_id\" : { \"$oid\" : \"5fdb62d5754e00005100484c\" }, \"Sepal_Length\" : 5.4000000000000003553, \"Sepal_Width\" : 3.7000000000000001776, \"Petal_Length\" : 1.5, \"Petal_Width\" : 0.2000000000000000111, \"Species\" : \"setosa\" }\n",
      "{ \"_id\" : { \"$oid\" : \"5fdb62d5754e00005100484d\" }, \"Sepal_Length\" : 4.7999999999999998224, \"Sepal_Width\" : 3.3999999999999999112, \"Petal_Length\" : 1.6000000000000000888, \"Petal_Width\" : 0.2000000000000000111, \"Species\" : \"setosa\" }\n",
      "{ \"_id\" : { \"$oid\" : \"5fdb62d5754e00005100484e\" }, \"Sepal_Length\" : 4.7999999999999998224, \"Sepal_Width\" : 3.0, \"Petal_Length\" : 1.3999999999999999112, \"Petal_Width\" : 0.10000000000000000555, \"Species\" : \"setosa\" }\n",
      "{ \"_id\" : { \"$oid\" : \"5fdb62d5754e00005100484f\" }, \"Sepal_Length\" : 4.2999999999999998224, \"Sepal_Width\" : 3.0, \"Petal_Length\" : 1.1000000000000000888, \"Petal_Width\" : 0.10000000000000000555, \"Species\" : \"setosa\" }\n",
      "{ \"_id\" : { \"$oid\" : \"5fdb62d5754e000051004850\" }, \"Sepal_Length\" : 5.7999999999999998224, \"Sepal_Width\" : 4.0, \"Petal_Length\" : 1.1999999999999999556, \"Petal_Width\" : 0.2000000000000000111, \"Species\" : \"setosa\" }\n",
      "{ \"_id\" : { \"$oid\" : \"5fdb62d5754e000051004851\" }, \"Sepal_Length\" : 5.7000000000000001776, \"Sepal_Width\" : 4.4000000000000003553, \"Petal_Length\" : 1.5, \"Petal_Width\" : 0.4000000000000000222, \"Species\" : \"setosa\" }\n",
      "{ \"_id\" : { \"$oid\" : \"5fdb62d5754e000051004852\" }, \"Sepal_Length\" : 5.4000000000000003553, \"Sepal_Width\" : 3.8999999999999999112, \"Petal_Length\" : 1.3000000000000000444, \"Petal_Width\" : 0.4000000000000000222, \"Species\" : \"setosa\" }\n",
      "{ \"_id\" : { \"$oid\" : \"5fdb62d5754e000051004853\" }, \"Sepal_Length\" : 5.0999999999999996447, \"Sepal_Width\" : 3.5, \"Petal_Length\" : 1.3999999999999999112, \"Petal_Width\" : 0.2999999999999999889, \"Species\" : \"setosa\" }\n",
      "{ \"_id\" : { \"$oid\" : \"5fdb62d5754e000051004854\" }, \"Sepal_Length\" : 5.7000000000000001776, \"Sepal_Width\" : 3.7999999999999998224, \"Petal_Length\" : 1.6999999999999999556, \"Petal_Width\" : 0.2999999999999999889, \"Species\" : \"setosa\" }\n",
      "{ \"_id\" : { \"$oid\" : \"5fdb62d5754e000051004855\" }, \"Sepal_Length\" : 5.0999999999999996447, \"Sepal_Width\" : 3.7999999999999998224, \"Petal_Length\" : 1.5, \"Petal_Width\" : 0.2999999999999999889, \"Species\" : \"setosa\" }\n",
      "{ \"_id\" : { \"$oid\" : \"5fdb62d5754e000051004856\" }, \"Sepal_Length\" : 5.4000000000000003553, \"Sepal_Width\" : 3.3999999999999999112, \"Petal_Length\" : 1.6999999999999999556, \"Petal_Width\" : 0.2000000000000000111, \"Species\" : \"setosa\" }\n",
      "{ \"_id\" : { \"$oid\" : \"5fdb62d5754e000051004857\" }, \"Sepal_Length\" : 5.0999999999999996447, \"Sepal_Width\" : 3.7000000000000001776, \"Petal_Length\" : 1.5, \"Petal_Width\" : 0.4000000000000000222, \"Species\" : \"setosa\" }\n",
      "{ \"_id\" : { \"$oid\" : \"5fdb62d5754e000051004858\" }, \"Sepal_Length\" : 4.5999999999999996447, \"Sepal_Width\" : 3.6000000000000000888, \"Petal_Length\" : 1.0, \"Petal_Width\" : 0.2000000000000000111, \"Species\" : \"setosa\" }\n",
      "{ \"_id\" : { \"$oid\" : \"5fdb62d5754e000051004859\" }, \"Sepal_Length\" : 5.0999999999999996447, \"Sepal_Width\" : 3.2999999999999998224, \"Petal_Length\" : 1.6999999999999999556, \"Petal_Width\" : 0.5, \"Species\" : \"setosa\" }\n",
      "{ \"_id\" : { \"$oid\" : \"5fdb62d5754e00005100485a\" }, \"Sepal_Length\" : 4.7999999999999998224, \"Sepal_Width\" : 3.3999999999999999112, \"Petal_Length\" : 1.8999999999999999112, \"Petal_Width\" : 0.2000000000000000111, \"Species\" : \"setosa\" }\n",
      "{ \"_id\" : { \"$oid\" : \"5fdb62d5754e00005100485b\" }, \"Sepal_Length\" : 5.0, \"Sepal_Width\" : 3.0, \"Petal_Length\" : 1.6000000000000000888, \"Petal_Width\" : 0.2000000000000000111, \"Species\" : \"setosa\" }\n",
      "{ \"_id\" : { \"$oid\" : \"5fdb62d5754e00005100485c\" }, \"Sepal_Length\" : 5.0, \"Sepal_Width\" : 3.3999999999999999112, \"Petal_Length\" : 1.6000000000000000888, \"Petal_Width\" : 0.4000000000000000222, \"Species\" : \"setosa\" }\n",
      "{ \"_id\" : { \"$oid\" : \"5fdb62d5754e00005100485d\" }, \"Sepal_Length\" : 5.2000000000000001776, \"Sepal_Width\" : 3.5, \"Petal_Length\" : 1.5, \"Petal_Width\" : 0.2000000000000000111, \"Species\" : \"setosa\" }\n",
      "{ \"_id\" : { \"$oid\" : \"5fdb62d5754e00005100485e\" }, \"Sepal_Length\" : 5.2000000000000001776, \"Sepal_Width\" : 3.3999999999999999112, \"Petal_Length\" : 1.3999999999999999112, \"Petal_Width\" : 0.2000000000000000111, \"Species\" : \"setosa\" }\n",
      "{ \"_id\" : { \"$oid\" : \"5fdb62d5754e00005100485f\" }, \"Sepal_Length\" : 4.7000000000000001776, \"Sepal_Width\" : 3.2000000000000001776, \"Petal_Length\" : 1.6000000000000000888, \"Petal_Width\" : 0.2000000000000000111, \"Species\" : \"setosa\" }\n",
      "{ \"_id\" : { \"$oid\" : \"5fdb62d5754e000051004860\" }, \"Sepal_Length\" : 4.7999999999999998224, \"Sepal_Width\" : 3.1000000000000000888, \"Petal_Length\" : 1.6000000000000000888, \"Petal_Width\" : 0.2000000000000000111, \"Species\" : \"setosa\" }\n",
      "{ \"_id\" : { \"$oid\" : \"5fdb62d5754e000051004861\" }, \"Sepal_Length\" : 5.4000000000000003553, \"Sepal_Width\" : 3.3999999999999999112, \"Petal_Length\" : 1.5, \"Petal_Width\" : 0.4000000000000000222, \"Species\" : \"setosa\" }\n",
      "{ \"_id\" : { \"$oid\" : \"5fdb62d5754e000051004862\" }, \"Sepal_Length\" : 5.2000000000000001776, \"Sepal_Width\" : 4.0999999999999996447, \"Petal_Length\" : 1.5, \"Petal_Width\" : 0.10000000000000000555, \"Species\" : \"setosa\" }\n",
      "{ \"_id\" : { \"$oid\" : \"5fdb62d5754e000051004863\" }, \"Sepal_Length\" : 5.5, \"Sepal_Width\" : 4.2000000000000001776, \"Petal_Length\" : 1.3999999999999999112, \"Petal_Width\" : 0.2000000000000000111, \"Species\" : \"setosa\" }\n",
      "{ \"_id\" : { \"$oid\" : \"5fdb62d5754e000051004864\" }, \"Sepal_Length\" : 4.9000000000000003553, \"Sepal_Width\" : 3.1000000000000000888, \"Petal_Length\" : 1.5, \"Petal_Width\" : 0.2000000000000000111, \"Species\" : \"setosa\" }\n",
      "{ \"_id\" : { \"$oid\" : \"5fdb62d5754e000051004865\" }, \"Sepal_Length\" : 5.0, \"Sepal_Width\" : 3.2000000000000001776, \"Petal_Length\" : 1.1999999999999999556, \"Petal_Width\" : 0.2000000000000000111, \"Species\" : \"setosa\" }\n",
      "{ \"_id\" : { \"$oid\" : \"5fdb62d5754e000051004866\" }, \"Sepal_Length\" : 5.5, \"Sepal_Width\" : 3.5, \"Petal_Length\" : 1.3000000000000000444, \"Petal_Width\" : 0.2000000000000000111, \"Species\" : \"setosa\" }\n",
      "{ \"_id\" : { \"$oid\" : \"5fdb62d5754e000051004867\" }, \"Sepal_Length\" : 4.9000000000000003553, \"Sepal_Width\" : 3.6000000000000000888, \"Petal_Length\" : 1.3999999999999999112, \"Petal_Width\" : 0.10000000000000000555, \"Species\" : \"setosa\" }\n",
      "{ \"_id\" : { \"$oid\" : \"5fdb62d5754e000051004868\" }, \"Sepal_Length\" : 4.4000000000000003553, \"Sepal_Width\" : 3.0, \"Petal_Length\" : 1.3000000000000000444, \"Petal_Width\" : 0.2000000000000000111, \"Species\" : \"setosa\" }\n",
      "{ \"_id\" : { \"$oid\" : \"5fdb62d5754e000051004869\" }, \"Sepal_Length\" : 5.0999999999999996447, \"Sepal_Width\" : 3.3999999999999999112, \"Petal_Length\" : 1.5, \"Petal_Width\" : 0.2000000000000000111, \"Species\" : \"setosa\" }\n",
      "{ \"_id\" : { \"$oid\" : \"5fdb62d5754e00005100486a\" }, \"Sepal_Length\" : 5.0, \"Sepal_Width\" : 3.5, \"Petal_Length\" : 1.3000000000000000444, \"Petal_Width\" : 0.2999999999999999889, \"Species\" : \"setosa\" }\n",
      "{ \"_id\" : { \"$oid\" : \"5fdb62d5754e00005100486b\" }, \"Sepal_Length\" : 4.5, \"Sepal_Width\" : 2.2999999999999998224, \"Petal_Length\" : 1.3000000000000000444, \"Petal_Width\" : 0.2999999999999999889, \"Species\" : \"setosa\" }\n",
      "{ \"_id\" : { \"$oid\" : \"5fdb62d5754e00005100486c\" }, \"Sepal_Length\" : 4.4000000000000003553, \"Sepal_Width\" : 3.2000000000000001776, \"Petal_Length\" : 1.3000000000000000444, \"Petal_Width\" : 0.2000000000000000111, \"Species\" : \"setosa\" }\n",
      "{ \"_id\" : { \"$oid\" : \"5fdb62d5754e00005100486d\" }, \"Sepal_Length\" : 5.0, \"Sepal_Width\" : 3.5, \"Petal_Length\" : 1.6000000000000000888, \"Petal_Width\" : 0.5999999999999999778, \"Species\" : \"setosa\" }\n",
      "{ \"_id\" : { \"$oid\" : \"5fdb62d5754e00005100486e\" }, \"Sepal_Length\" : 5.0999999999999996447, \"Sepal_Width\" : 3.7999999999999998224, \"Petal_Length\" : 1.8999999999999999112, \"Petal_Width\" : 0.4000000000000000222, \"Species\" : \"setosa\" }\n",
      "{ \"_id\" : { \"$oid\" : \"5fdb62d5754e00005100486f\" }, \"Sepal_Length\" : 4.7999999999999998224, \"Sepal_Width\" : 3.0, \"Petal_Length\" : 1.3999999999999999112, \"Petal_Width\" : 0.2999999999999999889, \"Species\" : \"setosa\" }\n",
      "{ \"_id\" : { \"$oid\" : \"5fdb62d5754e000051004870\" }, \"Sepal_Length\" : 5.0999999999999996447, \"Sepal_Width\" : 3.7999999999999998224, \"Petal_Length\" : 1.6000000000000000888, \"Petal_Width\" : 0.2000000000000000111, \"Species\" : \"setosa\" }\n",
      "{ \"_id\" : { \"$oid\" : \"5fdb62d5754e000051004871\" }, \"Sepal_Length\" : 4.5999999999999996447, \"Sepal_Width\" : 3.2000000000000001776, \"Petal_Length\" : 1.3999999999999999112, \"Petal_Width\" : 0.2000000000000000111, \"Species\" : \"setosa\" }\n",
      "{ \"_id\" : { \"$oid\" : \"5fdb62d5754e000051004872\" }, \"Sepal_Length\" : 5.2999999999999998224, \"Sepal_Width\" : 3.7000000000000001776, \"Petal_Length\" : 1.5, \"Petal_Width\" : 0.2000000000000000111, \"Species\" : \"setosa\" }\n",
      "{ \"_id\" : { \"$oid\" : \"5fdb62d5754e000051004873\" }, \"Sepal_Length\" : 5.0, \"Sepal_Width\" : 3.2999999999999998224, \"Petal_Length\" : 1.3999999999999999112, \"Petal_Width\" : 0.2000000000000000111, \"Species\" : \"setosa\" }\n",
      "{ \"_id\" : { \"$oid\" : \"5fdb62d5754e000051004874\" }, \"Sepal_Length\" : 7.0, \"Sepal_Width\" : 3.2000000000000001776, \"Petal_Length\" : 4.7000000000000001776, \"Petal_Width\" : 1.3999999999999999112, \"Species\" : \"versicolor\" }\n",
      "{ \"_id\" : { \"$oid\" : \"5fdb62d5754e000051004875\" }, \"Sepal_Length\" : 6.4000000000000003553, \"Sepal_Width\" : 3.2000000000000001776, \"Petal_Length\" : 4.5, \"Petal_Width\" : 1.5, \"Species\" : \"versicolor\" }\n",
      "{ \"_id\" : { \"$oid\" : \"5fdb62d5754e000051004876\" }, \"Sepal_Length\" : 6.9000000000000003553, \"Sepal_Width\" : 3.1000000000000000888, \"Petal_Length\" : 4.9000000000000003553, \"Petal_Width\" : 1.5, \"Species\" : \"versicolor\" }\n",
      "{ \"_id\" : { \"$oid\" : \"5fdb62d5754e000051004877\" }, \"Sepal_Length\" : 5.5, \"Sepal_Width\" : 2.2999999999999998224, \"Petal_Length\" : 4.0, \"Petal_Width\" : 1.3000000000000000444, \"Species\" : \"versicolor\" }\n",
      "{ \"_id\" : { \"$oid\" : \"5fdb62d5754e000051004878\" }, \"Sepal_Length\" : 6.5, \"Sepal_Width\" : 2.7999999999999998224, \"Petal_Length\" : 4.5999999999999996447, \"Petal_Width\" : 1.5, \"Species\" : \"versicolor\" }\n",
      "{ \"_id\" : { \"$oid\" : \"5fdb62d5754e000051004879\" }, \"Sepal_Length\" : 5.7000000000000001776, \"Sepal_Width\" : 2.7999999999999998224, \"Petal_Length\" : 4.5, \"Petal_Width\" : 1.3000000000000000444, \"Species\" : \"versicolor\" }\n",
      "{ \"_id\" : { \"$oid\" : \"5fdb62d5754e00005100487a\" }, \"Sepal_Length\" : 6.2999999999999998224, \"Sepal_Width\" : 3.2999999999999998224, \"Petal_Length\" : 4.7000000000000001776, \"Petal_Width\" : 1.6000000000000000888, \"Species\" : \"versicolor\" }\n",
      "{ \"_id\" : { \"$oid\" : \"5fdb62d5754e00005100487b\" }, \"Sepal_Length\" : 4.9000000000000003553, \"Sepal_Width\" : 2.3999999999999999112, \"Petal_Length\" : 3.2999999999999998224, \"Petal_Width\" : 1.0, \"Species\" : \"versicolor\" }\n",
      "{ \"_id\" : { \"$oid\" : \"5fdb62d5754e00005100487c\" }, \"Sepal_Length\" : 6.5999999999999996447, \"Sepal_Width\" : 2.8999999999999999112, \"Petal_Length\" : 4.5999999999999996447, \"Petal_Width\" : 1.3000000000000000444, \"Species\" : \"versicolor\" }\n",
      "{ \"_id\" : { \"$oid\" : \"5fdb62d5754e00005100487d\" }, \"Sepal_Length\" : 5.2000000000000001776, \"Sepal_Width\" : 2.7000000000000001776, \"Petal_Length\" : 3.8999999999999999112, \"Petal_Width\" : 1.3999999999999999112, \"Species\" : \"versicolor\" }\n",
      "{ \"_id\" : { \"$oid\" : \"5fdb62d5754e00005100487e\" }, \"Sepal_Length\" : 5.0, \"Sepal_Width\" : 2.0, \"Petal_Length\" : 3.5, \"Petal_Width\" : 1.0, \"Species\" : \"versicolor\" }\n",
      "{ \"_id\" : { \"$oid\" : \"5fdb62d5754e00005100487f\" }, \"Sepal_Length\" : 5.9000000000000003553, \"Sepal_Width\" : 3.0, \"Petal_Length\" : 4.2000000000000001776, \"Petal_Width\" : 1.5, \"Species\" : \"versicolor\" }\n",
      "{ \"_id\" : { \"$oid\" : \"5fdb62d5754e000051004880\" }, \"Sepal_Length\" : 6.0, \"Sepal_Width\" : 2.2000000000000001776, \"Petal_Length\" : 4.0, \"Petal_Width\" : 1.0, \"Species\" : \"versicolor\" }\n",
      "{ \"_id\" : { \"$oid\" : \"5fdb62d5754e000051004881\" }, \"Sepal_Length\" : 6.0999999999999996447, \"Sepal_Width\" : 2.8999999999999999112, \"Petal_Length\" : 4.7000000000000001776, \"Petal_Width\" : 1.3999999999999999112, \"Species\" : \"versicolor\" }\n",
      "{ \"_id\" : { \"$oid\" : \"5fdb62d5754e000051004882\" }, \"Sepal_Length\" : 5.5999999999999996447, \"Sepal_Width\" : 2.8999999999999999112, \"Petal_Length\" : 3.6000000000000000888, \"Petal_Width\" : 1.3000000000000000444, \"Species\" : \"versicolor\" }\n",
      "{ \"_id\" : { \"$oid\" : \"5fdb62d5754e000051004883\" }, \"Sepal_Length\" : 6.7000000000000001776, \"Sepal_Width\" : 3.1000000000000000888, \"Petal_Length\" : 4.4000000000000003553, \"Petal_Width\" : 1.3999999999999999112, \"Species\" : \"versicolor\" }\n",
      "{ \"_id\" : { \"$oid\" : \"5fdb62d5754e000051004884\" }, \"Sepal_Length\" : 5.5999999999999996447, \"Sepal_Width\" : 3.0, \"Petal_Length\" : 4.5, \"Petal_Width\" : 1.5, \"Species\" : \"versicolor\" }\n",
      "{ \"_id\" : { \"$oid\" : \"5fdb62d5754e000051004885\" }, \"Sepal_Length\" : 5.7999999999999998224, \"Sepal_Width\" : 2.7000000000000001776, \"Petal_Length\" : 4.0999999999999996447, \"Petal_Width\" : 1.0, \"Species\" : \"versicolor\" }\n",
      "{ \"_id\" : { \"$oid\" : \"5fdb62d5754e000051004886\" }, \"Sepal_Length\" : 6.2000000000000001776, \"Sepal_Width\" : 2.2000000000000001776, \"Petal_Length\" : 4.5, \"Petal_Width\" : 1.5, \"Species\" : \"versicolor\" }\n",
      "{ \"_id\" : { \"$oid\" : \"5fdb62d5754e000051004887\" }, \"Sepal_Length\" : 5.5999999999999996447, \"Sepal_Width\" : 2.5, \"Petal_Length\" : 3.8999999999999999112, \"Petal_Width\" : 1.1000000000000000888, \"Species\" : \"versicolor\" }\n",
      "{ \"_id\" : { \"$oid\" : \"5fdb62d5754e000051004888\" }, \"Sepal_Length\" : 5.9000000000000003553, \"Sepal_Width\" : 3.2000000000000001776, \"Petal_Length\" : 4.7999999999999998224, \"Petal_Width\" : 1.8000000000000000444, \"Species\" : \"versicolor\" }\n",
      "{ \"_id\" : { \"$oid\" : \"5fdb62d5754e000051004889\" }, \"Sepal_Length\" : 6.0999999999999996447, \"Sepal_Width\" : 2.7999999999999998224, \"Petal_Length\" : 4.0, \"Petal_Width\" : 1.3000000000000000444, \"Species\" : \"versicolor\" }\n",
      "{ \"_id\" : { \"$oid\" : \"5fdb62d5754e00005100488a\" }, \"Sepal_Length\" : 6.2999999999999998224, \"Sepal_Width\" : 2.5, \"Petal_Length\" : 4.9000000000000003553, \"Petal_Width\" : 1.5, \"Species\" : \"versicolor\" }\n",
      "{ \"_id\" : { \"$oid\" : \"5fdb62d5754e00005100488b\" }, \"Sepal_Length\" : 6.0999999999999996447, \"Sepal_Width\" : 2.7999999999999998224, \"Petal_Length\" : 4.7000000000000001776, \"Petal_Width\" : 1.1999999999999999556, \"Species\" : \"versicolor\" }\n",
      "{ \"_id\" : { \"$oid\" : \"5fdb62d5754e00005100488c\" }, \"Sepal_Length\" : 6.4000000000000003553, \"Sepal_Width\" : 2.8999999999999999112, \"Petal_Length\" : 4.2999999999999998224, \"Petal_Width\" : 1.3000000000000000444, \"Species\" : \"versicolor\" }\n",
      "{ \"_id\" : { \"$oid\" : \"5fdb62d5754e00005100488d\" }, \"Sepal_Length\" : 6.5999999999999996447, \"Sepal_Width\" : 3.0, \"Petal_Length\" : 4.4000000000000003553, \"Petal_Width\" : 1.3999999999999999112, \"Species\" : \"versicolor\" }\n",
      "{ \"_id\" : { \"$oid\" : \"5fdb62d5754e00005100488e\" }, \"Sepal_Length\" : 6.7999999999999998224, \"Sepal_Width\" : 2.7999999999999998224, \"Petal_Length\" : 4.7999999999999998224, \"Petal_Width\" : 1.3999999999999999112, \"Species\" : \"versicolor\" }\n",
      "{ \"_id\" : { \"$oid\" : \"5fdb62d5754e00005100488f\" }, \"Sepal_Length\" : 6.7000000000000001776, \"Sepal_Width\" : 3.0, \"Petal_Length\" : 5.0, \"Petal_Width\" : 1.6999999999999999556, \"Species\" : \"versicolor\" }\n",
      "{ \"_id\" : { \"$oid\" : \"5fdb62d5754e000051004890\" }, \"Sepal_Length\" : 6.0, \"Sepal_Width\" : 2.8999999999999999112, \"Petal_Length\" : 4.5, \"Petal_Width\" : 1.5, \"Species\" : \"versicolor\" }\n",
      "{ \"_id\" : { \"$oid\" : \"5fdb62d5754e000051004891\" }, \"Sepal_Length\" : 5.7000000000000001776, \"Sepal_Width\" : 2.6000000000000000888, \"Petal_Length\" : 3.5, \"Petal_Width\" : 1.0, \"Species\" : \"versicolor\" }\n",
      "{ \"_id\" : { \"$oid\" : \"5fdb62d5754e000051004892\" }, \"Sepal_Length\" : 5.5, \"Sepal_Width\" : 2.3999999999999999112, \"Petal_Length\" : 3.7999999999999998224, \"Petal_Width\" : 1.1000000000000000888, \"Species\" : \"versicolor\" }\n",
      "{ \"_id\" : { \"$oid\" : \"5fdb62d5754e000051004893\" }, \"Sepal_Length\" : 5.5, \"Sepal_Width\" : 2.3999999999999999112, \"Petal_Length\" : 3.7000000000000001776, \"Petal_Width\" : 1.0, \"Species\" : \"versicolor\" }\n",
      "{ \"_id\" : { \"$oid\" : \"5fdb62d5754e000051004894\" }, \"Sepal_Length\" : 5.7999999999999998224, \"Sepal_Width\" : 2.7000000000000001776, \"Petal_Length\" : 3.8999999999999999112, \"Petal_Width\" : 1.1999999999999999556, \"Species\" : \"versicolor\" }\n",
      "{ \"_id\" : { \"$oid\" : \"5fdb62d5754e000051004895\" }, \"Sepal_Length\" : 6.0, \"Sepal_Width\" : 2.7000000000000001776, \"Petal_Length\" : 5.0999999999999996447, \"Petal_Width\" : 1.6000000000000000888, \"Species\" : \"versicolor\" }\n",
      "{ \"_id\" : { \"$oid\" : \"5fdb62d5754e000051004896\" }, \"Sepal_Length\" : 5.4000000000000003553, \"Sepal_Width\" : 3.0, \"Petal_Length\" : 4.5, \"Petal_Width\" : 1.5, \"Species\" : \"versicolor\" }\n",
      "{ \"_id\" : { \"$oid\" : \"5fdb62d5754e000051004897\" }, \"Sepal_Length\" : 6.0, \"Sepal_Width\" : 3.3999999999999999112, \"Petal_Length\" : 4.5, \"Petal_Width\" : 1.6000000000000000888, \"Species\" : \"versicolor\" }\n",
      "{ \"_id\" : { \"$oid\" : \"5fdb62d5754e000051004898\" }, \"Sepal_Length\" : 6.7000000000000001776, \"Sepal_Width\" : 3.1000000000000000888, \"Petal_Length\" : 4.7000000000000001776, \"Petal_Width\" : 1.5, \"Species\" : \"versicolor\" }\n",
      "{ \"_id\" : { \"$oid\" : \"5fdb62d5754e000051004899\" }, \"Sepal_Length\" : 6.2999999999999998224, \"Sepal_Width\" : 2.2999999999999998224, \"Petal_Length\" : 4.4000000000000003553, \"Petal_Width\" : 1.3000000000000000444, \"Species\" : \"versicolor\" }\n",
      "{ \"_id\" : { \"$oid\" : \"5fdb62d5754e00005100489a\" }, \"Sepal_Length\" : 5.5999999999999996447, \"Sepal_Width\" : 3.0, \"Petal_Length\" : 4.0999999999999996447, \"Petal_Width\" : 1.3000000000000000444, \"Species\" : \"versicolor\" }\n",
      "{ \"_id\" : { \"$oid\" : \"5fdb62d5754e00005100489b\" }, \"Sepal_Length\" : 5.5, \"Sepal_Width\" : 2.5, \"Petal_Length\" : 4.0, \"Petal_Width\" : 1.3000000000000000444, \"Species\" : \"versicolor\" }\n",
      "{ \"_id\" : { \"$oid\" : \"5fdb62d5754e00005100489c\" }, \"Sepal_Length\" : 5.5, \"Sepal_Width\" : 2.6000000000000000888, \"Petal_Length\" : 4.4000000000000003553, \"Petal_Width\" : 1.1999999999999999556, \"Species\" : \"versicolor\" }\n",
      "{ \"_id\" : { \"$oid\" : \"5fdb62d5754e00005100489d\" }, \"Sepal_Length\" : 6.0999999999999996447, \"Sepal_Width\" : 3.0, \"Petal_Length\" : 4.5999999999999996447, \"Petal_Width\" : 1.3999999999999999112, \"Species\" : \"versicolor\" }\n",
      "{ \"_id\" : { \"$oid\" : \"5fdb62d5754e00005100489e\" }, \"Sepal_Length\" : 5.7999999999999998224, \"Sepal_Width\" : 2.6000000000000000888, \"Petal_Length\" : 4.0, \"Petal_Width\" : 1.1999999999999999556, \"Species\" : \"versicolor\" }\n",
      "{ \"_id\" : { \"$oid\" : \"5fdb62d5754e00005100489f\" }, \"Sepal_Length\" : 5.0, \"Sepal_Width\" : 2.2999999999999998224, \"Petal_Length\" : 3.2999999999999998224, \"Petal_Width\" : 1.0, \"Species\" : \"versicolor\" }\n",
      "{ \"_id\" : { \"$oid\" : \"5fdb62d5754e0000510048a0\" }, \"Sepal_Length\" : 5.5999999999999996447, \"Sepal_Width\" : 2.7000000000000001776, \"Petal_Length\" : 4.2000000000000001776, \"Petal_Width\" : 1.3000000000000000444, \"Species\" : \"versicolor\" }\n",
      "{ \"_id\" : { \"$oid\" : \"5fdb62d5754e0000510048a1\" }, \"Sepal_Length\" : 5.7000000000000001776, \"Sepal_Width\" : 3.0, \"Petal_Length\" : 4.2000000000000001776, \"Petal_Width\" : 1.1999999999999999556, \"Species\" : \"versicolor\" }\n",
      "{ \"_id\" : { \"$oid\" : \"5fdb62d5754e0000510048a2\" }, \"Sepal_Length\" : 5.7000000000000001776, \"Sepal_Width\" : 2.8999999999999999112, \"Petal_Length\" : 4.2000000000000001776, \"Petal_Width\" : 1.3000000000000000444, \"Species\" : \"versicolor\" }\n",
      "{ \"_id\" : { \"$oid\" : \"5fdb62d5754e0000510048a3\" }, \"Sepal_Length\" : 6.2000000000000001776, \"Sepal_Width\" : 2.8999999999999999112, \"Petal_Length\" : 4.2999999999999998224, \"Petal_Width\" : 1.3000000000000000444, \"Species\" : \"versicolor\" }\n",
      "{ \"_id\" : { \"$oid\" : \"5fdb62d5754e0000510048a4\" }, \"Sepal_Length\" : 5.0999999999999996447, \"Sepal_Width\" : 2.5, \"Petal_Length\" : 3.0, \"Petal_Width\" : 1.1000000000000000888, \"Species\" : \"versicolor\" }\n",
      "{ \"_id\" : { \"$oid\" : \"5fdb62d5754e0000510048a5\" }, \"Sepal_Length\" : 5.7000000000000001776, \"Sepal_Width\" : 2.7999999999999998224, \"Petal_Length\" : 4.0999999999999996447, \"Petal_Width\" : 1.3000000000000000444, \"Species\" : \"versicolor\" }\n",
      "{ \"_id\" : { \"$oid\" : \"5fdb62d5754e0000510048a6\" }, \"Sepal_Length\" : 6.2999999999999998224, \"Sepal_Width\" : 3.2999999999999998224, \"Petal_Length\" : 6.0, \"Petal_Width\" : 2.5, \"Species\" : \"virginica\" }\n",
      "{ \"_id\" : { \"$oid\" : \"5fdb62d5754e0000510048a7\" }, \"Sepal_Length\" : 5.7999999999999998224, \"Sepal_Width\" : 2.7000000000000001776, \"Petal_Length\" : 5.0999999999999996447, \"Petal_Width\" : 1.8999999999999999112, \"Species\" : \"virginica\" }\n",
      "{ \"_id\" : { \"$oid\" : \"5fdb62d5754e0000510048a8\" }, \"Sepal_Length\" : 7.0999999999999996447, \"Sepal_Width\" : 3.0, \"Petal_Length\" : 5.9000000000000003553, \"Petal_Width\" : 2.1000000000000000888, \"Species\" : \"virginica\" }\n",
      "{ \"_id\" : { \"$oid\" : \"5fdb62d5754e0000510048a9\" }, \"Sepal_Length\" : 6.2999999999999998224, \"Sepal_Width\" : 2.8999999999999999112, \"Petal_Length\" : 5.5999999999999996447, \"Petal_Width\" : 1.8000000000000000444, \"Species\" : \"virginica\" }\n",
      "{ \"_id\" : { \"$oid\" : \"5fdb62d5754e0000510048aa\" }, \"Sepal_Length\" : 6.5, \"Sepal_Width\" : 3.0, \"Petal_Length\" : 5.7999999999999998224, \"Petal_Width\" : 2.2000000000000001776, \"Species\" : \"virginica\" }\n",
      "{ \"_id\" : { \"$oid\" : \"5fdb62d5754e0000510048ab\" }, \"Sepal_Length\" : 7.5999999999999996447, \"Sepal_Width\" : 3.0, \"Petal_Length\" : 6.5999999999999996447, \"Petal_Width\" : 2.1000000000000000888, \"Species\" : \"virginica\" }\n",
      "{ \"_id\" : { \"$oid\" : \"5fdb62d5754e0000510048ac\" }, \"Sepal_Length\" : 4.9000000000000003553, \"Sepal_Width\" : 2.5, \"Petal_Length\" : 4.5, \"Petal_Width\" : 1.6999999999999999556, \"Species\" : \"virginica\" }\n",
      "{ \"_id\" : { \"$oid\" : \"5fdb62d5754e0000510048ad\" }, \"Sepal_Length\" : 7.2999999999999998224, \"Sepal_Width\" : 2.8999999999999999112, \"Petal_Length\" : 6.2999999999999998224, \"Petal_Width\" : 1.8000000000000000444, \"Species\" : \"virginica\" }\n",
      "{ \"_id\" : { \"$oid\" : \"5fdb62d5754e0000510048ae\" }, \"Sepal_Length\" : 6.7000000000000001776, \"Sepal_Width\" : 2.5, \"Petal_Length\" : 5.7999999999999998224, \"Petal_Width\" : 1.8000000000000000444, \"Species\" : \"virginica\" }\n",
      "{ \"_id\" : { \"$oid\" : \"5fdb62d5754e0000510048af\" }, \"Sepal_Length\" : 7.2000000000000001776, \"Sepal_Width\" : 3.6000000000000000888, \"Petal_Length\" : 6.0999999999999996447, \"Petal_Width\" : 2.5, \"Species\" : \"virginica\" }\n",
      "{ \"_id\" : { \"$oid\" : \"5fdb62d5754e0000510048b0\" }, \"Sepal_Length\" : 6.5, \"Sepal_Width\" : 3.2000000000000001776, \"Petal_Length\" : 5.0999999999999996447, \"Petal_Width\" : 2.0, \"Species\" : \"virginica\" }\n",
      "{ \"_id\" : { \"$oid\" : \"5fdb62d5754e0000510048b1\" }, \"Sepal_Length\" : 6.4000000000000003553, \"Sepal_Width\" : 2.7000000000000001776, \"Petal_Length\" : 5.2999999999999998224, \"Petal_Width\" : 1.8999999999999999112, \"Species\" : \"virginica\" }\n",
      "{ \"_id\" : { \"$oid\" : \"5fdb62d5754e0000510048b2\" }, \"Sepal_Length\" : 6.7999999999999998224, \"Sepal_Width\" : 3.0, \"Petal_Length\" : 5.5, \"Petal_Width\" : 2.1000000000000000888, \"Species\" : \"virginica\" }\n",
      "{ \"_id\" : { \"$oid\" : \"5fdb62d5754e0000510048b3\" }, \"Sepal_Length\" : 5.7000000000000001776, \"Sepal_Width\" : 2.5, \"Petal_Length\" : 5.0, \"Petal_Width\" : 2.0, \"Species\" : \"virginica\" }\n",
      "{ \"_id\" : { \"$oid\" : \"5fdb62d5754e0000510048b4\" }, \"Sepal_Length\" : 5.7999999999999998224, \"Sepal_Width\" : 2.7999999999999998224, \"Petal_Length\" : 5.0999999999999996447, \"Petal_Width\" : 2.3999999999999999112, \"Species\" : \"virginica\" }\n",
      "{ \"_id\" : { \"$oid\" : \"5fdb62d5754e0000510048b5\" }, \"Sepal_Length\" : 6.4000000000000003553, \"Sepal_Width\" : 3.2000000000000001776, \"Petal_Length\" : 5.2999999999999998224, \"Petal_Width\" : 2.2999999999999998224, \"Species\" : \"virginica\" }\n",
      "{ \"_id\" : { \"$oid\" : \"5fdb62d5754e0000510048b6\" }, \"Sepal_Length\" : 6.5, \"Sepal_Width\" : 3.0, \"Petal_Length\" : 5.5, \"Petal_Width\" : 1.8000000000000000444, \"Species\" : \"virginica\" }\n",
      "{ \"_id\" : { \"$oid\" : \"5fdb62d5754e0000510048b7\" }, \"Sepal_Length\" : 7.7000000000000001776, \"Sepal_Width\" : 3.7999999999999998224, \"Petal_Length\" : 6.7000000000000001776, \"Petal_Width\" : 2.2000000000000001776, \"Species\" : \"virginica\" }\n",
      "{ \"_id\" : { \"$oid\" : \"5fdb62d5754e0000510048b8\" }, \"Sepal_Length\" : 7.7000000000000001776, \"Sepal_Width\" : 2.6000000000000000888, \"Petal_Length\" : 6.9000000000000003553, \"Petal_Width\" : 2.2999999999999998224, \"Species\" : \"virginica\" }\n",
      "{ \"_id\" : { \"$oid\" : \"5fdb62d5754e0000510048b9\" }, \"Sepal_Length\" : 6.0, \"Sepal_Width\" : 2.2000000000000001776, \"Petal_Length\" : 5.0, \"Petal_Width\" : 1.5, \"Species\" : \"virginica\" }\n",
      "{ \"_id\" : { \"$oid\" : \"5fdb62d5754e0000510048ba\" }, \"Sepal_Length\" : 6.9000000000000003553, \"Sepal_Width\" : 3.2000000000000001776, \"Petal_Length\" : 5.7000000000000001776, \"Petal_Width\" : 2.2999999999999998224, \"Species\" : \"virginica\" }\n",
      "{ \"_id\" : { \"$oid\" : \"5fdb62d5754e0000510048bb\" }, \"Sepal_Length\" : 5.5999999999999996447, \"Sepal_Width\" : 2.7999999999999998224, \"Petal_Length\" : 4.9000000000000003553, \"Petal_Width\" : 2.0, \"Species\" : \"virginica\" }\n",
      "{ \"_id\" : { \"$oid\" : \"5fdb62d5754e0000510048bc\" }, \"Sepal_Length\" : 7.7000000000000001776, \"Sepal_Width\" : 2.7999999999999998224, \"Petal_Length\" : 6.7000000000000001776, \"Petal_Width\" : 2.0, \"Species\" : \"virginica\" }\n",
      "{ \"_id\" : { \"$oid\" : \"5fdb62d5754e0000510048bd\" }, \"Sepal_Length\" : 6.2999999999999998224, \"Sepal_Width\" : 2.7000000000000001776, \"Petal_Length\" : 4.9000000000000003553, \"Petal_Width\" : 1.8000000000000000444, \"Species\" : \"virginica\" }\n",
      "{ \"_id\" : { \"$oid\" : \"5fdb62d5754e0000510048be\" }, \"Sepal_Length\" : 6.7000000000000001776, \"Sepal_Width\" : 3.2999999999999998224, \"Petal_Length\" : 5.7000000000000001776, \"Petal_Width\" : 2.1000000000000000888, \"Species\" : \"virginica\" }\n",
      "{ \"_id\" : { \"$oid\" : \"5fdb62d5754e0000510048bf\" }, \"Sepal_Length\" : 7.2000000000000001776, \"Sepal_Width\" : 3.2000000000000001776, \"Petal_Length\" : 6.0, \"Petal_Width\" : 1.8000000000000000444, \"Species\" : \"virginica\" }\n",
      "{ \"_id\" : { \"$oid\" : \"5fdb62d5754e0000510048c0\" }, \"Sepal_Length\" : 6.2000000000000001776, \"Sepal_Width\" : 2.7999999999999998224, \"Petal_Length\" : 4.7999999999999998224, \"Petal_Width\" : 1.8000000000000000444, \"Species\" : \"virginica\" }\n",
      "{ \"_id\" : { \"$oid\" : \"5fdb62d5754e0000510048c1\" }, \"Sepal_Length\" : 6.0999999999999996447, \"Sepal_Width\" : 3.0, \"Petal_Length\" : 4.9000000000000003553, \"Petal_Width\" : 1.8000000000000000444, \"Species\" : \"virginica\" }\n",
      "{ \"_id\" : { \"$oid\" : \"5fdb62d5754e0000510048c2\" }, \"Sepal_Length\" : 6.4000000000000003553, \"Sepal_Width\" : 2.7999999999999998224, \"Petal_Length\" : 5.5999999999999996447, \"Petal_Width\" : 2.1000000000000000888, \"Species\" : \"virginica\" }\n",
      "{ \"_id\" : { \"$oid\" : \"5fdb62d5754e0000510048c3\" }, \"Sepal_Length\" : 7.2000000000000001776, \"Sepal_Width\" : 3.0, \"Petal_Length\" : 5.7999999999999998224, \"Petal_Width\" : 1.6000000000000000888, \"Species\" : \"virginica\" }\n",
      "{ \"_id\" : { \"$oid\" : \"5fdb62d5754e0000510048c4\" }, \"Sepal_Length\" : 7.4000000000000003553, \"Sepal_Width\" : 2.7999999999999998224, \"Petal_Length\" : 6.0999999999999996447, \"Petal_Width\" : 1.8999999999999999112, \"Species\" : \"virginica\" }\n",
      "{ \"_id\" : { \"$oid\" : \"5fdb62d5754e0000510048c5\" }, \"Sepal_Length\" : 7.9000000000000003553, \"Sepal_Width\" : 3.7999999999999998224, \"Petal_Length\" : 6.4000000000000003553, \"Petal_Width\" : 2.0, \"Species\" : \"virginica\" }\n",
      "{ \"_id\" : { \"$oid\" : \"5fdb62d5754e0000510048c6\" }, \"Sepal_Length\" : 6.4000000000000003553, \"Sepal_Width\" : 2.7999999999999998224, \"Petal_Length\" : 5.5999999999999996447, \"Petal_Width\" : 2.2000000000000001776, \"Species\" : \"virginica\" }\n",
      "{ \"_id\" : { \"$oid\" : \"5fdb62d5754e0000510048c7\" }, \"Sepal_Length\" : 6.2999999999999998224, \"Sepal_Width\" : 2.7999999999999998224, \"Petal_Length\" : 5.0999999999999996447, \"Petal_Width\" : 1.5, \"Species\" : \"virginica\" }\n",
      "{ \"_id\" : { \"$oid\" : \"5fdb62d5754e0000510048c8\" }, \"Sepal_Length\" : 6.0999999999999996447, \"Sepal_Width\" : 2.6000000000000000888, \"Petal_Length\" : 5.5999999999999996447, \"Petal_Width\" : 1.3999999999999999112, \"Species\" : \"virginica\" }\n",
      "{ \"_id\" : { \"$oid\" : \"5fdb62d5754e0000510048c9\" }, \"Sepal_Length\" : 7.7000000000000001776, \"Sepal_Width\" : 3.0, \"Petal_Length\" : 6.0999999999999996447, \"Petal_Width\" : 2.2999999999999998224, \"Species\" : \"virginica\" }\n",
      "{ \"_id\" : { \"$oid\" : \"5fdb62d5754e0000510048ca\" }, \"Sepal_Length\" : 6.2999999999999998224, \"Sepal_Width\" : 3.3999999999999999112, \"Petal_Length\" : 5.5999999999999996447, \"Petal_Width\" : 2.3999999999999999112, \"Species\" : \"virginica\" }\n",
      "{ \"_id\" : { \"$oid\" : \"5fdb62d5754e0000510048cb\" }, \"Sepal_Length\" : 6.4000000000000003553, \"Sepal_Width\" : 3.1000000000000000888, \"Petal_Length\" : 5.5, \"Petal_Width\" : 1.8000000000000000444, \"Species\" : \"virginica\" }\n",
      "{ \"_id\" : { \"$oid\" : \"5fdb62d5754e0000510048cc\" }, \"Sepal_Length\" : 6.0, \"Sepal_Width\" : 3.0, \"Petal_Length\" : 4.7999999999999998224, \"Petal_Width\" : 1.8000000000000000444, \"Species\" : \"virginica\" }\n",
      "{ \"_id\" : { \"$oid\" : \"5fdb62d5754e0000510048cd\" }, \"Sepal_Length\" : 6.9000000000000003553, \"Sepal_Width\" : 3.1000000000000000888, \"Petal_Length\" : 5.4000000000000003553, \"Petal_Width\" : 2.1000000000000000888, \"Species\" : \"virginica\" }\n",
      "{ \"_id\" : { \"$oid\" : \"5fdb62d5754e0000510048ce\" }, \"Sepal_Length\" : 6.7000000000000001776, \"Sepal_Width\" : 3.1000000000000000888, \"Petal_Length\" : 5.5999999999999996447, \"Petal_Width\" : 2.3999999999999999112, \"Species\" : \"virginica\" }\n",
      "{ \"_id\" : { \"$oid\" : \"5fdb62d5754e0000510048cf\" }, \"Sepal_Length\" : 6.9000000000000003553, \"Sepal_Width\" : 3.1000000000000000888, \"Petal_Length\" : 5.0999999999999996447, \"Petal_Width\" : 2.2999999999999998224, \"Species\" : \"virginica\" }\n",
      "{ \"_id\" : { \"$oid\" : \"5fdb62d5754e0000510048d0\" }, \"Sepal_Length\" : 5.7999999999999998224, \"Sepal_Width\" : 2.7000000000000001776, \"Petal_Length\" : 5.0999999999999996447, \"Petal_Width\" : 1.8999999999999999112, \"Species\" : \"virginica\" }\n",
      "{ \"_id\" : { \"$oid\" : \"5fdb62d5754e0000510048d1\" }, \"Sepal_Length\" : 6.7999999999999998224, \"Sepal_Width\" : 3.2000000000000001776, \"Petal_Length\" : 5.9000000000000003553, \"Petal_Width\" : 2.2999999999999998224, \"Species\" : \"virginica\" }\n",
      "{ \"_id\" : { \"$oid\" : \"5fdb62d5754e0000510048d2\" }, \"Sepal_Length\" : 6.7000000000000001776, \"Sepal_Width\" : 3.2999999999999998224, \"Petal_Length\" : 5.7000000000000001776, \"Petal_Width\" : 2.5, \"Species\" : \"virginica\" }\n",
      "{ \"_id\" : { \"$oid\" : \"5fdb62d5754e0000510048d3\" }, \"Sepal_Length\" : 6.7000000000000001776, \"Sepal_Width\" : 3.0, \"Petal_Length\" : 5.2000000000000001776, \"Petal_Width\" : 2.2999999999999998224, \"Species\" : \"virginica\" }\n",
      "{ \"_id\" : { \"$oid\" : \"5fdb62d5754e0000510048d4\" }, \"Sepal_Length\" : 6.2999999999999998224, \"Sepal_Width\" : 2.5, \"Petal_Length\" : 5.0, \"Petal_Width\" : 1.8999999999999999112, \"Species\" : \"virginica\" }\n",
      "{ \"_id\" : { \"$oid\" : \"5fdb62d5754e0000510048d5\" }, \"Sepal_Length\" : 6.5, \"Sepal_Width\" : 3.0, \"Petal_Length\" : 5.2000000000000001776, \"Petal_Width\" : 2.0, \"Species\" : \"virginica\" }\n",
      "{ \"_id\" : { \"$oid\" : \"5fdb62d5754e0000510048d6\" }, \"Sepal_Length\" : 6.2000000000000001776, \"Sepal_Width\" : 3.3999999999999999112, \"Petal_Length\" : 5.4000000000000003553, \"Petal_Width\" : 2.2999999999999998224, \"Species\" : \"virginica\" }\n",
      "{ \"_id\" : { \"$oid\" : \"5fdb62d5754e0000510048d7\" }, \"Sepal_Length\" : 5.9000000000000003553, \"Sepal_Width\" : 3.0, \"Petal_Length\" : 5.0999999999999996447, \"Petal_Width\" : 1.8000000000000000444, \"Species\" : \"virginica\" }\n"
     ]
    }
   ],
   "source": [
    "# Usar a função export para exibir os documentos da coleção iris\n",
    "iris$export(stdout())"
   ]
  },
  {
   "cell_type": "code",
   "execution_count": 37,
   "metadata": {},
   "outputs": [],
   "source": [
    "# Exportar os documentos da coleção para um arquivo JSON\n",
    "# Se o caminho não for informado, o arquivo será gerado no diretório de trabalho\n",
    "iris$export(file(\"dumpIris.json\"))"
   ]
  },
  {
   "cell_type": "code",
   "execution_count": 38,
   "metadata": {},
   "outputs": [],
   "source": [
    "# Gerar o arquivo de dump em um local específico\n",
    "iris$export(file(\"C:/Bootcamp/Datasets/JSON/dumpIris.json\"))"
   ]
  },
  {
   "cell_type": "markdown",
   "metadata": {},
   "source": [
    "## Importando de um arquivo JSON para uma coleção"
   ]
  },
  {
   "cell_type": "code",
   "execution_count": 39,
   "metadata": {},
   "outputs": [],
   "source": [
    "# Criar uma nova conexão ao banco de dados\n",
    "irisDump <- mongo(collection = \"irisDump\", db = \"igti\", url = \"mongodb://localhost\")"
   ]
  },
  {
   "cell_type": "code",
   "execution_count": 40,
   "metadata": {},
   "outputs": [],
   "source": [
    "# Importar os documentos do arquivo para a nova coleção\n",
    "irisDump$import(file(\"C:/Bootcamp/Datasets/JSON/dumpIris.json\"))"
   ]
  },
  {
   "cell_type": "code",
   "execution_count": 41,
   "metadata": {},
   "outputs": [
    {
     "data": {
      "text/html": [
       "150"
      ],
      "text/latex": [
       "150"
      ],
      "text/markdown": [
       "150"
      ],
      "text/plain": [
       "[1] 150"
      ]
     },
     "metadata": {},
     "output_type": "display_data"
    }
   ],
   "source": [
    "irisDump$count()"
   ]
  },
  {
   "cell_type": "code",
   "execution_count": 42,
   "metadata": {},
   "outputs": [
    {
     "data": {
      "text/html": [
       "<table>\n",
       "<thead><tr><th scope=col>Sepal_Length</th><th scope=col>Sepal_Width</th><th scope=col>Petal_Length</th><th scope=col>Petal_Width</th><th scope=col>Species</th></tr></thead>\n",
       "<tbody>\n",
       "\t<tr><td>5.1   </td><td>3.5   </td><td>1.4   </td><td>0.2   </td><td>setosa</td></tr>\n",
       "\t<tr><td>4.9   </td><td>3.0   </td><td>1.4   </td><td>0.2   </td><td>setosa</td></tr>\n",
       "\t<tr><td>4.7   </td><td>3.2   </td><td>1.3   </td><td>0.2   </td><td>setosa</td></tr>\n",
       "\t<tr><td>4.6   </td><td>3.1   </td><td>1.5   </td><td>0.2   </td><td>setosa</td></tr>\n",
       "\t<tr><td>5.0   </td><td>3.6   </td><td>1.4   </td><td>0.2   </td><td>setosa</td></tr>\n",
       "</tbody>\n",
       "</table>\n"
      ],
      "text/latex": [
       "\\begin{tabular}{r|lllll}\n",
       " Sepal\\_Length & Sepal\\_Width & Petal\\_Length & Petal\\_Width & Species\\\\\n",
       "\\hline\n",
       "\t 5.1    & 3.5    & 1.4    & 0.2    & setosa\\\\\n",
       "\t 4.9    & 3.0    & 1.4    & 0.2    & setosa\\\\\n",
       "\t 4.7    & 3.2    & 1.3    & 0.2    & setosa\\\\\n",
       "\t 4.6    & 3.1    & 1.5    & 0.2    & setosa\\\\\n",
       "\t 5.0    & 3.6    & 1.4    & 0.2    & setosa\\\\\n",
       "\\end{tabular}\n"
      ],
      "text/markdown": [
       "\n",
       "| Sepal_Length | Sepal_Width | Petal_Length | Petal_Width | Species |\n",
       "|---|---|---|---|---|\n",
       "| 5.1    | 3.5    | 1.4    | 0.2    | setosa |\n",
       "| 4.9    | 3.0    | 1.4    | 0.2    | setosa |\n",
       "| 4.7    | 3.2    | 1.3    | 0.2    | setosa |\n",
       "| 4.6    | 3.1    | 1.5    | 0.2    | setosa |\n",
       "| 5.0    | 3.6    | 1.4    | 0.2    | setosa |\n",
       "\n"
      ],
      "text/plain": [
       "  Sepal_Length Sepal_Width Petal_Length Petal_Width Species\n",
       "1 5.1          3.5         1.4          0.2         setosa \n",
       "2 4.9          3.0         1.4          0.2         setosa \n",
       "3 4.7          3.2         1.3          0.2         setosa \n",
       "4 4.6          3.1         1.5          0.2         setosa \n",
       "5 5.0          3.6         1.4          0.2         setosa "
      ]
     },
     "metadata": {},
     "output_type": "display_data"
    }
   ],
   "source": [
    "irisDump$find(limit=5)"
   ]
  },
  {
   "cell_type": "code",
   "execution_count": 43,
   "metadata": {},
   "outputs": [],
   "source": [
    "rm(irisDump)  # Remove a conexão com a coleção irisDump"
   ]
  },
  {
   "cell_type": "markdown",
   "metadata": {},
   "source": [
    "## Desconectar"
   ]
  },
  {
   "cell_type": "code",
   "execution_count": 44,
   "metadata": {},
   "outputs": [],
   "source": [
    "# Desconectar do MongoDB\n",
    "iris$disconnect()"
   ]
  },
  {
   "cell_type": "code",
   "execution_count": 45,
   "metadata": {},
   "outputs": [
    {
     "name": "stderr",
     "output_type": "stream",
     "text": [
      "Connection lost. Trying to reconnect with mongo...\n"
     ]
    },
    {
     "data": {
      "text/html": [
       "150"
      ],
      "text/latex": [
       "150"
      ],
      "text/markdown": [
       "150"
      ],
      "text/plain": [
       "[1] 150"
      ]
     },
     "metadata": {},
     "output_type": "display_data"
    }
   ],
   "source": [
    "# Contar o número de documentos existentes na coleção iris\n",
    "iris$count()"
   ]
  },
  {
   "cell_type": "code",
   "execution_count": 46,
   "metadata": {},
   "outputs": [],
   "source": [
    "iris$disconnect(gc = TRUE)"
   ]
  },
  {
   "cell_type": "code",
   "execution_count": 47,
   "metadata": {},
   "outputs": [
    {
     "name": "stderr",
     "output_type": "stream",
     "text": [
      "Connection lost. Trying to reconnect with mongo...\n"
     ]
    },
    {
     "data": {
      "text/html": [
       "150"
      ],
      "text/latex": [
       "150"
      ],
      "text/markdown": [
       "150"
      ],
      "text/plain": [
       "[1] 150"
      ]
     },
     "metadata": {},
     "output_type": "display_data"
    }
   ],
   "source": [
    "iris$count()"
   ]
  },
  {
   "cell_type": "code",
   "execution_count": null,
   "metadata": {},
   "outputs": [],
   "source": []
  }
 ],
 "metadata": {
  "kernelspec": {
   "display_name": "R",
   "language": "R",
   "name": "ir"
  },
  "language_info": {
   "codemirror_mode": "r",
   "file_extension": ".r",
   "mimetype": "text/x-r-source",
   "name": "R",
   "pygments_lexer": "r",
   "version": "3.6.1"
  }
 },
 "nbformat": 4,
 "nbformat_minor": 4
}
