{
 "cells": [
  {
   "cell_type": "markdown",
   "metadata": {},
   "source": [
    "Coleta de Dados em Arquivo Texto (txt)"
   ]
  },
  {
   "cell_type": "code",
   "execution_count": 33,
   "metadata": {},
   "outputs": [
    {
     "data": {
      "text/plain": [
       "'\\nCódigo de exemplo da aula CDD 4.1:\\nColetando dados em arquivos utilizando o Python\\n'"
      ]
     },
     "execution_count": 33,
     "metadata": {},
     "output_type": "execute_result"
    }
   ],
   "source": [
    "# -*- coding: utf-8 *-*\n",
    "\"\"\"\n",
    "Código de exemplo da aula CDD 4.1:\n",
    "Coletando dados em arquivos utilizando o Python\n",
    "\"\"\""
   ]
  },
  {
   "cell_type": "markdown",
   "metadata": {},
   "source": [
    "1. Importando as bibliotecas"
   ]
  },
  {
   "cell_type": "code",
   "execution_count": 34,
   "metadata": {},
   "outputs": [],
   "source": [
    "import os\n",
    "from datetime import datetime"
   ]
  },
  {
   "cell_type": "markdown",
   "metadata": {},
   "source": [
    "2. Definindo os métodos"
   ]
  },
  {
   "cell_type": "code",
   "execution_count": 35,
   "metadata": {},
   "outputs": [],
   "source": [
    "# Classe para formatar a função print()\n",
    "class Color:\n",
    "    PURPLE = '\\033[95m'\n",
    "    CYAN = '\\033[96m'\n",
    "    DARKCYAN = '\\033[36m'\n",
    "    BLUE = '\\033[94m'\n",
    "    GREEN = '\\033[92m'\n",
    "    YELLOW = '\\033[93m'\n",
    "    RED = '\\033[91m'\n",
    "    ORANGE = '\\033[33m'\n",
    "    BOLD = '\\033[1m'\n",
    "    UNDERLINE = '\\033[4m'\n",
    "    END = '\\033[0m'\n",
    "\n",
    "color = Color()"
   ]
  },
  {
   "cell_type": "code",
   "execution_count": 36,
   "metadata": {},
   "outputs": [],
   "source": [
    "# Função que retorna o diretório de datasets\n",
    "def setDatasetPath():\n",
    "    return 'C:\\Bootcamp\\Datasets\\TXT'\n",
    "#-------------------------------------------\n",
    "# Método para leitura de arquivo (lê todo o conteúdo de uma vez)\n",
    "def readFileContent(filename):\n",
    "    try:\n",
    "        fileobject=open(filename, \"r\", encoding='utf-8')\n",
    "        print(color.BOLD+color.BLUE+'\\nO conteúdo do arquivo '+filename+' é:\\n'+color.END)\n",
    "        if fileobject.mode == 'r':\n",
    "            filecontents = fileobject.read()\n",
    "            print(filecontents)\n",
    "        fileobject.close()\n",
    "    except FileNotFoundError:\n",
    "        print(color.BOLD+color.RED+'\\nERRO AO TENTAR LER O ARQUIVO!! \\nO arquivo '+filename+ ' não existe!'+color.END)\n",
    "        #----------------------------------------------------------------\n",
    "\n",
    "#Método para leitura de arquivo\n",
    "def readFileLines(filename):\n",
    "    # lê cada linha do arquivo e insere-a em uma lista\n",
    "    try:\n",
    "        print(color.BOLD+color.BLUE+'\\nAs linhas do arquivo '+filename+' são:\\n'+color.END)\n",
    "        fileobject = open(filename, \"r\", encoding='utf-8')\n",
    "        filelines = fileobject.readlines()\n",
    "        \n",
    "        numline = 1 # variável de apoio para controle do número de linha\n",
    "        \n",
    "        # Loop -> para cada linha da lista filelines\n",
    "        for line in filelines:\n",
    "            print('Linha '+str(numline)+': '+line,end = '') # imprime o valor da linha e end exclui quebra de linha\n",
    "            numline = numline + 1\n",
    "            \n",
    "        # Fecha o objeto de leitura do arquivo\n",
    "        fileobject.close()\n",
    "    except FileNotFoundError:\n",
    "        print(color.BOLD+color.RED+'\\nERRO AO TENTAR LER O ARQUIVO!! \\n O arquivo '+filename+' não existe!'+color.END)\n",
    "#-------------------------------------------------------------------\n",
    "\n",
    "# Método para alteração de arquivo\n",
    "def appendFile(filename):\n",
    "    \n",
    "    # Abrir o arquivo em modo de alteração ou append\n",
    "    # a inclui o conteúdo no final do arquivo\n",
    "    # Um arquivo será criado se o arquivo especificado não existir\n",
    "    fileobject = open(filename, \"a\", encoding='utf-8')\n",
    "    \n",
    "    fileobject.write(\"\\n\")  # adiciona uma quebra de linha\n",
    "    \n",
    "    fileobject.write(\"\\nOlá pessoal!\")  # adiciona uma linha informando que é o final do arquivo\n",
    "    now = datetime.now()  # current date and time\n",
    "    date_time = now.strftime(\"%d/%m/%Y, %H:%M:%S\")  # busca a data e hora atual\n",
    "    fileobject.write(\"\\n--> Hoje é: \"+str(date_time))  # adiciona uma linha informando que dia é hoje\n",
    "    \n",
    "    fileobject.write(\"\\n\\n\")  # adiciona 2 quebras de linha\n",
    "    fileobject.write(\"Olá pessoal!\")  # adiciona uma linha informando que é o final do arquivo\n",
    "    fileobject.write(\"--> Hoje é: \"+str(date_time))  # adiciona o dia e hora\n",
    "    \n",
    "    fileobject.close()\n",
    "#------------------------------------------------------------------------------\n",
    "\n",
    "# Método para escrita de arquivo\n",
    "def writeFile(filename):\n",
    "    # Abre o arquivo em modo de escrita\n",
    "    # w substitui qualquer conteúdo existente\n",
    "    # Cria um arquivo se o arquivo especificado não existir\n",
    "    \n",
    "    fileobject = open(filename, \"w\", encoding = 'utf-8')\n",
    "    fileobject.write(\"Abri o arquivo \"+filename+ \" em modo de escrita (w)!\")\n",
    "    \n",
    "    now = datetime.now()  # current date and time\n",
    "    date_time = now.strftime(\"%d/%m/%Y, %H:%M:%S\")  # busca a data e hora atual\n",
    "    fileobject.write(\"\\n--> Hoje é: \"+str(date_time))  # adiciona uma linha informando que dia é hoje\n",
    "\n",
    "    fileobject.close()\n",
    "#------------------------------------------------------------------------\n",
    "\n",
    "# Método para criação de arquivo\n",
    "def createFile(filename):\n",
    "    \n",
    "    # Cria um novo arquivo usando o método open\n",
    "    # x cria um arquivo e retorna um erro se o arquivo já existir, ou seja, não sobrescreve\n",
    "    # filename = setDatasetPath() + \"\\escritorCreate1.txt\"\n",
    "    try:\n",
    "        fileobject = open(filename, \"x\", encoding = 'utf=8')\n",
    "        fileobject.write(\"Este é um novo arquivo criado usando o modo de criação x\")\n",
    "        fileobject.close()\n",
    "    except FileExistsError:\n",
    "        print('\\nERRO AO TENTAR CRIAR O ARQUIVO!! \\nO arquivo '+filename+' já existe!')\n",
    "        "
   ]
  },
  {
   "cell_type": "markdown",
   "metadata": {},
   "source": [
    "3. Executando os métodos criados (Main)"
   ]
  },
  {
   "cell_type": "code",
   "execution_count": 37,
   "metadata": {},
   "outputs": [],
   "source": [
    "# Verifica o diretório de trabalho e define o diretório de arquivos\n",
    "\n",
    "datasetPath = setDatasetPath()"
   ]
  },
  {
   "cell_type": "markdown",
   "metadata": {},
   "source": [
    "Leitura de arquivos TXT"
   ]
  },
  {
   "cell_type": "code",
   "execution_count": 41,
   "metadata": {},
   "outputs": [
    {
     "name": "stdout",
     "output_type": "stream",
     "text": [
      "\u001b[96mSerá lido o seguinte arquivo: \u001b[0mC:\\Bootcamp\\Datasets\\TXT\\arquivoTextoRead.txt\n"
     ]
    }
   ],
   "source": [
    "# Define arquivo para leitura\n",
    "filename = datasetPath + \"\\\\arquivoTextoRead.txt\"\n",
    "\n",
    "# Imprime texto com alinhamento centralizado\n",
    "print(color.CYAN+'Será lido o seguinte arquivo: '+color.END+filename)"
   ]
  },
  {
   "cell_type": "code",
   "execution_count": 42,
   "metadata": {},
   "outputs": [
    {
     "name": "stdout",
     "output_type": "stream",
     "text": [
      "\u001b[1m\u001b[94m\n",
      "O conteúdo do arquivo C:\\Bootcamp\\Datasets\\TXT\\arquivoTextoRead.txt é:\n",
      "\u001b[0m\n",
      "\n"
     ]
    }
   ],
   "source": [
    "# Invoca o método readFileContent(filename)\n",
    "readFileContent(filename)"
   ]
  },
  {
   "cell_type": "code",
   "execution_count": 43,
   "metadata": {},
   "outputs": [
    {
     "name": "stdout",
     "output_type": "stream",
     "text": [
      "\u001b[1m\u001b[94m\n",
      "As linhas do arquivo C:\\Bootcamp\\Datasets\\TXT\\arquivoTextoRead.txt são:\n",
      "\u001b[0m\n"
     ]
    }
   ],
   "source": [
    "# Invoca o método readFileLines(filename)\n",
    "readFileLines(filename)"
   ]
  },
  {
   "cell_type": "markdown",
   "metadata": {},
   "source": [
    "Alteração (append) de arquivo TXT"
   ]
  },
  {
   "cell_type": "code",
   "execution_count": 44,
   "metadata": {},
   "outputs": [
    {
     "name": "stdout",
     "output_type": "stream",
     "text": [
      "\u001b[1m\u001b[92mAppend em um arquivo que já existe!\n",
      "\u001b[0m\n",
      "\u001b[1m\u001b[94m\n",
      "O conteúdo do arquivo C:\\Bootcamp\\Datasets\\TXT\\arquivoTextoAppend1.txt é:\n",
      "\u001b[0m\n",
      "\n",
      "\u001b[1m\u001b[94m\n",
      "O conteúdo do arquivo C:\\Bootcamp\\Datasets\\TXT\\arquivoTextoAppend1.txt é:\n",
      "\u001b[0m\n",
      "\n",
      "\n",
      "Olá pessoal!\n",
      "--> Hoje é: 05/12/2020, 17:38:15\n",
      "\n",
      "Olá pessoal!--> Hoje é: 05/12/2020, 17:38:15\n"
     ]
    }
   ],
   "source": [
    "print(color.BOLD+color.GREEN+'Append em um arquivo que já existe!\\n'+color.END)\n",
    "# Abrir o arquivo em modo de alteração\n",
    "filename = datasetPath + \"\\\\arquivoTextoAppend1.txt\"\n",
    "# Ler o arquivo para conferir o conteúdo\n",
    "readFileContent(filename)\n",
    "# Invoca o método appendFile(filename)\n",
    "appendFile(filename)\n",
    "# Ler o arquivo para conferir o conteúdo após o append\n",
    "readFileContent(filename)"
   ]
  },
  {
   "cell_type": "code",
   "execution_count": 45,
   "metadata": {},
   "outputs": [
    {
     "name": "stdout",
     "output_type": "stream",
     "text": [
      "\u001b[1m\u001b[92mAppend em um arquivo que não existe!\n",
      "\u001b[0m\n",
      "\u001b[1m\u001b[91m\n",
      "ERRO AO TENTAR LER O ARQUIVO!! \n",
      "O arquivo C:\\Bootcamp\\Datasets\\TXT\\arquivoTextoAppend2.txt não existe!\u001b[0m\n",
      "\u001b[1m\u001b[94m\n",
      "O conteúdo do arquivo C:\\Bootcamp\\Datasets\\TXT\\arquivoTextoAppend2.txt é:\n",
      "\u001b[0m\n",
      "\n",
      "\n",
      "Olá pessoal!\n",
      "--> Hoje é: 05/12/2020, 17:38:21\n",
      "\n",
      "Olá pessoal!--> Hoje é: 05/12/2020, 17:38:21\n"
     ]
    }
   ],
   "source": [
    "print(color.BOLD+color.GREEN+'Append em um arquivo que não existe!\\n'+color.END)\n",
    "# Abrir o arquivo em modo de alteração\n",
    "filename = datasetPath + \"\\\\arquivoTextoAppend2.txt\"\n",
    "# Ler o arquivo para conferir o conteúdo\n",
    "readFileContent(filename)\n",
    "# Invoca o método appendFile(filename)\n",
    "appendFile(filename)\n",
    "# Ler o arquivo para conferir o conteúdo após o append\n",
    "readFileContent(filename)"
   ]
  },
  {
   "cell_type": "markdown",
   "metadata": {},
   "source": [
    "Escrita (write) de arquivo TXT"
   ]
  },
  {
   "cell_type": "code",
   "execution_count": 46,
   "metadata": {},
   "outputs": [
    {
     "name": "stdout",
     "output_type": "stream",
     "text": [
      "\u001b[1m\u001b[95mEscrever (sobrescrever) um arquivo que já existe!\n",
      "\u001b[0m\n",
      "\u001b[1m\u001b[94m\n",
      "O conteúdo do arquivo C:\\Bootcamp\\Datasets\\TXT\\arquivoTextoWrite1.txt é:\n",
      "\u001b[0m\n",
      "\n",
      "\u001b[1m\u001b[94m\n",
      "O conteúdo do arquivo C:\\Bootcamp\\Datasets\\TXT\\arquivoTextoWrite1.txt é:\n",
      "\u001b[0m\n",
      "Abri o arquivo C:\\Bootcamp\\Datasets\\TXT\\arquivoTextoWrite1.txt em modo de escrita (w)!\n",
      "--> Hoje é: 05/12/2020, 17:50:36\n"
     ]
    }
   ],
   "source": [
    "print(color.BOLD+color.PURPLE+'Escrever (sobrescrever) um arquivo que já existe!\\n'+color.END)\n",
    "# Abrir o arquivo em modo de escrita\n",
    "filename = datasetPath + \"\\\\arquivoTextoWrite1.txt\"\n",
    "# Ler o arquivo para conferir o conteúdo\n",
    "readFileContent(filename)\n",
    "# Invoca o método writeFile(filename)\n",
    "writeFile(filename)\n",
    "# Ler o arquivo para conferir o conteúdo\n",
    "readFileContent(filename)"
   ]
  },
  {
   "cell_type": "code",
   "execution_count": 47,
   "metadata": {},
   "outputs": [
    {
     "name": "stdout",
     "output_type": "stream",
     "text": [
      "\u001b[1m\u001b[95mEscrever um arquivo que não existe!\n",
      "\u001b[0m\n",
      "\u001b[1m\u001b[94m\n",
      "O conteúdo do arquivo C:\\Bootcamp\\Datasets\\TXT\\arquivoTextoWrite2.txt é:\n",
      "\u001b[0m\n",
      "Abri o arquivo C:\\Bootcamp\\Datasets\\TXT\\arquivoTextoWrite2.txt em modo de escrita (w)!\n",
      "--> Hoje é: 05/12/2020, 17:52:09\n"
     ]
    }
   ],
   "source": [
    "print(color.BOLD+color.PURPLE+'Escrever um arquivo que não existe!\\n'+color.END)\n",
    "filename = datasetPath + \"\\\\arquivoTextoWrite2.txt\"\n",
    "# Ler o arquivo para conferir o conteúdo\n",
    "readFileContent(filename)\n",
    "# Invoca o método writeFile(filename)\n",
    "writeFile(filename)\n",
    "# Ler o arquivo para conferir o conteúdo\n",
    "readFileContent(filename)"
   ]
  },
  {
   "cell_type": "markdown",
   "metadata": {},
   "source": [
    "Escrita (create) de arquivo TXT"
   ]
  },
  {
   "cell_type": "code",
   "execution_count": 48,
   "metadata": {},
   "outputs": [
    {
     "name": "stdout",
     "output_type": "stream",
     "text": [
      "\u001b[1m\u001b[33mCriar um arquivo que já existe!\n",
      "\u001b[0m\n",
      "\u001b[1m\u001b[94m\n",
      "O conteúdo do arquivo C:\\Bootcamp\\Datasets\\TXT\\arquivoTextoCreate1.txt é:\n",
      "\u001b[0m\n",
      "\n",
      "\n",
      "ERRO AO TENTAR CRIAR O ARQUIVO!! \n",
      "O arquivo C:\\Bootcamp\\Datasets\\TXT\\arquivoTextoCreate1.txt já existe!\n",
      "\u001b[1m\u001b[94m\n",
      "O conteúdo do arquivo C:\\Bootcamp\\Datasets\\TXT\\arquivoTextoCreate1.txt é:\n",
      "\u001b[0m\n",
      "\n"
     ]
    }
   ],
   "source": [
    "print(color.BOLD+color.ORANGE+'Criar um arquivo que já existe!\\n'+color.END)\n",
    "# Cria um novo arquivo usando o método open()\n",
    "filename = datasetPath + \"\\\\arquivoTextoCreate1.txt\"\n",
    "# Ler o arquivo para conferir o conteúdo\n",
    "readFileContent(filename)\n",
    "# Invoca o método writeFile(filename)\n",
    "createFile(filename)\n",
    "# Ler o arquivo para conferir o conteúdo\n",
    "readFileContent(filename)"
   ]
  },
  {
   "cell_type": "code",
   "execution_count": 49,
   "metadata": {},
   "outputs": [
    {
     "name": "stdout",
     "output_type": "stream",
     "text": [
      "\u001b[1m\u001b[33mCriar um arquivo que não existe!\n",
      "\u001b[0m\n",
      "\u001b[1m\u001b[91m\n",
      "ERRO AO TENTAR LER O ARQUIVO!! \n",
      "O arquivo C:\\Bootcamp\\Datasets\\TXT\\arquivoTextoCreate2.txt não existe!\u001b[0m\n",
      "\u001b[1m\u001b[94m\n",
      "O conteúdo do arquivo C:\\Bootcamp\\Datasets\\TXT\\arquivoTextoCreate2.txt é:\n",
      "\u001b[0m\n",
      "Este é um novo arquivo criado usando o modo de criação x\n"
     ]
    }
   ],
   "source": [
    "print(color.BOLD+color.ORANGE+'Criar um arquivo que não existe!\\n'+color.END)\n",
    "# Cria um novo arquivo usando o método open()\n",
    "filename = datasetPath + \"\\\\arquivoTextoCreate2.txt\"\n",
    "# Ler o arquivo para conferir o conteúdo\n",
    "readFileContent(filename)\n",
    "# Invoca o método writeFile(filename)\n",
    "createFile(filename)\n",
    "# Ler o arquivo para conferir o conteúdo\n",
    "readFileContent(filename)"
   ]
  },
  {
   "cell_type": "markdown",
   "metadata": {},
   "source": [
    "Listando arquivos de diretório"
   ]
  },
  {
   "cell_type": "code",
   "execution_count": 56,
   "metadata": {},
   "outputs": [
    {
     "name": "stdout",
     "output_type": "stream",
     "text": [
      "O diretório de trabalho é: C:\\Users\\vivie\n",
      "\u001b[1m\n",
      "A lista de arquivos e/ou diretórios é: \u001b[0m\n",
      "['arquivoTextoAppend1.txt', 'arquivoTextoAppend2.txt', 'arquivoTextoCreate1.txt', 'arquivoTextoCreate2.txt', 'arquivoTextoRead.txt', 'arquivoTextoWrite1.txt', 'arquivoTextoWrite2.txt']\n"
     ]
    }
   ],
   "source": [
    "# Lê o diretório de trabalho\n",
    "working_directory = os.getcwd()\n",
    "\n",
    "print('O diretório de trabalho é: ' + working_directory)\n",
    "\n",
    "# Lê os arquivos de um diretório específico\n",
    "filelist = os.listdir(datasetPath)\n",
    "print(color.BOLD+'\\nA lista de arquivos e/ou diretórios é: '+color.END)\n",
    "print(filelist)"
   ]
  },
  {
   "cell_type": "markdown",
   "metadata": {},
   "source": [
    "Lendo o conteúdo de cada arquivo do diretório"
   ]
  },
  {
   "cell_type": "code",
   "execution_count": 58,
   "metadata": {},
   "outputs": [
    {
     "name": "stdout",
     "output_type": "stream",
     "text": [
      "\u001b[1m\n",
      "Lendo o conteúdo do arquivo: \u001b[0mC:\\Bootcamp\\Datasets\\TXT\\arquivoTextoAppend1.txt\n",
      "\n",
      "\n",
      "Olá pessoal!\n",
      "--> Hoje é: 05/12/2020, 17:38:15\n",
      "\n",
      "Olá pessoal!--> Hoje é: 05/12/2020, 17:38:15\n",
      "\u001b[1m\n",
      "Lendo o conteúdo do arquivo: \u001b[0mC:\\Bootcamp\\Datasets\\TXT\\arquivoTextoAppend2.txt\n",
      "\n",
      "\n",
      "Olá pessoal!\n",
      "--> Hoje é: 05/12/2020, 17:38:21\n",
      "\n",
      "Olá pessoal!--> Hoje é: 05/12/2020, 17:38:21\n",
      "\u001b[1m\n",
      "Lendo o conteúdo do arquivo: \u001b[0mC:\\Bootcamp\\Datasets\\TXT\\arquivoTextoCreate1.txt\n",
      "\n",
      "\u001b[1m\n",
      "Lendo o conteúdo do arquivo: \u001b[0mC:\\Bootcamp\\Datasets\\TXT\\arquivoTextoCreate2.txt\n",
      "Este é um novo arquivo criado usando o modo de criação x\n",
      "\u001b[1m\n",
      "Lendo o conteúdo do arquivo: \u001b[0mC:\\Bootcamp\\Datasets\\TXT\\arquivoTextoRead.txt\n",
      "\n",
      "\u001b[1m\n",
      "Lendo o conteúdo do arquivo: \u001b[0mC:\\Bootcamp\\Datasets\\TXT\\arquivoTextoWrite1.txt\n",
      "Abri o arquivo C:\\Bootcamp\\Datasets\\TXT\\arquivoTextoWrite1.txt em modo de escrita (w)!\n",
      "--> Hoje é: 05/12/2020, 17:50:36\n",
      "\u001b[1m\n",
      "Lendo o conteúdo do arquivo: \u001b[0mC:\\Bootcamp\\Datasets\\TXT\\arquivoTextoWrite2.txt\n",
      "Abri o arquivo C:\\Bootcamp\\Datasets\\TXT\\arquivoTextoWrite2.txt em modo de escrita (w)!\n",
      "--> Hoje é: 05/12/2020, 17:52:09\n"
     ]
    }
   ],
   "source": [
    "# for filename in filelist:\n",
    "for filename in os.listdir(datasetPath):\n",
    "    if os.path.isfile(os.path.join(datasetPath, filename)):\n",
    "        fullfilename = datasetPath+'\\\\'+filename\n",
    "        try:\n",
    "            print(color.BOLD+'\\nLendo o conteúdo do arquivo: ' +color.END+fullfilename)\n",
    "            fileobject = open(fullfilename, \"r\", encoding='utf-8')\n",
    "            if fileobject.mode == 'r':\n",
    "                filecontents = fileobject.read()\n",
    "                print(filecontents)\n",
    "            fileobject.close()\n",
    "        except FileNotFoundError:\n",
    "            print(color.BOLD+color.RED+'\\n'+filename+' não é um arquivo!'+color.END)\n",
    "    else:\n",
    "        print(color.BOLD+color.BLUE+'\\n'+filename+' não é um arquivo!'+color.END)"
   ]
  },
  {
   "cell_type": "markdown",
   "metadata": {},
   "source": [
    "Removendo todos os arquivos de um diretório"
   ]
  },
  {
   "cell_type": "code",
   "execution_count": 63,
   "metadata": {},
   "outputs": [
    {
     "name": "stdout",
     "output_type": "stream",
     "text": [
      "Lista de arquivos: \n",
      "['arquivoTextoAppend1.txt', 'arquivoTextoAppend2.txt', 'arquivoTextoCreate1.txt', 'arquivoTextoCreate2.txt', 'arquivoTextoRead.txt', 'arquivoTextoWrite1.txt', 'arquivoTextoWrite2.txt']\n",
      "\n",
      "Lista de arquivos após exclusão: \n",
      "[]\n"
     ]
    }
   ],
   "source": [
    "folder = 'C:\\\\Bootcamp\\\\Datasets\\\\TXT\\\\target'\n",
    "\n",
    "filelist = os.listdir(folder)\n",
    "print('Lista de arquivos: ', sep=\"\")\n",
    "print(filelist)\n",
    "\n",
    "for filename in os.listdir(folder):\n",
    "    try:\n",
    "        if os.path.isfile(os.path.join(folder, filename)):\n",
    "            filepath = os.path.join(folder, filename)\n",
    "            os.unlink(filepath)\n",
    "    except Exception as e:\n",
    "        print('Falha ao excluir %s. \\n Razão da falha: %s' % (filepath, e))\n",
    "\n",
    "filelist = os.listdir(folder)\n",
    "print('\\nLista de arquivos após exclusão: ', sep=\"\")\n",
    "print(filelist)"
   ]
  },
  {
   "cell_type": "markdown",
   "metadata": {},
   "source": [
    "Movendo aquivos de um diretório para outro"
   ]
  },
  {
   "cell_type": "code",
   "execution_count": 64,
   "metadata": {},
   "outputs": [
    {
     "name": "stdout",
     "output_type": "stream",
     "text": [
      "Arquivos na origem: \n",
      "['arquivoTextoAppend1.txt', 'arquivoTextoAppend2.txt', 'arquivoTextoCreate1.txt', 'arquivoTextoCreate2.txt', 'arquivoTextoRead.txt', 'arquivoTextoWrite1.txt', 'arquivoTextoWrite2.txt']\n",
      "\n",
      "Arquivos no destino: \n",
      "[]\n",
      "Arquivos na origem após mover: \n",
      "[]\n",
      "\n",
      "Arquivos no destino após mover: \n",
      "['arquivoTextoAppend1.txt', 'arquivoTextoAppend2.txt', 'arquivoTextoCreate1.txt', 'arquivoTextoCreate2.txt', 'arquivoTextoRead.txt', 'arquivoTextoWrite1.txt', 'arquivoTextoWrite2.txt']\n"
     ]
    }
   ],
   "source": [
    "import shutil\n",
    "\n",
    "folderSource = 'C:\\\\Bootcamp\\\\Datasets\\\\TXT\\\\source'\n",
    "folderTarget = 'C:\\\\Bootcamp\\\\Datasets\\\\TXT\\\\target'\n",
    "\n",
    "sourceList = os.listdir(folderSource)\n",
    "targetList = os.listdir(folderTarget)\n",
    "\n",
    "print('Arquivos na origem: ', sep=\"\")\n",
    "print(sourceList)\n",
    "print('\\nArquivos no destino: ', sep=\"\")\n",
    "print(targetList)\n",
    "\n",
    "for filename in sourceList:\n",
    "    try:\n",
    "        if os.path.isfile(os.path.join(folderSource, filename)):\n",
    "            filepath = os.path.join(folderSource, filename)\n",
    "            shutil.move(filepath, folderTarget)\n",
    "    except Exception as e:\n",
    "        print('Falha ao excluir %s. \\nRazão da falha: %s' % (filepath, e))\n",
    "\n",
    "sourceList = os.listdir(folderSource)\n",
    "targetList = os.listdir(folderTarget)\n",
    "\n",
    "print('Arquivos na origem após mover: ', sep=\"\")\n",
    "print(sourceList)\n",
    "print('\\nArquivos no destino após mover: ', sep=\"\")\n",
    "print(targetList)"
   ]
  },
  {
   "cell_type": "markdown",
   "metadata": {},
   "source": [
    "Copiando arquivos de um diretório para outro"
   ]
  },
  {
   "cell_type": "code",
   "execution_count": 66,
   "metadata": {},
   "outputs": [
    {
     "name": "stdout",
     "output_type": "stream",
     "text": [
      "\n",
      "Arquivos na origem após cópia: \n",
      "['arquivoTextoAppend1.txt', 'arquivoTextoAppend2.txt', 'arquivoTextoCreate1.txt', 'arquivoTextoCreate2.txt', 'arquivoTextoRead.txt', 'arquivoTextoWrite1.txt', 'arquivoTextoWrite2.txt']\n",
      "\n",
      "Arquivos no destino após cópia: \n",
      "['arquivoTextoAppend1.txt', 'arquivoTextoAppend2.txt', 'arquivoTextoCreate1.txt', 'arquivoTextoCreate2.txt', 'arquivoTextoRead.txt', 'arquivoTextoWrite1.txt', 'arquivoTextoWrite2.txt']\n"
     ]
    }
   ],
   "source": [
    "sourceList = os.listdir(folderSource)\n",
    "targetList = os.listdir(folderTarget)\n",
    "\n",
    "for filename in targetList:\n",
    "    try:\n",
    "        if os.path.isfile(os.path.join(folderTarget, filename)):\n",
    "            filepath = os.path.join(folderTarget, filename)\n",
    "            filepath2 = os.path.join(folderSource, filename)\n",
    "            shutil.copy(filepath, filepath2)\n",
    "    except Exception as e:\n",
    "        print('Falha ao excluir %s. \\nRazão da falha: %s' % (filepath, e))\n",
    "        \n",
    "sourceList = os.listdir(folderSource)\n",
    "targetList = os.listdir(folderTarget)\n",
    "\n",
    "print('\\nArquivos na origem após cópia: ', sep=\"\")\n",
    "print(sourceList)\n",
    "print('\\nArquivos no destino após cópia: ', sep=\"\")\n",
    "print(targetList)"
   ]
  },
  {
   "cell_type": "markdown",
   "metadata": {},
   "source": [
    "Renomeando arquivos"
   ]
  },
  {
   "cell_type": "code",
   "execution_count": 68,
   "metadata": {},
   "outputs": [
    {
     "name": "stdout",
     "output_type": "stream",
     "text": [
      "\n",
      "Lista de arquivos: \n",
      "['arquivoTexto.txt', 'arquivoTextoAppend1.txt', 'arquivoTextoAppend2.txt', 'arquivoTextoCreate1.txt', 'arquivoTextoCreate2.txt', 'arquivoTextoRead.txt', 'arquivoTextoWrite1.txt', 'arquivoTextoWrite2.txt']\n",
      "\n",
      "Lista de arquivos após renomear: \n",
      "['arquivoTextoAppend1.txt', 'arquivoTextoAppend2.txt', 'arquivoTextoCreate1.txt', 'arquivoTextoCreate2.txt', 'arquivoTextoRead.txt', 'arquivoTextoRenomeado.txt', 'arquivoTextoWrite1.txt', 'arquivoTextoWrite2.txt']\n"
     ]
    }
   ],
   "source": [
    "filenameSource = 'arquivoTexto.txt'\n",
    "filenameTarget = 'arquivoTextoRenomeado.txt'\n",
    "\n",
    "old_file = os.path.join(folderTarget, filenameSource)\n",
    "new_file = os.path.join(folderTarget, filenameTarget)\n",
    "\n",
    "filelist = os.listdir(folderTarget)\n",
    "print('\\nLista de arquivos: ', sep=\"\")\n",
    "print(filelist)\n",
    "\n",
    "os.rename(old_file, new_file)\n",
    "\n",
    "filelist = os.listdir(folderTarget)\n",
    "print('\\nLista de arquivos após renomear: ', sep=\"\")\n",
    "print(filelist)"
   ]
  },
  {
   "cell_type": "code",
   "execution_count": null,
   "metadata": {},
   "outputs": [],
   "source": []
  },
  {
   "cell_type": "code",
   "execution_count": null,
   "metadata": {},
   "outputs": [],
   "source": []
  }
 ],
 "metadata": {
  "kernelspec": {
   "display_name": "Python 3",
   "language": "python",
   "name": "python3"
  },
  "language_info": {
   "codemirror_mode": {
    "name": "ipython",
    "version": 3
   },
   "file_extension": ".py",
   "mimetype": "text/x-python",
   "name": "python",
   "nbconvert_exporter": "python",
   "pygments_lexer": "ipython3",
   "version": "3.8.5"
  }
 },
 "nbformat": 4,
 "nbformat_minor": 4
}
